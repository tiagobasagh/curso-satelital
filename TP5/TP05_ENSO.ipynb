{
 "cells": [
  {
   "cell_type": "code",
   "execution_count": null,
   "metadata": {
    "colab": {
     "base_uri": "https://localhost:8080/"
    },
    "executionInfo": {
     "elapsed": 41530,
     "status": "ok",
     "timestamp": 1694705641111,
     "user": {
      "displayName": "Laura Ruiz",
      "userId": "03981579707778611338"
     },
     "user_tz": 180
    },
    "id": "QjzQCKieQbIc",
    "outputId": "28cdf468-8070-45d7-f20d-0c89d1a2f990"
   },
   "outputs": [],
   "source": [
    "import numpy as np\n",
    "import matplotlib.pyplot as plt\n",
    "import xarray as xr\n",
    "\n",
    "\n",
    "%pip uninstall shapely\n",
    "%pip install shapely --no-binary shapely # HAY QUE RESPONDER Y (YES)\n",
    "%pip install --upgrade cartopy\n",
    "import cartopy.crs as ccrs\n",
    "import cartopy.feature as cfeature\n",
    "from cartopy.mpl.gridliner import LONGITUDE_FORMATTER, LATITUDE_FORMATTER\n",
    "import matplotlib.ticker as mticker\n",
    "from mpl_toolkits.axes_grid1.axes_divider import make_axes_locatable\n"
   ]
  },
  {
   "cell_type": "markdown",
   "metadata": {
    "id": "DPWbQ-diRJsJ"
   },
   "source": [
    "Comenzamos la practica 5!\n",
    "No se olviden de cargar los datos en drive y a plotear!\n",
    "\n",
    "EJERCICIO 2\n",
    "Abrimos y ploteamos los datos de SST fase positiva"
   ]
  },
  {
   "cell_type": "code",
   "execution_count": null,
   "metadata": {
    "colab": {
     "base_uri": "https://localhost:8080/",
     "height": 624
    },
    "executionInfo": {
     "elapsed": 3962,
     "status": "ok",
     "timestamp": 1694705895462,
     "user": {
      "displayName": "Laura Ruiz",
      "userId": "03981579707778611338"
     },
     "user_tz": 180
    },
    "id": "62ccF7EPRUs0",
    "outputId": "a29032bc-990f-49fc-dd31-8130c708a6f8"
   },
   "outputs": [],
   "source": [
    "# Cargo SST para fase positiva\n",
    "sst1 = xr.open_dataset('/content/g4.timeAvgMap.MODISA_L3m_NSST_Monthly_9km_R2019_0_sst.20150801-20151031.134W_45S_33W_17N.nc',decode_times=False)\n",
    "#sst1 = xr.open_dataset('/Users/laura/OneDrive - cima.fcen.uba.ar/Oceanografia_satelital/2023/TP5/g4.timeAvgMap.MODISA_L3m_NSST_Monthly_9km_R2019_0_sst.20150801-20151031.134W_45S_33W_17N.nc')\n",
    "\n",
    "# miro metadata\n",
    "sst1\n",
    "\n",
    "# chequeo unidades\n",
    "sst1.MODISA_L3m_NSST_Monthly_9km_R2019_0_sst.units\n",
    "\n",
    "# cargo variables\n",
    "lon = sst1.lon.data\n",
    "lat = sst1.lat.data\n",
    "sst_pos = sst1.MODISA_L3m_NSST_Monthly_9km_R2019_0_sst.data\n",
    "\n",
    "# grafico\n",
    "fig = plt.figure(figsize=(10, 8), facecolor='white')\n",
    "ax = plt.axes(projection=ccrs.Mercator())\n",
    "lon_min = -180; lon_max = -45\n",
    "lat_min = -45; lat_max = 20\n",
    "ax.set_extent([lon_min, lon_max, lat_min, lat_max],crs = ccrs.PlateCarree()) # min lon, max lon, min lat, max lat\n",
    "ax.add_feature(cfeature.LAND, color='silver')\n",
    "ax.add_feature(cfeature.LAKES, color='lightcyan')\n",
    "ax.add_feature(cfeature.RIVERS, edgecolor='black')\n",
    "ax.coastlines(resolution='50m', color='black', linewidth=1)\n",
    "plt.title('SST, fase positiva',color='black', size=14)\n",
    "cm = plt.pcolormesh(lon,lat,sst_pos,vmin = np.nanmin(sst_pos),vmax = np.nanmax(sst_pos),cmap = 'jet',transform = ccrs.PlateCarree())\n",
    "divider = make_axes_locatable(ax)\n",
    "ax_cb = divider.new_horizontal(size=\"5%\", pad=0.1, axes_class=plt.Axes)\n",
    "\n",
    "fig.add_axes(ax_cb)\n",
    "plt.colorbar(cm,cax=ax_cb)\n",
    "\n",
    "# elegir el rango de valores de sst que destaque mejor lo que queremos ver\n",
    "cm.set_clim(10,28)\n",
    "\n",
    "gl = ax.gridlines(crs=ccrs.PlateCarree(), draw_labels=True, linewidth=0.8, linestyle='dotted')\n",
    "gl.top_labels = False; gl.right_labels = False\n",
    "#gl.ylabels_right = False; gl.xlabels_top = False\n",
    "gl.xlocator = mticker.FixedLocator([-180,-160,-140,-120,-100,-80,-60,-40])\n",
    "gl.ylocator = mticker.FixedLocator([-50,-40,-30,-20,-10,0,10,20])\n",
    "gl.xformatter = LONGITUDE_FORMATTER; gl.yformatter = LATITUDE_FORMATTER\n",
    "gl.xlabel_style = {'size': 13}\n",
    "gl.ylabel_style = {'size': 13}\n",
    "plt.show()"
   ]
  },
  {
   "cell_type": "markdown",
   "metadata": {
    "id": "_blye-EDRlr7"
   },
   "source": [
    "Ahora abrimos y ploteamos los datos de SST de la fase negativa"
   ]
  },
  {
   "cell_type": "code",
   "execution_count": null,
   "metadata": {
    "colab": {
     "base_uri": "https://localhost:8080/",
     "height": 465
    },
    "executionInfo": {
     "elapsed": 2765,
     "status": "ok",
     "timestamp": 1694705905356,
     "user": {
      "displayName": "Laura Ruiz",
      "userId": "03981579707778611338"
     },
     "user_tz": 180
    },
    "id": "LCaZa5_WR8nl",
    "outputId": "c8ea2a61-1985-47a4-d37f-e2ff3871f517"
   },
   "outputs": [],
   "source": [
    "# Cargo SST para fase negativa\n",
    "sst2 = xr.open_dataset('/content/g4.timeAvgMap.MODISA_L3m_NSST_Monthly_9km_R2019_0_sst.20220801-20221031.134W_45S_33W_17N.nc',decode_times=False)\n",
    "#sst2 = xr.open_dataset('/Users/laura/OneDrive - cima.fcen.uba.ar/Oceanografia_satelital/2023/TP5/g4.timeAvgMap.MODISA_L3m_NSST_Monthly_9km_R2019_0_sst.20220801-20221031.134W_45S_33W_17N.nc')\n",
    "\n",
    "# miro metadata\n",
    "sst2\n",
    "\n",
    "# chequeo unidades\n",
    "sst2.MODISA_L3m_NSST_Monthly_9km_R2019_0_sst.units\n",
    "\n",
    "# cargo variables\n",
    "#lon = sst2.lon.data\n",
    "#lat = sst2.lat.data\n",
    "sst_neg = sst2.MODISA_L3m_NSST_Monthly_9km_R2019_0_sst.data\n",
    "\n",
    "# grafico\n",
    "fig = plt.figure(figsize=(10, 8), facecolor='white')\n",
    "ax = plt.axes(projection=ccrs.Mercator())\n",
    "lon_min = -180; lon_max = -45\n",
    "lat_min = -45; lat_max = 20\n",
    "ax.set_extent([lon_min, lon_max, lat_min, lat_max],crs = ccrs.PlateCarree()) # min lon, max lon, min lat, max lat\n",
    "ax.add_feature(cfeature.LAND, color='silver')\n",
    "ax.add_feature(cfeature.LAKES, color='lightcyan')\n",
    "ax.add_feature(cfeature.RIVERS, edgecolor='black')\n",
    "ax.coastlines(resolution='50m', color='black', linewidth=1)\n",
    "plt.title('SST, fase negativa',color='black', size=14)\n",
    "\n",
    "cm = plt.pcolormesh(lon,lat,sst_neg,vmin = np.nanmin(sst_neg),vmax = np.nanmax(sst_neg),cmap = 'jet',transform = ccrs.PlateCarree())\n",
    "divider = make_axes_locatable(ax)\n",
    "ax_cb = divider.new_horizontal(size=\"5%\", pad=0.1, axes_class=plt.Axes)\n",
    "\n",
    "fig.add_axes(ax_cb)\n",
    "plt.colorbar(cm,cax=ax_cb)\n",
    "\n",
    "# elegir el rango de valores de sst que destaque mejor lo que queremos ver\n",
    "cm.set_clim(10,28)\n",
    "\n",
    "gl = ax.gridlines(crs=ccrs.PlateCarree(), draw_labels=True, linewidth=0.8, linestyle='dotted')\n",
    "gl.top_labels = False; gl.right_labels = False\n",
    "#gl.ylabels_right = False; gl.xlabels_top = False\n",
    "gl.xlocator = mticker.FixedLocator([-180,-160,-140,-120,-100,-80,-60,-40])\n",
    "gl.ylocator = mticker.FixedLocator([-50,-40,-30,-20,-10,0,10,20])\n",
    "gl.xformatter = LONGITUDE_FORMATTER; gl.yformatter = LATITUDE_FORMATTER\n",
    "gl.xlabel_style = {'size': 13}\n",
    "gl.ylabel_style = {'size': 13}\n",
    "plt.show()\n",
    "\n"
   ]
  },
  {
   "cell_type": "markdown",
   "metadata": {
    "id": "NzrU40bqSEXW"
   },
   "source": [
    "Analizamos las diferencias de temperatura entre los eventos. Se puede hacer la diferencia total (Niño - Niña) o la diferencia (Niña - neutro) y (Niño - neutro)"
   ]
  },
  {
   "cell_type": "code",
   "execution_count": null,
   "metadata": {
    "colab": {
     "base_uri": "https://localhost:8080/",
     "height": 465
    },
    "executionInfo": {
     "elapsed": 2175,
     "status": "ok",
     "timestamp": 1694705914948,
     "user": {
      "displayName": "Laura Ruiz",
      "userId": "03981579707778611338"
     },
     "user_tz": 180
    },
    "id": "MjUj2xBlSYnA",
    "outputId": "2ef92b3a-46dc-4dec-85d2-2699cc0fd363"
   },
   "outputs": [],
   "source": [
    "# Hago la diferencia entre fase positiva y negativa\n",
    "fig = plt.figure(figsize=(10, 8), facecolor='white')\n",
    "ax = plt.axes(projection=ccrs.Mercator())\n",
    "lon_min = -180; lon_max = -45\n",
    "lat_min = -45; lat_max = 20\n",
    "ax.set_extent([lon_min, lon_max, lat_min, lat_max],crs = ccrs.PlateCarree()) # min lon, max lon, min lat, max lat\n",
    "ax.add_feature(cfeature.LAND, color='silver')\n",
    "ax.add_feature(cfeature.LAKES, color='lightcyan')\n",
    "ax.add_feature(cfeature.RIVERS, edgecolor='black')\n",
    "ax.coastlines(resolution='50m', color='black', linewidth=1)\n",
    "plt.title('Anomalia de SST, fase positiva - fase negativa',color='black', size=14)\n",
    "cm = plt.pcolormesh(lon,lat,sst_pos-sst_neg,vmin = np.nanmin(sst_pos-sst_neg),vmax = np.nanmax(sst_pos-sst_neg),cmap = 'seismic',transform = ccrs.PlateCarree())\n",
    "divider = make_axes_locatable(ax)\n",
    "ax_cb = divider.new_horizontal(size=\"5%\", pad=0.1, axes_class=plt.Axes)\n",
    "\n",
    "fig.add_axes(ax_cb)\n",
    "plt.colorbar(cm,cax=ax_cb)\n",
    "\n",
    "# elegir el rango de valores de sst que destaque mejor lo que queremos ver\n",
    "cm.set_clim(-5,5)\n",
    "\n",
    "gl = ax.gridlines(crs=ccrs.PlateCarree(), draw_labels=True, linewidth=0.8, linestyle='dotted')\n",
    "gl.top_labels = False; gl.right_labels = False\n",
    "#gl.ylabels_right = False; gl.xlabels_top = False\n",
    "gl.xlocator = mticker.FixedLocator([-180,-160,-140,-120,-100,-80,-60,-40])\n",
    "gl.ylocator = mticker.FixedLocator([-50,-40,-30,-20,-10,0,10,20])\n",
    "gl.xformatter = LONGITUDE_FORMATTER; gl.yformatter = LATITUDE_FORMATTER\n",
    "gl.xlabel_style = {'size': 13}\n",
    "gl.ylabel_style = {'size': 13}\n",
    "plt.show()\n"
   ]
  },
  {
   "cell_type": "markdown",
   "metadata": {
    "id": "rCLWIrWNSgQg"
   },
   "source": [
    "EJERCICIO 4"
   ]
  },
  {
   "cell_type": "markdown",
   "metadata": {
    "id": "aKyIwf82Sium"
   },
   "source": [
    "Abrimos y ploteamos los datos de anomalia del nivel del mar (SLA)"
   ]
  },
  {
   "cell_type": "code",
   "execution_count": null,
   "metadata": {
    "colab": {
     "base_uri": "https://localhost:8080/",
     "height": 500
    },
    "executionInfo": {
     "elapsed": 2403,
     "status": "ok",
     "timestamp": 1694705924138,
     "user": {
      "displayName": "Laura Ruiz",
      "userId": "03981579707778611338"
     },
     "user_tz": 180
    },
    "id": "5QQhydwXSoOO",
    "outputId": "2710c338-bd82-4bfe-bb15-0e63e4658a54"
   },
   "outputs": [],
   "source": [
    "# cargo SLA fase positiva\n",
    "alt = xr.open_dataset('/content/SLA_fase_positiva_ENSO.nc',decode_times=False)\n",
    "#alt = xr.open_dataset('/Users/Laura/OneDrive - cima.fcen.uba.ar/Oceanografia_satelital/2023/TP5/SLA_fase_positiva_ENSO.nc')\n",
    "\n",
    "# Vemos la metadata del xarray\n",
    "alt\n",
    "\n",
    "lon = alt.longitude.data-360\n",
    "lat = alt.latitude.data\n",
    "sla_pos = alt.sla.data\n",
    "time = alt.time.data\n",
    "\n",
    "# Grafico\n",
    "fig = plt.figure(figsize=(10, 8), facecolor='white')\n",
    "ax = plt.axes(projection=ccrs.Mercator())\n",
    "lon_min = -180; lon_max = -45\n",
    "lat_min = -45; lat_max = 20\n",
    "ax.set_extent([lon_min, lon_max, lat_min, lat_max],crs = ccrs.PlateCarree()) # min lon, max lon, min lat, max lat\n",
    "ax.add_feature(cfeature.LAND, color='silver')\n",
    "ax.add_feature(cfeature.LAKES, color='lightcyan')\n",
    "ax.add_feature(cfeature.RIVERS, edgecolor='black')\n",
    "ax.coastlines(resolution='50m', color='black', linewidth=1)\n",
    "plt.title('SLA, fase positiva',color='black', size=14)\n",
    "cm = plt.pcolormesh(lon,lat,np.nanmean(sla_pos,axis=0),cmap = 'seismic',transform = ccrs.PlateCarree())\n",
    "divider = make_axes_locatable(ax)\n",
    "ax_cb = divider.new_horizontal(size=\"5%\", pad=0.1, axes_class=plt.Axes)\n",
    "\n",
    "fig.add_axes(ax_cb)\n",
    "plt.colorbar(cm,cax=ax_cb)\n",
    "cm.set_clim(-.5,.5)\n",
    "\n",
    "gl = ax.gridlines(crs=ccrs.PlateCarree(), draw_labels=True, linewidth=0.8, linestyle='dotted')\n",
    "gl.top_labels = False; gl.right_labels = False\n",
    "#gl.ylabels_right = False; gl.xlabels_top = False\n",
    "gl.xlocator = mticker.FixedLocator([-180,-160,-140,-120,-100,-80,-60,-40])\n",
    "gl.ylocator = mticker.FixedLocator([-40,-30,-20,-10,0,10,20])\n",
    "gl.xformatter = LONGITUDE_FORMATTER; gl.yformatter = LATITUDE_FORMATTER\n",
    "gl.xlabel_style = {'size': 13}\n",
    "gl.ylabel_style = {'size': 13}\n",
    "plt.show()\n"
   ]
  },
  {
   "cell_type": "code",
   "execution_count": null,
   "metadata": {
    "colab": {
     "base_uri": "https://localhost:8080/",
     "height": 500
    },
    "executionInfo": {
     "elapsed": 2288,
     "status": "ok",
     "timestamp": 1694706034079,
     "user": {
      "displayName": "Laura Ruiz",
      "userId": "03981579707778611338"
     },
     "user_tz": 180
    },
    "id": "V0LQ7g17TEF_",
    "outputId": "c1daa123-b317-4526-b24e-6d30ba5bb3aa"
   },
   "outputs": [],
   "source": [
    "# cargo SLA fase negativa\n",
    "alt = xr.open_dataset('/content/SLA_fase_negativa_ENSO.nc')\n",
    "#alt = xr.open_dataset('/Users/Laura/OneDrive - cima.fcen.uba.ar/Oceanografia_satelital/2023/TP5/SLA_fase_negativa_ENSO.nc')\n",
    "\n",
    "# Vemos la metadata del xarray\n",
    "alt\n",
    "\n",
    "lon = alt.longitude.data-360\n",
    "lat = alt.latitude.data\n",
    "sla_neg = alt.sla.data\n",
    "time = alt.time.data\n",
    "\n",
    "# Grafico\n",
    "fig = plt.figure(figsize=(10, 8), facecolor='white')\n",
    "ax = plt.axes(projection=ccrs.Mercator())\n",
    "lon_min = -180; lon_max = -45\n",
    "lat_min = -45; lat_max = 20\n",
    "ax.set_extent([lon_min, lon_max, lat_min, lat_max],crs = ccrs.PlateCarree()) # min lon, max lon, min lat, max lat\n",
    "ax.add_feature(cfeature.LAND, color='silver')\n",
    "ax.add_feature(cfeature.LAKES, color='lightcyan')\n",
    "ax.add_feature(cfeature.RIVERS, edgecolor='black')\n",
    "ax.coastlines(resolution='50m', color='black', linewidth=1)\n",
    "plt.title('SLA, fase negativa',color='black', size=14)\n",
    "cm = plt.pcolormesh(lon,lat,np.nanmean(sla_neg,axis=0),cmap = 'seismic',transform = ccrs.PlateCarree())\n",
    "divider = make_axes_locatable(ax)\n",
    "ax_cb = divider.new_horizontal(size=\"5%\", pad=0.1, axes_class=plt.Axes)\n",
    "\n",
    "fig.add_axes(ax_cb)\n",
    "plt.colorbar(cm,cax=ax_cb)\n",
    "cm.set_clim(-.5,.5)\n",
    "\n",
    "gl = ax.gridlines(crs=ccrs.PlateCarree(), draw_labels=True, linewidth=0.8, linestyle='dotted')\n",
    "\n",
    "gl.top_labels = False; gl.right_labels = False\n",
    "#gl.ylabels_right = False; gl.xlabels_top = False\n",
    "gl.xlocator = mticker.FixedLocator([-180,-160,-140,-120,-100,-80,-60,-40])\n",
    "gl.ylocator = mticker.FixedLocator([-40,-30,-20,-10,0,10,20])\n",
    "gl.xformatter = LONGITUDE_FORMATTER; gl.yformatter = LATITUDE_FORMATTER\n",
    "gl.xlabel_style = {'size': 13}\n",
    "gl.ylabel_style = {'size': 13}\n",
    "plt.show()\n"
   ]
  },
  {
   "cell_type": "code",
   "execution_count": null,
   "metadata": {
    "colab": {
     "base_uri": "https://localhost:8080/",
     "height": 500
    },
    "executionInfo": {
     "elapsed": 2665,
     "status": "ok",
     "timestamp": 1694706046120,
     "user": {
      "displayName": "Laura Ruiz",
      "userId": "03981579707778611338"
     },
     "user_tz": 180
    },
    "id": "57OZaAthTUtZ",
    "outputId": "6bcc3d3c-8d39-46e3-bd35-a81f9efcd783"
   },
   "outputs": [],
   "source": [
    "# cargo SLA fase neutra\n",
    "alt = xr.open_dataset('/content/SLA_fase_neutra.nc')\n",
    "#alt = xr.open_dataset('/Users/Laura/OneDrive - cima.fcen.uba.ar/Oceanografia_satelital/2023/TP5/SLA_fase_neutra.nc')\n",
    "\n",
    "# Vemos la metadata del xarray\n",
    "alt\n",
    "\n",
    "lon = alt.longitude.data-360\n",
    "lat = alt.latitude.data\n",
    "sla_n = alt.sla.data\n",
    "time = alt.time.data\n",
    "\n",
    "# Grafico\n",
    "fig = plt.figure(figsize=(10, 8), facecolor='white')\n",
    "ax = plt.axes(projection=ccrs.Mercator())\n",
    "lon_min = -180; lon_max = -45\n",
    "lat_min = -45; lat_max = 20\n",
    "ax.set_extent([lon_min, lon_max, lat_min, lat_max],crs = ccrs.PlateCarree()) # min lon, max lon, min lat, max lat\n",
    "ax.add_feature(cfeature.LAND, color='silver')\n",
    "ax.add_feature(cfeature.LAKES, color='lightcyan')\n",
    "ax.add_feature(cfeature.RIVERS, edgecolor='black')\n",
    "ax.coastlines(resolution='50m', color='black', linewidth=1)\n",
    "plt.title('SLA, fase neutra',color='black', size=14)\n",
    "\n",
    "cm = plt.pcolormesh(lon,lat,np.nanmean(sla_n,axis=0),cmap = 'seismic',transform = ccrs.PlateCarree())\n",
    "divider = make_axes_locatable(ax)\n",
    "ax_cb = divider.new_horizontal(size=\"5%\", pad=0.1, axes_class=plt.Axes)\n",
    "\n",
    "fig.add_axes(ax_cb)\n",
    "plt.colorbar(cm,cax=ax_cb)\n",
    "cm.set_clim(-.5,.5)\n",
    "\n",
    "gl = ax.gridlines(crs=ccrs.PlateCarree(), draw_labels=True, linewidth=0.8, linestyle='dotted')\n",
    "gl.top_labels = False; gl.right_labels = False\n",
    "#gl.ylabels_right = False; gl.xlabels_top = False\n",
    "gl.xlocator = mticker.FixedLocator([-180,-160,-140,-120,-100,-80,-60,-40])\n",
    "gl.ylocator = mticker.FixedLocator([-40,-30,-20,-10,0,10,20])\n",
    "gl.xformatter = LONGITUDE_FORMATTER; gl.yformatter = LATITUDE_FORMATTER\n",
    "gl.xlabel_style = {'size': 13}\n",
    "gl.ylabel_style = {'size': 13}\n",
    "plt.show()\n"
   ]
  },
  {
   "cell_type": "markdown",
   "metadata": {
    "id": "5vZ6VsxNTgiS"
   },
   "source": [
    "Analizamos las diferencias de SLA entre los eventos. Se puede hacer la diferencia total (Niño - Niña) o la diferencia (Niña - neutro) y (Niño - neutro)"
   ]
  },
  {
   "cell_type": "code",
   "execution_count": null,
   "metadata": {
    "colab": {
     "base_uri": "https://localhost:8080/",
     "height": 520
    },
    "executionInfo": {
     "elapsed": 1932,
     "status": "ok",
     "timestamp": 1694706053447,
     "user": {
      "displayName": "Laura Ruiz",
      "userId": "03981579707778611338"
     },
     "user_tz": 180
    },
    "id": "n9uagBc1TocD",
    "outputId": "dee1b8cd-2deb-41ff-b100-81a5d5537f5c"
   },
   "outputs": [],
   "source": [
    "# Grafico SLA fase negativa - SLA fase neutra\n",
    "fig = plt.figure(figsize=(10, 8), facecolor='white')\n",
    "ax = plt.axes(projection=ccrs.Mercator())\n",
    "lon_min = -180; lon_max = -45\n",
    "lat_min = -45; lat_max = 20\n",
    "ax.set_extent([lon_min, lon_max, lat_min, lat_max],crs = ccrs.PlateCarree()) # min lon, max lon, min lat, max lat\n",
    "ax.add_feature(cfeature.LAND, color='silver')\n",
    "ax.add_feature(cfeature.LAKES, color='lightcyan')\n",
    "ax.add_feature(cfeature.RIVERS, edgecolor='black')\n",
    "ax.coastlines(resolution='50m', color='black', linewidth=1)\n",
    "plt.title('SLA, negativa - neutra',color='black', size=14)\n",
    "\n",
    "cm = plt.pcolormesh(lon,lat,np.nanmean(sla_neg,axis=0) - np.nanmean(sla_n,axis=0),cmap = 'seismic',transform = ccrs.PlateCarree())\n",
    "divider = make_axes_locatable(ax)\n",
    "ax_cb = divider.new_horizontal(size=\"5%\", pad=0.1, axes_class=plt.Axes)\n",
    "\n",
    "fig.add_axes(ax_cb)\n",
    "plt.colorbar(cm,cax=ax_cb)\n",
    "cm.set_clim(-.5,.5)\n",
    "\n",
    "gl = ax.gridlines(crs=ccrs.PlateCarree(), draw_labels=True, linewidth=0.8, linestyle='dotted')\n",
    "gl.top_labels = False; gl.right_labels = False\n",
    "#gl.ylabels_right = False; gl.xlabels_top = False\n",
    "gl.xlocator = mticker.FixedLocator([-180,-160,-140,-120,-100,-80,-60,-40])\n",
    "gl.ylocator = mticker.FixedLocator([-40,-30,-20,-10,0,10,20])\n",
    "gl.xformatter = LONGITUDE_FORMATTER; gl.yformatter = LATITUDE_FORMATTER\n",
    "gl.xlabel_style = {'size': 13}\n",
    "gl.ylabel_style = {'size': 13}\n",
    "\n",
    "# Add a title to the plot\n",
    "plt.show()\n"
   ]
  },
  {
   "cell_type": "code",
   "execution_count": null,
   "metadata": {
    "colab": {
     "base_uri": "https://localhost:8080/",
     "height": 520
    },
    "executionInfo": {
     "elapsed": 2094,
     "status": "ok",
     "timestamp": 1694706062370,
     "user": {
      "displayName": "Laura Ruiz",
      "userId": "03981579707778611338"
     },
     "user_tz": 180
    },
    "id": "oh1XZ6wdTwXz",
    "outputId": "ee03942e-be93-4a25-a774-c58a8f9a2af9"
   },
   "outputs": [],
   "source": [
    "# Grafico SLA fase positiva - SLA fase neutra\n",
    "fig = plt.figure(figsize=(10, 8), facecolor='white')\n",
    "ax = plt.axes(projection=ccrs.Mercator())\n",
    "#ax = plt.axes(projection=ccrs.Orthographic(central_longitude=-120.0, central_latitude=-30.0))\n",
    "lon_min = -180; lon_max = -45\n",
    "lat_min = -45; lat_max = 20\n",
    "ax.set_extent([lon_min, lon_max, lat_min, lat_max],crs = ccrs.PlateCarree()) # min lon, max lon, min lat, max lat\n",
    "ax.add_feature(cfeature.LAND, color='silver')\n",
    "ax.add_feature(cfeature.LAKES, color='lightcyan')\n",
    "ax.add_feature(cfeature.RIVERS, edgecolor='black')\n",
    "ax.coastlines(resolution='50m', color='black', linewidth=1)\n",
    "plt.title('SLA, positiva - neutra',color='black', size=14)\n",
    "\n",
    "cm = plt.pcolormesh(lon,lat,np.nanmean(sla_pos,axis=0) - np.nanmean(sla_n,axis=0),cmap = 'seismic',transform = ccrs.PlateCarree())\n",
    "divider = make_axes_locatable(ax)\n",
    "ax_cb = divider.new_horizontal(size=\"5%\", pad=0.1, axes_class=plt.Axes)\n",
    "fig.add_axes(ax_cb)\n",
    "plt.colorbar(cm,cax=ax_cb)\n",
    "cm.set_clim(-.5,.5)\n",
    "\n",
    "gl = ax.gridlines(crs=ccrs.PlateCarree(), draw_labels=True, linewidth=0.8, linestyle='dotted')\n",
    "gl.top_labels = False; gl.right_labels = False\n",
    "#gl.ylabels_right = False; gl.xlabels_top = False\n",
    "gl.xlocator = mticker.FixedLocator([-180,-160,-140,-120,-100,-80,-60,-40])\n",
    "gl.ylocator = mticker.FixedLocator([-40,-30,-20,-10,0,10,20])\n",
    "gl.xformatter = LONGITUDE_FORMATTER; gl.yformatter = LATITUDE_FORMATTER\n",
    "gl.xlabel_style = {'size': 13}\n",
    "gl.ylabel_style = {'size': 13}\n",
    "plt.show()\n",
    "\n"
   ]
  },
  {
   "cell_type": "markdown",
   "metadata": {
    "id": "lDM8_AxTT_GO"
   },
   "source": [
    "Abrimos y ploteamos los datos de % de humedad de suelo de GRACE"
   ]
  },
  {
   "cell_type": "code",
   "execution_count": null,
   "metadata": {
    "colab": {
     "base_uri": "https://localhost:8080/",
     "height": 778
    },
    "executionInfo": {
     "elapsed": 1405,
     "status": "ok",
     "timestamp": 1694706070388,
     "user": {
      "displayName": "Laura Ruiz",
      "userId": "03981579707778611338"
     },
     "user_tz": 180
    },
    "id": "aUuydhmEUDJH",
    "outputId": "b034cdeb-2dfc-4ef7-9be7-c47a768f2706"
   },
   "outputs": [],
   "source": [
    "# Fase negativa\n",
    "#grace = xr.open_dataset('/Users/Laura/OneDrive - cima.fcen.uba.ar/Oceanografia_satelital/2023/TP5/g4.timeAvgMap.GRACEDADM_CLSM025GL_7D_3_0_sfsm_inst.20221001-20221231.134W_45S_33W_17N.nc')\n",
    "grace = xr.open_dataset('/content/g4.timeAvgMap.GRACEDADM_CLSM025GL_7D_3_0_sfsm_inst.20221001-20221231.134W_45S_33W_17N.nc')\n",
    "\n",
    "# Vemos la metadata del xarray\n",
    "grace\n",
    "\n",
    "lon = grace.lon.data-360\n",
    "lat = grace.lat.data\n",
    "hum_neg = grace.GRACEDADM_CLSM025GL_7D_3_0_sfsm_inst.data\n",
    "\n",
    "\n",
    "# Grafico\n",
    "fig = plt.figure(figsize=(8, 9), facecolor='white')\n",
    "ax = plt.axes(projection=ccrs.Mercator())\n",
    "#ax = plt.axes(projection=ccrs.Orthographic(central_longitude=-120.0, central_latitude=-30.0))\n",
    "lon_min = -90; lon_max = -30\n",
    "lat_min = -55; lat_max = 20\n",
    "ax.set_extent([lon_min, lon_max, lat_min, lat_max],crs = ccrs.PlateCarree()) # min lon, max lon, min lat, max lat\n",
    "ax.add_feature(cfeature.LAND, color='silver')\n",
    "ax.add_feature(cfeature.LAKES, color='lightcyan')\n",
    "ax.add_feature(cfeature.RIVERS, edgecolor='black')\n",
    "ax.coastlines(resolution='50m', color='black', linewidth=1)\n",
    "plt.title('% Humedad de Suelo, fase negativa',color='black', size=14)\n",
    "cm = plt.pcolormesh(lon,lat,hum_neg,cmap = 'jet',transform = ccrs.PlateCarree())\n",
    "divider = make_axes_locatable(ax)\n",
    "ax_cb = divider.new_horizontal(size=\"5%\", pad=0.1, axes_class=plt.Axes)\n",
    "\n",
    "fig.add_axes(ax_cb)\n",
    "plt.colorbar(cm,cax=ax_cb)\n",
    "cm.set_clim(0,100)\n",
    "\n",
    "gl = ax.gridlines(crs=ccrs.PlateCarree(), draw_labels=True, linewidth=0.8, linestyle='dotted')\n",
    "gl.top_labels = False; gl.right_labels = False\n",
    "#gl.ylabels_right = False; gl.xlabels_top = False\n",
    "gl.xlocator = mticker.FixedLocator([-90,-80,-70,-60,-50,-40,-30])\n",
    "gl.ylocator = mticker.FixedLocator([-60,-50,-40,-30,-20,-10,0,10,20])\n",
    "gl.xformatter = LONGITUDE_FORMATTER; gl.yformatter = LATITUDE_FORMATTER\n",
    "gl.xlabel_style = {'size': 13}\n",
    "gl.ylabel_style = {'size': 13}\n",
    "plt.show()"
   ]
  },
  {
   "cell_type": "markdown",
   "metadata": {
    "id": "SHenFWhlUMxj"
   },
   "source": [
    "Repetir el grafico de la fase positiva, de fase (positiva - neutra) y fase (negativa - neutra)"
   ]
  },
  {
   "cell_type": "markdown",
   "metadata": {
    "id": "lAMiA2dcWvgd"
   },
   "source": [
    "A tener en cuenta: Realizamos un analisis sencillo de como impacta el fenómeno climatico ENSO en la temperatura, altura del mar y humedad de suelo. Sin embargo, para analizarlo correctamente deberiamos eliminar la tendencia a largo plazo de todas las variables,\n",
    "eliminar el ciclo estacional (ya sea restando el año climatológico o filtrando las variabilidades menores a un año). Lo de la tendencia a largo plazo es evidente en la SLA.\n",
    "Mirar el siguiente video de la variacion de la anomalia del nivel del mar (SLA) y de temperatura\n",
    "https://svs.gsfc.nasa.gov/30756/\n",
    "https://svs.gsfc.nasa.gov/30489\n",
    "https://www.youtube.com/watch?v=48flIFPAL78"
   ]
  },
  {
   "cell_type": "markdown",
   "metadata": {
    "id": "4sJ2rihJUlrb"
   },
   "source": []
  }
 ],
 "metadata": {
  "colab": {
   "authorship_tag": "ABX9TyOOua3RaE0kCD1u2PoQTEIg",
   "provenance": []
  },
  "kernelspec": {
   "display_name": "Python 3 (ipykernel)",
   "language": "python",
   "name": "python3"
  },
  "language_info": {
   "codemirror_mode": {
    "name": "ipython",
    "version": 3
   },
   "file_extension": ".py",
   "mimetype": "text/x-python",
   "name": "python",
   "nbconvert_exporter": "python",
   "pygments_lexer": "ipython3",
   "version": "3.11.3"
  }
 },
 "nbformat": 4,
 "nbformat_minor": 4
}
