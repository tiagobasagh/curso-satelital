{
 "cells": [
  {
   "cell_type": "markdown",
   "id": "989cea22-c682-439e-b7ec-0a908bf15823",
   "metadata": {},
   "source": [
    "## TP05: Fenómeno de El Niño Oscilación Sur (ENSO) - Impacto de la Niña (2020-202)\n",
    "\n",
    "En el siguiente sitio web encontrará información sobre el ENSO y como se utiliza la\n",
    "temperatura superficial del mar (SST) para su monitoreo.\n",
    "https://www.ncei.noaa.gov/access/monitoring/enso/sst3"
   ]
  },
  {
   "cell_type": "code",
   "execution_count": null,
   "id": "bce143a2-7ee5-4b98-8631-fba6af81ea35",
   "metadata": {
    "tags": []
   },
   "outputs": [],
   "source": [
    "import os\n",
    "\n",
    "import matplotlib.pyplot as plt\n",
    "import seaborn as sns\n",
    "import pandas as pd\n",
    "import numpy as  np\n",
    "\n",
    "import smn #  libreria propia\n",
    "\n",
    "import matplotlib.axes as maxes\n",
    "import matplotlib.pyplot as plt\n",
    "from cartopy.mpl.gridliner import LONGITUDE_FORMATTER, LATITUDE_FORMATTER\n",
    "from cartopy.crs import PlateCarree\n",
    "from cartopy.feature import LAND, COASTLINE, RIVERS\n",
    "from cmocean.cm import thermal, amp, rain\n",
    "from mpl_toolkits.axes_grid1 import make_axes_locatable\n",
    "\n",
    "import netCDF4 as nc\n",
    "\n",
    "DATA_DIR = \"./data\""
   ]
  },
  {
   "cell_type": "code",
   "execution_count": null,
   "id": "4fe4d122-7c81-432f-a242-d6e81bcd5105",
   "metadata": {},
   "outputs": [],
   "source": [
    "def between(v, vmin, vmax):\n",
    "    return (v > vmin) and (v < vmax)\n",
    "\n",
    "def anomalia(v, pos=0.5, neg=-0.5):\n",
    "    if between(v, pos, np.inf):\n",
    "        return \"pos\"\n",
    "    elif between(v, -np.inf, neg):\n",
    "        return \"neg\"\n",
    "    else:\n",
    "        return \"neutro\"\n",
    "    \n",
    "def extract_from_region(var, lat, lon, region):\n",
    "    \"\"\"\n",
    "    extract values of a variable betweeen lat,lon coordenates.\n",
    "\n",
    "    \"\"\"\n",
    "    def _order_minmax(point):\n",
    "        if point[1] > point[0]:\n",
    "            return point[0], point[1]\n",
    "        else:\n",
    "            return point[1], point[0]\n",
    "\n",
    "    def get_index_limits(vardim, limits):\n",
    "        return [np.abs(vardim - limit).argmin() for limit in limits]\n",
    "\n",
    "    def reduce_dim(vardim, idxs):\n",
    "        m, M =  _order_minmax(idxs)\n",
    "        return vardim[m:M]\n",
    "\n",
    "    def extract_var(var, lat_idxs, lon_idxs):\n",
    "        lat_m, lat_M =  _order_minmax(lat_idxs)\n",
    "        lon_m, lon_M =  _order_minmax(lon_idxs)\n",
    "        return var[lat_m : lat_M, lon_m : lon_M]\n",
    "\n",
    "    lat_idxs = get_index_limits(lat, region[\"lat\"])\n",
    "    lon_idxs = get_index_limits(lon, region[\"lon\"])\n",
    "    if type(var) == dict:\n",
    "        _var = dict()\n",
    "        for nvar, vvar in var.items():\n",
    "            _var[nvar] = extract_var(vvar, lat_idxs, lon_idxs)\n",
    "    else:\n",
    "        _var = extract_var(var, lat_idxs, lon_idxs)\n",
    "\n",
    "    return _var, reduce_dim(lat, lat_idxs), reduce_dim(lon, lon_idxs)"
   ]
  },
  {
   "cell_type": "markdown",
   "id": "964743ff-2dde-4507-9e2d-b473266abcb5",
   "metadata": {},
   "source": [
    "**1. En función de la serie de ONI (Oceanic Niño Index) de la región El Niño 3.4 (5°S-5°N, 120°O-170°O), elegir tres meses que representen la última Niña (fase negativa entre 2020 y 2023), el estado neutro previo (anomalías cercanas a cero) y el último Niño (fase positiva entre 2018 y 2020). Para cada caso  promediar los tres meses elegidos y graficar el mapa de una región que abarque el Pacífico Ecuatorial y parte de la Plataforma Argentpor ejemplo, 180ºO-45ºO, 45ºS-20ºN) con la herramienta online GIOVANNI**"
   ]
  },
  {
   "cell_type": "code",
   "execution_count": null,
   "id": "9e22968a-151f-4be3-8b87-76863b78b199",
   "metadata": {
    "tags": []
   },
   "outputs": [],
   "source": [
    "nf_oni = \"oni.csv\"\n",
    "nf_sst =  \"sst.csv\""
   ]
  },
  {
   "cell_type": "code",
   "execution_count": null,
   "id": "83a1c1bd-832b-4bf3-a0d3-949cedb0ac47",
   "metadata": {
    "tags": []
   },
   "outputs": [],
   "source": [
    "dir_oni = os.path.join(DATA_DIR, nf_oni)\n",
    "if os.path.exists(dir_oni):\n",
    "    oni = pd.read_csv(dir_oni)\n",
    "else: \n",
    "    oni_url = \"https://www.cpc.ncep.noaa.gov/data/indices/oni.ascii.txt\"\n",
    "    oni = smn.get_smn_data(oni_url, var=\"oni\")\n",
    "    oni.to_csv(dir_oni, index=False)"
   ]
  },
  {
   "cell_type": "code",
   "execution_count": null,
   "id": "7e4d5dc5-6ad7-4d77-af28-19a953e954cb",
   "metadata": {
    "tags": []
   },
   "outputs": [],
   "source": [
    "dir_sst = os.path.join(DATA_DIR, nf_sst)\n",
    "if os.path.exists(dir_sst):\n",
    "    sst = pd.read_csv(dir_sst)\n",
    "else:\n",
    "    sst_url = \"https://www.cpc.ncep.noaa.gov/data/indices/sstoi.indices\"\n",
    "    sst = smn.get_smn_data(sst_url, var=\"sst\")\n",
    "    sst.to_csv(dir_sst, index=False)"
   ]
  },
  {
   "cell_type": "code",
   "execution_count": null,
   "id": "03c82b61-232c-42ab-aa83-561f83eaac2d",
   "metadata": {
    "tags": []
   },
   "outputs": [],
   "source": [
    "oni[\"estado\"] = oni.anom.apply(lambda x: anomalia(x, pos=.25, neg=-0.25))\n",
    "oni[\"label\"] = oni.apply(lambda row: \"{}_{}\".format(row.year, row.seas), axis=1)\n",
    "oni = oni[oni.year > 2017].copy()\n",
    "oni.reset_index(inplace=True)\n",
    "sst = sst[sst.year>2017].copy()\n",
    "sst.reset_index(inplace=True)"
   ]
  },
  {
   "cell_type": "code",
   "execution_count": null,
   "id": "8f2aad53-9845-41bb-92a2-cad293738409",
   "metadata": {
    "tags": []
   },
   "outputs": [],
   "source": [
    "plt.figure(figsize=(15, 5))\n",
    "\n",
    "plt.title(\"Indice del Niño\", fontsize=20)\n",
    "plt.plot(oni.anom, \"--\", color=\"dimgrey\")\n",
    "\n",
    "plt.scatter(5, -0.01, s=200, marker=\"*\", label=\"Anomalía nutra  elegido\", color=\"green\")\n",
    "plt.scatter(10, 0.885, s=200, marker=\"*\", label=\"Anomalía positiva elegida\", color=\"red\")\n",
    "plt.scatter(34, -1.27, s=200, marker=\"*\", label=\"Anomalía negativa elegida\", color=\"blue\")\n",
    "\n",
    "\n",
    "plt.plot(oni[oni.estado==\"pos\"].anom, \"o\", color=\"crimson\", alpha=0.8, label=\"Positivas\")\n",
    "plt.plot(oni[oni.estado==\"neg\"].anom, \"o\", color=\"darkcyan\", alpha=0.8, label=\"Negativas\")\n",
    "plt.plot(oni[oni.estado==\"neutro\"].anom, \"o\", color=\"greenyellow\", alpha=0.8, label=\"Neutro\")\n",
    "\n",
    "plt.fill_between([29, 61], [-1.4, -1.4], [1.1, 1.1], color=\"darkcyan\", alpha=0.3,)\n",
    "plt.fill_between([8, 26], [-1.4, -1.4], [1.1, 1.1], color=\"crimson\", alpha=0.3,)\n",
    "\n",
    "plt.xticks(ticks=[0, 12, 24, 36, 48, 60],  labels=[2018, 2019, 2020, 2021, 2022, 2023], rotation=90)\n",
    "\n",
    "plt.hlines(0, 70, 0, color=\"red\", linestyles=\"dashed\", alpha=0.7)\n",
    "plt.xlabel(\"Año\")\n",
    "plt.ylabel(\"Temperatura (°C)\")\n",
    "plt.legend()\n",
    "plt.grid()\n",
    "plt.show()\n",
    "\n",
    "print(\"Figura 1: Indice del Niño. En rojo las anomalías positivas (niño). En celestre las anomalías negativas (niña). En verde se muestras las anomalías neutras o puntos de anomalía cero. Los puntos con forma de estrella son las anomalías elegidas para analizar en detalle.\")"
   ]
  },
  {
   "cell_type": "code",
   "execution_count": null,
   "id": "a6f2905a-b922-4528-81ef-749792adebe7",
   "metadata": {},
   "outputs": [],
   "source": [
    "# Octubre-Noviembre-Diciembre 2020 -  anomin\n",
    "# Octubre-Noviembre-Diciembre 2018 -  anomax\n",
    "# Mayo-Junio-Julio 2018 - Neutrolidad"
   ]
  },
  {
   "cell_type": "code",
   "execution_count": null,
   "id": "ab4d20b8-abad-4b3d-9dca-9e55b8128c02",
   "metadata": {
    "tags": []
   },
   "outputs": [],
   "source": [
    "region = dict(\n",
    "    lon=[-180, -45],\n",
    "    lat=[-30, 20]\n",
    ")\n",
    "\n",
    "region_34 = dict(\n",
    "    lon=[-170, -120],\n",
    "    lat=[-5, 5]\n",
    ")\n"
   ]
  },
  {
   "cell_type": "code",
   "execution_count": null,
   "id": "b009e728-decf-4164-aec0-a5f6147737a0",
   "metadata": {
    "tags": []
   },
   "outputs": [],
   "source": [
    "nf_neutro = \"neutro_sst_modis_monthly_4km.nc\"\n",
    "nf_anomin = \"anom_min_sst_modis_monthly_4km.nc\"\n",
    "nf_anomax = \"anom_max_sst_modis_monthly_4km.nc\"\n",
    "\n",
    "neutro = nc.Dataset(os.path.join(DATA_DIR,  nf_neutro))\n",
    "anomin = nc.Dataset(os.path.join(DATA_DIR,  nf_anomin))\n",
    "anomax = nc.Dataset(os.path.join(DATA_DIR,  nf_anomax))"
   ]
  },
  {
   "cell_type": "code",
   "execution_count": null,
   "id": "4b98ae56-a5cf-43d5-8b4a-edb7b7b7d169",
   "metadata": {
    "tags": []
   },
   "outputs": [],
   "source": [
    "sst_neutro = neutro.variables[\"MODISA_L3m_SST4_Monthly_4km_R2019_0_sst4\"][:]\n",
    "lat_neutro = neutro.variables[\"lat\"][:]\n",
    "lon_neutro = neutro.variables[\"lon\"][:]\n",
    "\n",
    "sst_anomin = anomin.variables[\"MODISA_L3m_SST4_Monthly_4km_R2019_0_sst4\"][:]\n",
    "lat_anomin = anomin.variables[\"lat\"][:]\n",
    "lon_anomin = anomin.variables[\"lon\"][:]\n",
    "\n",
    "sst_anomax = anomax.variables[\"MODISA_L3m_SST4_Monthly_4km_R2019_0_sst4\"][:]\n",
    "lat_anomax = anomax.variables[\"lat\"][:]\n",
    "lon_anomax = anomax.variables[\"lon\"][:]\n",
    "\n",
    "sst_neutro, lat_neutro, lon_neutro  = extract_from_region(sst_neutro, lat_neutro, lon_neutro, region=region)\n",
    "sst_anomin, lat_anomin, lon_anomin  = extract_from_region(sst_anomin, lat_anomin, lon_anomin, region=region)\n",
    "sst_anomax, lat_anomax, lon_anomax  = extract_from_region(sst_anomax, lat_anomax, lon_anomax, region=region)"
   ]
  },
  {
   "cell_type": "code",
   "execution_count": null,
   "id": "a948981d-2406-40a3-91e2-e8e75c47cd32",
   "metadata": {
    "tags": []
   },
   "outputs": [],
   "source": [
    "levels = np.arange(21, 31, 1)"
   ]
  },
  {
   "cell_type": "code",
   "execution_count": null,
   "id": "5ce7f2f9-c5a0-4d4a-a22f-4d56b76abc7e",
   "metadata": {
    "tags": []
   },
   "outputs": [],
   "source": [
    "fig, axs = plt.subplots(3, 1, subplot_kw={'projection': PlateCarree()}, figsize=(10, 10), sharex=True, sharey=True)\n",
    "\n",
    "\n",
    "axs[0].set_title(\"SST Anomalia MAX \\n(Oct-Nov-Dic 2018)\", fontsize=8)\n",
    "im2 = axs[0].contourf(lon_anomax,  lat_anomax, sst_anomax, vmin=21, vmax=31, levels=levels, cmap=thermal, zorder=0)\n",
    "divider = make_axes_locatable(axs[0])\n",
    "cax = divider.append_axes('bottom', size='5%', pad=0.4, axes_class=maxes.Axes)\n",
    "cbar2 = fig.colorbar(im2, cax=cax, orientation='horizontal' )\n",
    "for label in cbar2.ax.get_xticklabels():\n",
    "    label.set_rotation(45)\n",
    "    \n",
    "axs[1].set_title(\"SST Neutral \\n(May-Jun-Jul 2018)\", fontsize=8)\n",
    "im2 = axs[1].contourf(lon_neutro,  lat_neutro, sst_neutro, vmin=21, vmax=31, levels=levels, cmap=thermal, zorder=0)\n",
    "divider = make_axes_locatable(axs[1])\n",
    "cax = divider.append_axes('bottom', size='5%', pad=0.4, axes_class=maxes.Axes)\n",
    "cbar2 = fig.colorbar(im2, cax=cax, orientation='horizontal' )\n",
    "for label in cbar2.ax.get_xticklabels():\n",
    "    label.set_rotation(45)\n",
    "\n",
    "axs[2].set_title(\"SST Anomalia MIN \\n(Oct-Nov-Dic 2020)\", fontsize=8)\n",
    "im2 = axs[2].contourf(lon_anomin,  lat_anomin, sst_anomin, vmin=21, vmax=31, levels=levels, cmap=thermal, zorder=0)\n",
    "divider = make_axes_locatable(axs[2])\n",
    "cax = divider.append_axes('bottom', size='5%', pad=0.4, axes_class=maxes.Axes)\n",
    "cbar2 = fig.colorbar(im2,  cax=cax, orientation='horizontal' )\n",
    "for label in cbar2.ax.get_xticklabels():\n",
    "    label.set_rotation(45)\n",
    "\n",
    "for i in range(3):\n",
    "    axs[i].set_facecolor('white')\n",
    "    axs[i].add_feature(LAND, facecolor=\"white\", zorder=1)\n",
    "    axs[i].add_feature(COASTLINE, linewidth=0.5)\n",
    "\n",
    "    gl = axs[i].gridlines(crs=PlateCarree(), draw_labels=True, linestyle='--', zorder=0)\n",
    "    gl.yformatter = LATITUDE_FORMATTER\n",
    "    gl.xformatter = LONGITUDE_FORMATTER\n",
    "    gl.right_labels = False\n",
    "    gl.top_labels = False\n",
    "    axs[i].plot([region_34[\"lon\"][0], region_34[\"lon\"][0], region_34[\"lon\"][1], region_34[\"lon\"][1], region_34[\"lon\"][0]], \n",
    "                [region_34[\"lat\"][1], region_34[\"lat\"][0], region_34[\"lat\"][0], region_34[\"lat\"][1], region_34[\"lat\"][1]],\n",
    "                \"r--\", label=\"region 3.4\")\n",
    "    axs[i].legend()\n",
    "\n",
    "fig.tight_layout()\n",
    "plt.show()\n",
    "\n",
    "print(\"Figura 2: Anomalias sobre el pacifico. Imagen superior anomalía máxima, la del medio anomalía neutra e imagen inferior anomalía mínima. En las 3, recuadrado se encuentra la región 3.4.\")"
   ]
  },
  {
   "cell_type": "markdown",
   "id": "4509f867-e7cb-4a8e-bb76-2de66fd44efc",
   "metadata": {},
   "source": [
    "**2. De manera descriptiva, observa diferencias de temperatura en los tres casos? Solo en el Pacifico? Realice un mapa de la diferencia entre SST fase negativa y SST fase positiva.**  \n",
    "\n",
    "En la figura 2 podemos observar la SST en el caso de 3 anomalías definidas distintas (positíva, neutra y negativa). A simple vista la diferencia de temperatura se puede obsevar sobre todo en el pacífico y en particular en la región 3.4. Mientras más al oeste uno se traslada más notoria es la diferencia entre anomalía positiva y anomalái negativa. \n",
    "\n",
    "Si uno mira la figura 3, donde se visualizan las diferencias de SST entre anomalía positiva y anomalía negativa, se encuentra que a pesar de que las temperaturas más calidas se encuentran al eoste, la disparidad entre las anomalías positiva y negativa se observa mucho mejor al este de la región 3.4. "
   ]
  },
  {
   "cell_type": "code",
   "execution_count": null,
   "id": "d179c278-13c9-45bb-9f4a-9890f1178157",
   "metadata": {
    "tags": []
   },
   "outputs": [],
   "source": [
    "sst_anomin, lat_anomin, lon_anomin  = extract_from_region(sst_anomin, lat_anomin, lon_anomin, region=region_34)\n",
    "sst_anomax, lat_anomax, lon_anomax  = extract_from_region(sst_anomax, lat_anomax, lon_anomax, region=region_34)"
   ]
  },
  {
   "cell_type": "code",
   "execution_count": null,
   "id": "cb4862a7-c61b-42c6-ba0d-05bd7b591ade",
   "metadata": {
    "tags": []
   },
   "outputs": [],
   "source": [
    "sst_diff = sst_anomax - sst_anomin[:, 1:] \n",
    "levels = np.arange(0, 5, 1)"
   ]
  },
  {
   "cell_type": "code",
   "execution_count": null,
   "id": "fa86d451-e44e-4b26-837b-c8c8ac5cba39",
   "metadata": {
    "tags": []
   },
   "outputs": [],
   "source": [
    "sst_diff.max()"
   ]
  },
  {
   "cell_type": "code",
   "execution_count": null,
   "id": "2781175a-536a-4523-bdd1-f21e1082352d",
   "metadata": {},
   "outputs": [],
   "source": [
    "fig, axs = plt.subplots(1, 1, subplot_kw={'projection': PlateCarree()},  figsize=(10, 10), sharex=True, sharey=True)\n",
    "\n",
    "axs.set_title(\"SST Diferencia Anomalias\", fontsize=8)\n",
    "im2 = axs.contourf(lon_anomax,  lat_anomax, sst_diff, vmin=0, vmax=4, levels=levels, cmap=thermal, zorder=0)\n",
    "divider = make_axes_locatable(axs)\n",
    "cax = divider.append_axes('bottom', size='5%', pad=0.4, axes_class=maxes.Axes)\n",
    "cbar2 = fig.colorbar(im2, cax=cax, orientation='horizontal' )\n",
    "for label in cbar2.ax.get_xticklabels():\n",
    "    label.set_rotation(45)\n",
    "    \n",
    "axs.set_facecolor('white')\n",
    "axs.add_feature(LAND, facecolor=\"white\", zorder=1)\n",
    "axs.add_feature(COASTLINE, linewidth=0.5)\n",
    "\n",
    "gl = axs.gridlines(crs=PlateCarree(), draw_labels=True, linestyle='--', zorder=0)\n",
    "gl.yformatter = LATITUDE_FORMATTER\n",
    "gl.xformatter = LONGITUDE_FORMATTER\n",
    "gl.right_labels = False\n",
    "gl.top_labels = False\n",
    "\n",
    "plt.show()\n",
    "\n",
    "print(\"Figura 3: Diferencia de anomalía psoitiva y negativa en la región 3.4.  Se discretiza la diferencia para resaltar las zonas de mayor disparidad de temperatura.\")"
   ]
  },
  {
   "cell_type": "markdown",
   "id": "5a6ac114-7853-4f84-a5c8-40b3e77cf24f",
   "metadata": {},
   "source": [
    "#### ALTURA DE NIVEL DEL OCEANO y HUMEDAD\n",
    "\n",
    "\n",
    "Repetir los promedios para los tres casos en la misma región con altura del mar y humedad de suelo. En el caso de altura del mar (SLA), descargue el producto SEALEVEL_GLO_PHY_L4_MY_008_047 en Marine Copernicus para la misma región que en 1. Los datos de percentil de humedad de suelo de la\n",
    "misión GRACE se pueden descargar de GIOVANNI (producto GRACEDADM_CLSM025GL_7D) y elija una región que abarque Latinoamérica. La variación de la humedad de suelo se va a asociar a la precipitación. "
   ]
  },
  {
   "cell_type": "code",
   "execution_count": null,
   "id": "d209f089-386f-4d84-9a16-f5051ff3b905",
   "metadata": {
    "tags": []
   },
   "outputs": [],
   "source": [
    "from http.client import IncompleteRead"
   ]
  },
  {
   "cell_type": "code",
   "execution_count": null,
   "id": "2f96aa24-9629-4f59-a153-af6d7b8f2e92",
   "metadata": {
    "tags": []
   },
   "outputs": [],
   "source": [
    "import xarray as xr \n",
    "import oceanpy.copernicus.xarraydownload as xd\n",
    "from oceanpy.credentials import COPERNICUS as creed\n",
    "\n",
    "def get_mean_var(DS, lats, lons, times, var=\"adt\", axis=0):\n",
    "    ds = DS.sel(time=times, latitude=lats, longitude=lons)\n",
    "    adt = ds.variables[\"adt\"].values\n",
    "    lat = ds.variables[\"latitude\"].values\n",
    "    lon = ds.variables[\"longitude\"].values\n",
    "    return dict(adt=np.nanmean(adt, axis), lat=lat, lon=lon)\n",
    "\n",
    "DSI = \"cmems_obs-sl_glo_phy-ssh_my_allsat-l4-duacs-0.25deg_P1D\""
   ]
  },
  {
   "cell_type": "code",
   "execution_count": null,
   "id": "0ad09456-fbd7-481d-9dce-f217779a3e24",
   "metadata": {
    "tags": []
   },
   "outputs": [],
   "source": [
    "session = xd.session_copernicus(user=creed[\"user\"], pwd=creed[\"pwd\"])\n",
    "store = xd.get_dataset_store(session, DSI)\n",
    "DS = xr.open_dataset(store)\n",
    "DS = DS.drop_duplicates(\"time\")\n",
    "DS = DS.sortby(\"time\")"
   ]
  },
  {
   "cell_type": "code",
   "execution_count": null,
   "id": "3ea7458c-df2a-43d2-bca1-7d1aba01faa2",
   "metadata": {
    "tags": []
   },
   "outputs": [],
   "source": [
    "SSH_LAT = slice(region[\"lat\"][0], region[\"lat\"][1])\n",
    "SSH_LON = slice(region[\"lon\"][0], region[\"lon\"][1])\n",
    "SSH_TIME_ANOMIN = slice(\"2020-10-01T00:00:00.00000000\", \"2021-01-01T00:00:00.00000000\")\n",
    "SSH_TIME_ANOMAX = slice(\"2018-10-01T00:00:00.00000000\", \"2019-01-01T00:00:00.00000000\")\n",
    "SSH_TIME_NOANO = slice(\"2018-05-01T00:00:00.00000000\", \"2018-09-01T00:00:00.00000000\")"
   ]
  },
  {
   "cell_type": "code",
   "execution_count": null,
   "id": "ab1698e9-2360-4805-9673-a11c91a09ff1",
   "metadata": {
    "tags": []
   },
   "outputs": [],
   "source": [
    "ssh_anomin = get_mean_var(DS, SSH_LAT, SSH_LON, SSH_TIME_ANOMIN)\n",
    "ssh_anomax = get_mean_var(DS, SSH_LAT, SSH_LON, SSH_TIME_ANOMAX)\n",
    "ssh_anono = get_mean_var(DS, SSH_LAT, SSH_LON, SSH_TIME_NOANO)"
   ]
  },
  {
   "cell_type": "code",
   "execution_count": null,
   "id": "53d04d2f-2ba5-49a7-88dc-026b8025ed90",
   "metadata": {
    "tags": []
   },
   "outputs": [],
   "source": [
    "fig, axs = plt.subplots(3, 1, subplot_kw={'projection': PlateCarree()}, figsize=(10, 10), sharex=True, sharey=True)\n",
    "\n",
    "\n",
    "axs[0].set_title(\"SSH Anomalia MAX \\n(Oct-Nov-Dic 2018)\", fontsize=8)\n",
    "im2 = axs[0].contourf(ssh_anomax[\"lon\"], ssh_anomax[\"lat\"], ssh_anomax[\"adt\"], vmin=0.2, vmax=1.3, levels=np.arange(0.2, 1.4, 0.1), cmap=amp, zorder=0)\n",
    "divider = make_axes_locatable(axs[0])\n",
    "cax = divider.append_axes('bottom', size='5%', pad=0.4, axes_class=maxes.Axes)\n",
    "cbar2 = fig.colorbar(im2, cax=cax, orientation='horizontal' )\n",
    "for label in cbar2.ax.get_xticklabels():\n",
    "    label.set_rotation(45)\n",
    "    \n",
    "axs[1].set_title(\"SSH Neutral \\n(May-Jun-Jul 2018)\", fontsize=8)\n",
    "im2 = axs[1].contourf(ssh_anono[\"lon\"], ssh_anomax[\"lat\"], ssh_anono[\"adt\"], vmin=0.2, vmax=1.3, levels=np.arange(0.2, 1.4, 0.1), cmap=amp, zorder=0)\n",
    "divider = make_axes_locatable(axs[1])\n",
    "cax = divider.append_axes('bottom', size='5%', pad=0.4, axes_class=maxes.Axes)\n",
    "cbar2 = fig.colorbar(im2, cax=cax, orientation='horizontal' )\n",
    "for label in cbar2.ax.get_xticklabels():\n",
    "    label.set_rotation(45)\n",
    "\n",
    "axs[2].set_title(\"SSH Anomalia MIN \\n(Oct-Nov-Dic 2020)\", fontsize=8)\n",
    "im2 = axs[2].contourf(ssh_anomin[\"lon\"], ssh_anomax[\"lat\"], ssh_anomin[\"adt\"], vmin=0.2, vmax=1.3, levels=np.arange(0.2, 1.4, 0.1), cmap=amp, zorder=0)\n",
    "divider = make_axes_locatable(axs[2])\n",
    "cax = divider.append_axes('bottom', size='5%', pad=0.4, axes_class=maxes.Axes)\n",
    "cbar2 = fig.colorbar(im2,  cax=cax, orientation='horizontal' )\n",
    "for label in cbar2.ax.get_xticklabels():\n",
    "    label.set_rotation(45)\n",
    "\n",
    "for i in range(3):\n",
    "    axs[i].set_facecolor('white')\n",
    "    axs[i].add_feature(LAND, facecolor=\"white\", zorder=1)\n",
    "    axs[i].add_feature(COASTLINE, linewidth=0.5)\n",
    "\n",
    "    gl = axs[i].gridlines(crs=PlateCarree(), draw_labels=True, linestyle='--', zorder=0)\n",
    "    gl.yformatter = LATITUDE_FORMATTER\n",
    "    gl.xformatter = LONGITUDE_FORMATTER\n",
    "    gl.right_labels = False\n",
    "    gl.top_labels = False\n",
    "    \n",
    "    axs[i].plot([region_34[\"lon\"][0], region_34[\"lon\"][0], region_34[\"lon\"][1], region_34[\"lon\"][1], region_34[\"lon\"][0]], \n",
    "                [region_34[\"lat\"][1], region_34[\"lat\"][0], region_34[\"lat\"][0], region_34[\"lat\"][1], region_34[\"lat\"][1]],\n",
    "                \"w--\", label=\"region 3.4\")\n",
    "    axs[i].legend()\n",
    "\n",
    "fig.tight_layout()\n",
    "plt.show()\n",
    "\n",
    "print(\"Figura 4: Altura del nivel del mar promedio de los 3 meses de anomalía. En la imagen superior, anomalía positiva, imagen del medio, anomalía nuetra y la imagen inferior se muestra una anomaía negativa\")"
   ]
  },
  {
   "cell_type": "code",
   "execution_count": null,
   "id": "de541b72-0088-457d-84d3-8396f3fb8ab1",
   "metadata": {
    "tags": []
   },
   "outputs": [],
   "source": [
    "fig, axs = plt.subplots(1, 1, subplot_kw={'projection': PlateCarree()},  figsize=(10, 10), sharex=True, sharey=True)\n",
    "\n",
    "axs.set_title(\"SSH Diferencia Anomalias\", fontsize=8)\n",
    "im2 = axs.contourf(ssh_anomin[\"lon\"], ssh_anomax[\"lat\"], ssh_anomax[\"adt\"] - ssh_anomin[\"adt\"], cmap=amp, zorder=0)\n",
    "divider = make_axes_locatable(axs)\n",
    "cax = divider.append_axes('bottom', size='5%', pad=0.4, axes_class=maxes.Axes)\n",
    "cbar2 = fig.colorbar(im2, cax=cax, orientation='horizontal' )\n",
    "for label in cbar2.ax.get_xticklabels():\n",
    "    label.set_rotation(45)\n",
    "    \n",
    "axs.set_facecolor('white')\n",
    "axs.add_feature(LAND, facecolor=\"white\", zorder=1)\n",
    "axs.add_feature(COASTLINE, linewidth=0.5)\n",
    "\n",
    "gl = axs.gridlines(crs=PlateCarree(), draw_labels=True, linestyle='--', zorder=0)\n",
    "gl.yformatter = LATITUDE_FORMATTER\n",
    "gl.xformatter = LONGITUDE_FORMATTER\n",
    "gl.right_labels = False\n",
    "gl.top_labels = False\n",
    "\n",
    "axs.plot([region_34[\"lon\"][0], region_34[\"lon\"][0], region_34[\"lon\"][1], region_34[\"lon\"][1], region_34[\"lon\"][0]], \n",
    "                [region_34[\"lat\"][1], region_34[\"lat\"][0], region_34[\"lat\"][0], region_34[\"lat\"][1], region_34[\"lat\"][1]],\n",
    "                \"w--\", label=\"region 3.4\")\n",
    "axs.legend()\n",
    "plt.show()\n",
    "\n",
    "print(\"Figura 5: Diferencias de la altura del nivel del mar entre periodos de anomalías máxima y mínima.\")"
   ]
  },
  {
   "cell_type": "code",
   "execution_count": null,
   "id": "77022b41-5a9d-40dc-852a-dc428188113d",
   "metadata": {
    "tags": []
   },
   "outputs": [],
   "source": [
    "hum_nf_neutro = \"humedad_anomalia_neutra.nc\"\n",
    "hum_nf_anomin = \"humedad_anomalia_neg.nc\"\n",
    "hum_nf_anomax = \"humedad_anomalia_pos.nc\"\n",
    "\n",
    "hum_neutro = nc.Dataset(os.path.join(DATA_DIR,  hum_nf_neutro))\n",
    "hum_anomin = nc.Dataset(os.path.join(DATA_DIR,  hum_nf_anomin))\n",
    "hum_anomax = nc.Dataset(os.path.join(DATA_DIR,  hum_nf_anomax))"
   ]
  },
  {
   "cell_type": "code",
   "execution_count": null,
   "id": "f397adc7-ced4-48b8-9c0e-45538e38bc9f",
   "metadata": {
    "tags": []
   },
   "outputs": [],
   "source": [
    "hum_neutro.variables.keys()"
   ]
  },
  {
   "cell_type": "code",
   "execution_count": null,
   "id": "c4ce9787-6154-4b96-b390-647f799fa178",
   "metadata": {
    "tags": []
   },
   "outputs": [],
   "source": [
    "regionh = {'lon': [-100, -30], 'lat': [-30, 20]}"
   ]
  },
  {
   "cell_type": "code",
   "execution_count": null,
   "id": "3dc88505-07f5-4c27-a755-35458d07a233",
   "metadata": {
    "tags": []
   },
   "outputs": [],
   "source": [
    "humedad_neutro = hum_neutro.variables[\"GRACEDADM_CLSM025GL_7D_3_0_sfsm_inst\"][:]\n",
    "hum_lat_neutro = hum_neutro.variables[\"lat\"][:]\n",
    "hum_lon_neutro = hum_neutro.variables[\"lon\"][:]\n",
    "\n",
    "humedad_anomin = hum_anomin.variables[\"GRACEDADM_CLSM025GL_7D_3_0_sfsm_inst\"][:]\n",
    "hum_lat_anomin = hum_anomin.variables[\"lat\"][:]\n",
    "hum_lon_anomin = hum_anomin.variables[\"lon\"][:]\n",
    "\n",
    "humedad_anomax = hum_anomax.variables[\"GRACEDADM_CLSM025GL_7D_3_0_sfsm_inst\"][:]\n",
    "hum_lat_anomax = hum_anomax.variables[\"lat\"][:]\n",
    "hum_lon_anomax = hum_anomax.variables[\"lon\"][:]\n",
    "\n",
    "humedad_neutro, hum_lat_neutro, hum_lon_neutro  = extract_from_region(humedad_neutro, hum_lat_neutro, hum_lon_neutro, region=regionh)\n",
    "humedad_anomin, hum_lat_anomin, hum_lon_anomin  = extract_from_region(humedad_anomin, hum_lat_anomin, hum_lon_anomin, region=regionh)\n",
    "humedad_anomax, hum_lat_anomax, hum_lon_anomax  = extract_from_region(humedad_anomax, hum_lat_anomax, hum_lon_anomax, region=regionh)"
   ]
  },
  {
   "cell_type": "code",
   "execution_count": null,
   "id": "d3dd61a7-aa4a-4ea4-a2d8-2cb33a60cb08",
   "metadata": {
    "tags": []
   },
   "outputs": [],
   "source": [
    "hm = 0 #min(humedad_anomax.min(), humedad_anomin.min(), humedad_neutro.min())"
   ]
  },
  {
   "cell_type": "code",
   "execution_count": null,
   "id": "54afa6f8-b3e1-4fe2-b0cc-be0840de42ac",
   "metadata": {
    "tags": []
   },
   "outputs": [],
   "source": [
    "hM = 100 # max(humedad_anomax.max(), humedad_anomin.max(), humedad_neutro.max())"
   ]
  },
  {
   "cell_type": "code",
   "execution_count": null,
   "id": "043e9767-34b8-4d43-8e52-95d7627644cf",
   "metadata": {
    "tags": []
   },
   "outputs": [],
   "source": [
    "hlevels = np.arange(hm, hM + 5, 5)"
   ]
  },
  {
   "cell_type": "code",
   "execution_count": null,
   "id": "3d7b9ac3-ea6c-49d0-b1bc-fd14b44fc020",
   "metadata": {
    "tags": []
   },
   "outputs": [],
   "source": [
    "fig, axs = plt.subplots(3, 1, subplot_kw={'projection': PlateCarree()}, figsize=(10, 10), sharex=True, sharey=True)\n",
    "\n",
    "\n",
    "axs[0].set_title(\"SST Anomalia MAX \\n(Oct-Nov-Dic 2018)\", fontsize=8)\n",
    "im2 = axs[0].contourf(hum_lon_anomax,  hum_lat_anomax, humedad_anomax, vmin=hm, vmax=hM, levels=hlevels, cmap=rain, zorder=0)\n",
    "divider = make_axes_locatable(axs[0])\n",
    "cax = divider.append_axes('bottom', size='5%', pad=0.4, axes_class=maxes.Axes)\n",
    "cbar2 = fig.colorbar(im2, cax=cax, orientation='horizontal' )\n",
    "for label in cbar2.ax.get_xticklabels():\n",
    "    label.set_rotation(45)\n",
    "    \n",
    "axs[1].set_title(\"SST Neutral \\n(May-Jun-Jul 2018)\", fontsize=8)\n",
    "im2 = axs[1].contourf(hum_lon_neutro,  hum_lat_neutro, humedad_neutro, vmin=hm, vmax=hM, levels=hlevels, cmap=rain, zorder=0)\n",
    "divider = make_axes_locatable(axs[1])\n",
    "cax = divider.append_axes('bottom', size='5%', pad=0.4, axes_class=maxes.Axes)\n",
    "cbar2 = fig.colorbar(im2, cax=cax, orientation='horizontal' )\n",
    "for label in cbar2.ax.get_xticklabels():\n",
    "    label.set_rotation(45)\n",
    "\n",
    "axs[2].set_title(\"SST Anomalia MIN \\n(Oct-Nov-Dic 2020)\", fontsize=8)\n",
    "im2 = axs[2].contourf(hum_lon_anomin,  hum_lat_anomin, humedad_anomin, vmin=hm, vmax=hM, levels=hlevels, cmap=rain, zorder=0)\n",
    "divider = make_axes_locatable(axs[2])\n",
    "cax = divider.append_axes('bottom', size='5%', pad=0.4, axes_class=maxes.Axes)\n",
    "cbar2 = fig.colorbar(im2,  cax=cax, orientation='horizontal' )\n",
    "for label in cbar2.ax.get_xticklabels():\n",
    "    label.set_rotation(45)\n",
    "\n",
    "for i in range(3):\n",
    "    axs[i].add_feature(COASTLINE, linewidth=0.5)\n",
    "\n",
    "    gl = axs[i].gridlines(crs=PlateCarree(), draw_labels=True, linestyle='--', zorder=0)\n",
    "    gl.yformatter = LATITUDE_FORMATTER\n",
    "    gl.xformatter = LONGITUDE_FORMATTER\n",
    "    gl.right_labels = False\n",
    "    gl.top_labels = False\n",
    "\n",
    "fig.tight_layout()\n",
    "plt.show()\n",
    "\n",
    "print(\"Figura 2: Anomalias sobre el pacifico. Imagen superior anomalía máxima, la del medio anomalía neutra e imagen inferior anomalía mínima. En las 3, recuadrado se encuentra la región 3.4.\")"
   ]
  },
  {
   "cell_type": "code",
   "execution_count": null,
   "id": "0ff2f86b-f315-4ebd-a6fa-efdd25624824",
   "metadata": {
    "tags": []
   },
   "outputs": [],
   "source": []
  },
  {
   "cell_type": "code",
   "execution_count": null,
   "id": "758ef025-c4e5-44a1-9d3a-a075725c8f52",
   "metadata": {},
   "outputs": [],
   "source": []
  }
 ],
 "metadata": {
  "kernelspec": {
   "display_name": "ocean-env",
   "language": "python",
   "name": "ocean-env"
  },
  "language_info": {
   "codemirror_mode": {
    "name": "ipython",
    "version": 3
   },
   "file_extension": ".py",
   "mimetype": "text/x-python",
   "name": "python",
   "nbconvert_exporter": "python",
   "pygments_lexer": "ipython3",
   "version": "3.10.11"
  }
 },
 "nbformat": 4,
 "nbformat_minor": 5
}
