{
 "cells": [
  {
   "cell_type": "markdown",
   "id": "eedadab5-6cc6-4576-802f-15aed0d87eb9",
   "metadata": {},
   "source": [
    "## TP03: Procesamiento de Imágenes."
   ]
  },
  {
   "cell_type": "code",
   "execution_count": null,
   "id": "b6ce0589-50a7-4e93-85ef-9b6984e7bdfb",
   "metadata": {
    "tags": []
   },
   "outputs": [],
   "source": [
    "import os\n",
    "\n",
    "import numpy as np\n",
    "import matplotlib.pyplot as plt\n",
    "from PIL import Image\n",
    "\n",
    "DATAFOLDER = \"./data\"\n",
    "nf2 = \"Eire2.bmp\"\n",
    "nf4 = \"Eire4.bmp\"\n",
    "\n",
    "def norm(r):\n",
    "    return 100 * r / r.sum()\n",
    "\n",
    "def filter_earth(r, cota):\n",
    "    return np.uint8((r > cota).astype(int))\n",
    "\n",
    "def filter_water(r, cota):\n",
    "    return np.uint8((r < cota).astype(int))\n",
    "\n",
    "def contraste_lineal(r, vmin, vmax):\n",
    "    return np.uint8((255*((r - vmin)/(vmax - vmin))))"
   ]
  },
  {
   "cell_type": "code",
   "execution_count": null,
   "id": "df0a50bf-5aca-4b33-b4c6-e1740a8e1e7d",
   "metadata": {
    "tags": []
   },
   "outputs": [],
   "source": [
    "eire4 = Image.open(os.path.join(DATAFOLDER, nf4))\n",
    "neire4 = np.asarray(eire4)\n",
    "eire2 = Image.open(os.path.join(DATAFOLDER, nf2))\n",
    "neire2 = np.asarray(eire2)\n",
    "cseire4 = contraste_lineal(neire4, neire4.min(), neire4.max())"
   ]
  },
  {
   "cell_type": "markdown",
   "id": "0b7a50de-6827-4bde-9179-e3feeaaf09c7",
   "metadata": {},
   "source": [
    "**1. Elegir la imagen EIRE4.BMP de la carpeta. En pixel info identificar los rangosde los píxeles, en tierra y en agua moviendo el cursor sobre distintos puntos de la imágen. Realizar el histograma correspondiente a la imagen completa. Corroborar cómo se comparan los rangos identificados previamente para los píxeles de tierra y agua con el/los picos del histograma**"
   ]
  },
  {
   "cell_type": "code",
   "execution_count": null,
   "id": "22531d2e-0e73-4e47-967b-ba44fcedbf59",
   "metadata": {
    "tags": []
   },
   "outputs": [],
   "source": [
    "fig, axs = plt.subplots(1, 1, layout='constrained', figsize=(15, 15), sharex=True, sharey=True)\n",
    "axs.set(title=\"eire4\")\n",
    "im = axs.imshow(eire4)\n",
    "cbar = fig.colorbar(im, orientation='vertical', label='brillo', shrink=0.4)\n",
    "plt.show()"
   ]
  },
  {
   "cell_type": "code",
   "execution_count": null,
   "id": "efbf580b-ba1d-41e6-b2a9-25557c563d81",
   "metadata": {
    "tags": []
   },
   "outputs": [],
   "source": [
    "hist4, bins4 = np.histogram(neire4, bins=179)\n",
    "\n",
    "bins4 = np.round(bins4)\n",
    "yMfill = 3\n",
    "ymfill = 0\n",
    "\n",
    "plt.figure(figsize=(10, 5))\n",
    "plt.plot(bins4[:-1], norm(hist4), \"o--\", c=\"dimgrey\", label=\"Eire4\")\n",
    "\n",
    "plt.plot([178, 178], [ymfill, yMfill], \"--\", color=\"orange\")\n",
    "plt.plot([125, 125], [ymfill, yMfill], \"--\", color=\"orange\")\n",
    "plt.fill_between([125, 178], [ymfill, ymfill], [yMfill, yMfill], color=\"saddlebrown\", alpha=0.3, label=\"Tierra\")\n",
    "\n",
    "plt.plot([70, 70], [0, yMfill], \"b--\")\n",
    "plt.plot([0, 0], [0, yMfill], \"b--\")\n",
    "plt.fill_between([0, 70], [ymfill, ymfill], [yMfill, yMfill], color=\"darkcyan\", alpha=0.3, label=\"Agua\")\n",
    "\n",
    "mm = 34\n",
    "Mm = 152\n",
    "plt.plot([mm, mm], [ymfill, yMfill], \"--\", color=\"b\", alpha=0.5, label=\"min modal\")\n",
    "plt.plot([Mm, Mm], [ymfill, yMfill], \"--\", color=\"orange\", alpha=0.5, label=\"max modal\")\n",
    "\n",
    "plt.title(\"Histograma\")\n",
    "plt.xlabel(\"Digital number\")\n",
    "plt.ylabel(\"%\")\n",
    "plt.legend()\n",
    "plt.grid()\n",
    "plt.show()"
   ]
  },
  {
   "cell_type": "markdown",
   "id": "19c63ae9-f488-48f8-bebc-356130cb8145",
   "metadata": {},
   "source": [
    "**2. En función al histograma, responder:**  \n",
    "\n",
    "\n",
    "**a. ¿Cuál es el valor de brillo (DN, digital number) de los píxeles más brillantes?**  \n",
    "El valos más brillante es de 178.\n",
    "\n",
    "**b. ¿Qué porcentaje representa éste sobre el máximo brillo que se puede mostrar (256 niveles de brillo)?**  \n",
    "Si no entiendo mal la pregunta, si consideramos el rango de brillos utilizados (178) de disponibles (256), esto representa el 70%.\n",
    "Es decir, estamos dejando un 30% del rango vacio. \n",
    "\n",
    "\n",
    "**c. ¿Cuál es el DN modal del pico más bajo, a qué cubierta corresponde (agua o tierra)?**\n",
    "\n",
    "El valor es 34 y corresponde, en principio, a pixeles de agua. "
   ]
  },
  {
   "cell_type": "markdown",
   "id": "0430e202-4608-441f-a5a8-9c6e770b5042",
   "metadata": {},
   "source": [
    "**d. Haciendo un subset rectangular (sub-imagen) en una porción de la imagen sólo de agua, rehacer el histograma y responder cuál es\n",
    "el DN de los píxeles más brillantes.**\n"
   ]
  },
  {
   "cell_type": "code",
   "execution_count": null,
   "id": "796d5dcb-cdc8-4f3a-af35-e08547dad069",
   "metadata": {
    "tags": []
   },
   "outputs": [],
   "source": [
    "x1 = 350\n",
    "x2 = 450\n",
    "y1 = 150\n",
    "y2 = 200\n",
    "area4 = neire4[y1:y2, x1:x2]\n",
    "iarea4 = Image.fromarray(area4)\n",
    "\n",
    "\n",
    "fig, axs = plt.subplots(1, 1, layout='constrained', figsize=(15, 15), sharex=True, sharey=True)\n",
    "axs.set(title=\"eire4\")\n",
    "im = axs.imshow(eire4)\n",
    "cbar = fig.colorbar(im, orientation='vertical', label='brillo', shrink=0.4)\n",
    "plt.plot([x1, x1, x2, x2, x1], [y1, y2, y2, y1, y1], c=\"r\")\n",
    "plt.show()\n",
    "\n"
   ]
  },
  {
   "cell_type": "code",
   "execution_count": null,
   "id": "8f2cedde-af21-4ac8-83a2-c09e729b50b7",
   "metadata": {
    "tags": []
   },
   "outputs": [],
   "source": [
    "hist4, bins4 = np.histogram(neire4, bins=179)\n",
    "histA4, binsA4 = np.histogram(area4, bins=82)\n",
    "\n",
    "plt.figure(figsize=(10, 5))\n",
    "plt.plot(np.round(bins4[:-1]), norm(hist4), \"o--\", c=\"dimgrey\", label=\"Eire4\")\n",
    "plt.plot(np.round(binsA4[:-1]), norm(histA4), \"o--\", c=\"darkcyan\", label=\"Subset\")\n",
    "\n",
    "plt.title(\"Histograma\")\n",
    "plt.xlabel(\"Digital number\")\n",
    "plt.ylabel(\"%\")\n",
    "plt.legend()\n",
    "plt.grid()\n",
    "plt.show()"
   ]
  },
  {
   "cell_type": "markdown",
   "id": "3db2e04e-9ae9-4c25-a1e4-025a0b33f61f",
   "metadata": {},
   "source": [
    "**3. Repetir 1 y 2 para EIRE2.BMP.  \n",
    "    Comparar los histogramas de ambas imágenes.**"
   ]
  },
  {
   "cell_type": "code",
   "execution_count": null,
   "id": "ee8d3413-1447-4547-aef8-52426dc3e491",
   "metadata": {
    "tags": []
   },
   "outputs": [],
   "source": [
    "_, axs = plt.subplots(1, 2, layout='constrained', figsize=(15, 15), sharex=True, sharey=True)\n",
    "axs[0].set(title=\"eire4\")\n",
    "axs[0].imshow(eire4)\n",
    "axs[1].set(title=\"eire2\")\n",
    "axs[1].imshow(eire2)\n",
    "plt.show()"
   ]
  },
  {
   "cell_type": "code",
   "execution_count": null,
   "id": "f2f653eb-eb79-4083-bf32-3bf9b53b459d",
   "metadata": {
    "tags": []
   },
   "outputs": [],
   "source": [
    "hist4, bins4 = np.histogram(neire4, bins=179)\n",
    "hist2, bins2 = np.histogram(neire2, bins=257)\n",
    "\n",
    "plt.figure(figsize=(10, 5))\n",
    "plt.plot(np.round(bins4[:-1]), norm(hist4), \"o--\", color=\"dimgrey\", label=\"Eire4\")\n",
    "plt.plot(np.round(bins2[:-1]), norm(hist2), \"o--\", c=\"pink\", label=\"Eire2\")\n",
    "\n",
    "plt.ylim([0, 3])\n",
    "plt.title(\"Histograma\")\n",
    "plt.xlabel(\"Digital number\")\n",
    "plt.ylabel(\"%\")\n",
    "plt.legend()\n",
    "plt.grid()\n",
    "plt.show()"
   ]
  },
  {
   "cell_type": "markdown",
   "id": "ba9699ce-64fa-46ca-bb02-5b6f800465e1",
   "metadata": {},
   "source": [
    "Si vemos ambas imagenes y los histogramas, se pueden notar tres cosas:  \n",
    "- Hay un corrimiento a la derecha de los pixeles de agua.\n",
    "- El rango de la nueva imagen va de 0 a 256, aprovechando todo el espectro disponible. \n",
    "- Los pixeles de tierra son anulados (en la figura de los histogramas no se muestra el ratio de pixieles con valor cero para Eire2, ya que estan casi todos los pixieles acumulados ahi)."
   ]
  },
  {
   "cell_type": "markdown",
   "id": "3836dad0-ac57-4a8e-9952-66681fa070ca",
   "metadata": {},
   "source": [
    "**4. El histograma de la imagen EIRE4.BMP confirma que la imagen no está desplegada en forma óptima. Esto significa que está algo oscura y no se aprovecha el rango total de niveles de brillo disponibles para el despliegue de los píxeles. A través de un proceso que se llama contrast stretching o contraste lineal se pueden desplegar los píxeles sobre el rango total de 256 valores de brillo (DNs) disponibles. En la solapa de color manipulation cambiar el rango máximo a un valor menor, por ejemplo 175 y describir cómo se modifica la imagen.**\n",
    "\n",
    "\n",
    "Para hacer esto, vamos a definir la función `contraste_lineal`, la cual me va a mover la imagen de su rango original al rango [0, 255] y lo transforma, por necesidades de las librerias de python, en  formato uint8 (un tipo de entero).\n",
    "\n",
    "```\n",
    "def contraste_lineal(r, vmin, vmax):\n",
    "    return np.uint8((255*((r - vmin)/(vmax - vmin))))\n",
    "```\n"
   ]
  },
  {
   "cell_type": "code",
   "execution_count": null,
   "id": "060fa799-52f0-445b-85b0-c26ff088b742",
   "metadata": {
    "tags": []
   },
   "outputs": [],
   "source": [
    "ncseire4 = contraste_lineal(neire4,  neire4.min(), neire4.max())\n",
    "cseire4 = Image.fromarray(ncseire4)"
   ]
  },
  {
   "cell_type": "code",
   "execution_count": null,
   "id": "fc222412-6ddf-4c1e-af28-ce9b1da5e3a0",
   "metadata": {
    "tags": []
   },
   "outputs": [],
   "source": [
    "_, axs = plt.subplots(1, 2, layout='constrained', figsize=(15, 15), sharex=True, sharey=True)\n",
    "axs[0].set(title=\"eire4\")\n",
    "axs[0].imshow(eire4, vmin=0, vmax=256)\n",
    "axs[1].set(title=\"Constraste lineal eire4\")\n",
    "axs[1].imshow(cseire4, vmin=0, vmax=256)"
   ]
  },
  {
   "cell_type": "markdown",
   "id": "3689c03f-c2bc-4f1a-85f6-3e062430a8c3",
   "metadata": {},
   "source": [
    "Python al mostrar la imagen hace un _contrast stretching_ salvo que se indique lo contrario. Las imagen de eire4 anteriores a estas tienen _contrast stretching_ automatizado, en este caso se muestra sin las modificaciones (la imagen de la izquierda) y con las modficaciones \"manuales\" (imagen de la derecha)."
   ]
  },
  {
   "cell_type": "code",
   "execution_count": null,
   "id": "e727d401-297d-4d9d-ae50-06c0080adc37",
   "metadata": {
    "tags": []
   },
   "outputs": [],
   "source": [
    "hist4, bins4 = np.histogram(neire4, bins=179)\n",
    "hist4b, bins4b = np.histogram(ncseire4, bins=256)\n",
    "\n",
    "plt.figure(figsize=(10, 5))\n",
    "plt.plot(np.round(bins4[:-1]), norm(hist4), \"o--\", color=\"dimgrey\", label=\"Eire4\")\n",
    "plt.plot(np.round(bins4b[:-1]), norm(hist4b), \"o--\", c=\"lime\", label=\"Eire4 with contrast stretching\", alpha=0.5)\n",
    "\n",
    "plt.title(\"Histograma\")\n",
    "plt.xlabel(\"Digital number\")\n",
    "plt.ylabel(\"%\")\n",
    "plt.legend()\n",
    "plt.grid()\n",
    "plt.show()"
   ]
  },
  {
   "cell_type": "markdown",
   "id": "15206ef2-6b30-4a91-9669-2d5fdc075828",
   "metadata": {},
   "source": [
    "Aplicando el _contrast stretching_ se pueden notar dos cosas:  \n",
    "- El corrimiento de los picos hacia la derecha.  \n",
    "- La presencia de valores intermedios nulos en el histograma. Al expendir ocupa el rango de punta a punta, pero eso hace que existan mayores \"vacios\" intermedios."
   ]
  },
  {
   "cell_type": "markdown",
   "id": "1d8ae292-12b2-4392-9e3c-145cc9f2fc76",
   "metadata": {
    "tags": []
   },
   "source": [
    "**5. Máscara o filtro. El objetivo es enmascarar los píxeles de tierra.  Definimos el filtro `if EIRE2 > 45 then 0 else 1` donde 45 es un posible umbral entre tierra y agua. Si se multiplica a EIER4 por este filtro, se retienen sólo los píxeles que están sobre agua, y los píxeles correspondientes a tierra adquieren valor 0.**\n",
    "\n"
   ]
  },
  {
   "cell_type": "code",
   "execution_count": null,
   "id": "0840b634-bcc9-4a96-927e-f2285853ad1d",
   "metadata": {
    "tags": []
   },
   "outputs": [],
   "source": [
    "neire2\n",
    "fearth = filter_earth(neire2, 45)\n",
    "iearth = Image.fromarray(255 * fearth)\n",
    "fneire4 = neire4 * fearth\n",
    "ifneire4 = Image.fromarray(fneire4)"
   ]
  },
  {
   "cell_type": "code",
   "execution_count": null,
   "id": "58e035e1-7917-4fe4-b037-37866091f236",
   "metadata": {
    "tags": []
   },
   "outputs": [],
   "source": [
    "_, axs = plt.subplots(1, 2, layout='constrained', figsize=(15, 15), sharex=True, sharey=True)\n",
    "axs[0].set(title=\"eire2\")\n",
    "axs[0].imshow(eire2,)\n",
    "axs[1].set(title=\"filtro tierra\")\n",
    "axs[1].imshow(iearth,)\n",
    "plt.show()"
   ]
  },
  {
   "cell_type": "code",
   "execution_count": null,
   "id": "631cdcfa-f30d-42d6-9bb9-7686cc509e53",
   "metadata": {
    "tags": []
   },
   "outputs": [],
   "source": [
    "_, axs = plt.subplots(1, 2, layout='constrained', figsize=(15, 15), sharex=True, sharey=True)\n",
    "axs[0].set(title=\"eire4\")\n",
    "axs[0].imshow(eire4)\n",
    "axs[1].set(title=\"Eire4 con filtro tierra\")\n",
    "axs[1].imshow(ifneire4)\n",
    "plt.show()"
   ]
  },
  {
   "cell_type": "markdown",
   "id": "8870fdfe-bfca-4c12-8504-90126e5e7b76",
   "metadata": {
    "tags": []
   },
   "source": [
    "**6. Filtro espacial. Se puede determinar el rango espacial en km definiendo la  cantidad de píxeles a considerar. Se aplica un filtro espacial pasa-bajo, es\n",
    "decir que se retienen las longitudes de onda mayores a las del umbral elegido, por lo tanto se suaviza la imagen.** \n",
    "\n",
    "```Raster → filtered band → smooth and blurr → arithmetic mean 3x3.```  \n",
    "\n",
    "**Observar qué sucede cerca de la línea de costa. ¿Son correctos esos valores?  \n",
    "Piense cómo podría solucionar este problema. Probar hacer el siguiente filtro:**  \n",
    "\n",
    "```If EIRE2 > 45 then NaN else EIRE4 ```  \n",
    "\n",
    "**Luego, aplicar el filtro pasa-bajo nuevo y determinar cómo se modificó el  problema identificado en la línea de costa y cuál es el nuevo inconveniente\n",
    "que aparece.**"
   ]
  },
  {
   "cell_type": "code",
   "execution_count": null,
   "id": "03f5229f-4075-4174-8a78-2ac3859db660",
   "metadata": {},
   "outputs": [],
   "source": [
    "import cv2"
   ]
  },
  {
   "cell_type": "code",
   "execution_count": null,
   "id": "2a73b162-401f-4060-96af-1910190588a4",
   "metadata": {
    "tags": []
   },
   "outputs": [],
   "source": [
    "nima = ncseire4.copy()"
   ]
  },
  {
   "cell_type": "code",
   "execution_count": null,
   "id": "a32f7f2e-e1c6-4e4c-a3e6-b047f5e8ea67",
   "metadata": {},
   "outputs": [],
   "source": [
    "average_blur = cv2.blur(nima, (3, 3))\n",
    "smooth = Image.fromarray(average_blur)"
   ]
  },
  {
   "cell_type": "code",
   "execution_count": null,
   "id": "0ca2978c-908d-496f-b32b-ab3a854950a5",
   "metadata": {
    "tags": []
   },
   "outputs": [],
   "source": [
    "_, axs = plt.subplots(1, 2, layout='constrained', figsize=(15, 15), sharex=True, sharey=True)\n",
    "axs[0].set(title=\"eire4 [0, 256]\")\n",
    "axs[0].imshow(cseire4)\n",
    "axs[1].set(title=\"smoth and blur\")\n",
    "axs[1].imshow(smooth)\n",
    "plt.show()"
   ]
  },
  {
   "cell_type": "markdown",
   "id": "d4580869-3a92-4752-8702-e05d1970edfa",
   "metadata": {},
   "source": [
    "En la izquierda la imagen original, a la derecha la imagen \"blureada\", no termina de distinguirse las lineas de costa."
   ]
  },
  {
   "cell_type": "code",
   "execution_count": null,
   "id": "00e194f7-64b2-4cc0-840d-2b34280a9ccf",
   "metadata": {
    "tags": []
   },
   "outputs": [],
   "source": [
    "histavb, binsavb = np.histogram(average_blur, bins=256)\n",
    "hist4b, bins4b = np.histogram(ncseire4, bins=256)\n",
    "\n",
    "plt.figure(figsize=(10, 5))\n",
    "plt.plot(np.round(binsavb[:-1]), norm(histavb), \"--\", color=\"indigo\", label=\"smoth and blur\")\n",
    "plt.plot(np.round(bins4b[:-1]), norm(hist4b), \"o--\", c=\"dimgrey\", label=\"Eire4 with contrast stretching\", alpha=0.5)\n",
    "\n",
    "plt.title(\"Histograma\")\n",
    "plt.xlabel(\"Digital number\")\n",
    "plt.ylabel(\"%\")\n",
    "plt.legend()\n",
    "plt.grid()\n",
    "plt.show()"
   ]
  },
  {
   "cell_type": "markdown",
   "id": "714124e4-ba3a-4dd0-a975-e9088d06f62d",
   "metadata": {},
   "source": [
    "Si se puede  ver que se suaviza la  distribucion y se \"completa\", es decir, se hace uso de todo el DN number disponible."
   ]
  },
  {
   "cell_type": "code",
   "execution_count": null,
   "id": "5afb662d-b531-4da8-a99a-f2d1caaf4395",
   "metadata": {
    "tags": []
   },
   "outputs": [],
   "source": [
    "cnima = nima.copy()\n",
    "limi, limj = cnima.shape\n",
    "\n",
    "cnima = np.where(cnima * fearth == 0, np.nan, cnima)\n",
    "ccnima = cnima.copy()"
   ]
  },
  {
   "cell_type": "code",
   "execution_count": null,
   "id": "46a5046d-e035-4b47-bedc-76099f938b05",
   "metadata": {
    "tags": []
   },
   "outputs": [],
   "source": [
    "for i in range(limi):\n",
    "    for j in range(limj):\n",
    "        bi = i if i > 0 else 1\n",
    "        bj = j if j > 0 else 1\n",
    "        ti = i if i <= (limi - 1) else limi - 2\n",
    "        tj = j if j <= (limj - 1) else limj - 2\n",
    "        aux = cnima[bi - 1:ti + 2, bj - 1:tj + 2].copy()\n",
    "        mean =  np.uint8(np.nanmean(aux))\n",
    "        aux = np.where(np.isnan(aux), aux, mean)\n",
    "        ccnima[bi - 1:ti + 2, bj - 1:tj + 2] = aux.copy()\n",
    "ccnima = np.where(np.isnan(ccnima), np.uint8(0), np.uint8(ccnima))"
   ]
  },
  {
   "cell_type": "code",
   "execution_count": null,
   "id": "5048d5d1-b395-4929-b18c-cb1e4864ddfa",
   "metadata": {
    "tags": []
   },
   "outputs": [],
   "source": [
    "iccima = Image.fromarray(ccnima) \n",
    "fnima = nima * fearth\n",
    "imfnima = Image.fromarray(fnima)\n",
    "\n",
    "_, axs = plt.subplots(1, 2, layout='constrained', figsize=(15, 15), sharex=True, sharey=True)\n",
    "axs[0].set(title=\"eire4 [0, 256]\")\n",
    "axs[0].imshow(imfnima)\n",
    "axs[1].set(title=\"smoth and blur\")\n",
    "axs[1].imshow(iccima)\n",
    "plt.show()"
   ]
  },
  {
   "cell_type": "markdown",
   "id": "47757760-e23c-4e6b-bb3f-f4b078f069eb",
   "metadata": {},
   "source": [
    "Imagen de la izquierda con Eire4 usando el filtro de tierras. A la derecha, la imagen aplicando el filtro de tierra y \"smooth\", usando np.nans en la \"tierra\" e ignorando  estos para el promedio."
   ]
  },
  {
   "cell_type": "code",
   "execution_count": null,
   "id": "36f74e81-d2df-4996-93fd-d892dc533651",
   "metadata": {
    "tags": []
   },
   "outputs": [],
   "source": [
    "histcc, binscc = np.histogram(ccnima , bins=256)\n",
    "histf4, binsf4 = np.histogram(fnima, bins=256)\n",
    "\n",
    "plt.figure(figsize=(10, 5))\n",
    "plt.plot(np.round(binsf4[:-1]), norm(histf4), \"o--\", color=\"dimgrey\", label=\"Eire4 with earth filter\")\n",
    "plt.plot(np.round(binscc[:-1]), norm(histcc), \"o--\", c=\"indigo\", label=\"Eire4 with earth filter + smooth\", alpha=0.5)\n",
    "\n",
    "plt.ylim([0, 3])\n",
    "plt.title(\"Histograma\")\n",
    "plt.xlabel(\"Digital number\")\n",
    "plt.ylabel(\"%\")\n",
    "plt.legend()\n",
    "plt.grid()\n",
    "plt.show()"
   ]
  }
 ],
 "metadata": {
  "kernelspec": {
   "display_name": "ocean-env",
   "language": "python",
   "name": "ocean-env"
  },
  "language_info": {
   "codemirror_mode": {
    "name": "ipython",
    "version": 3
   },
   "file_extension": ".py",
   "mimetype": "text/x-python",
   "name": "python",
   "nbconvert_exporter": "python",
   "pygments_lexer": "ipython3",
   "version": "3.10.11"
  }
 },
 "nbformat": 4,
 "nbformat_minor": 5
}
