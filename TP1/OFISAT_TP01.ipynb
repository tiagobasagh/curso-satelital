{
 "cells": [
  {
   "cell_type": "markdown",
   "metadata": {
    "id": "fBrpnvHJ7q4u"
   },
   "source": [
    "# OFISAT 2022 TP01\n",
    "### Familiarización con archivos .nc"
   ]
  },
  {
   "cell_type": "markdown",
   "metadata": {
    "id": "J7YqmGlZ8F2X"
   },
   "source": [
    "\n",
    "\n",
    "---\n",
    "\n",
    "\n",
    "Primero cargamos todas las librerías que contienen las funciones que necesitamos"
   ]
  },
  {
   "cell_type": "code",
   "execution_count": null,
   "metadata": {
    "colab": {
     "base_uri": "https://localhost:8080/",
     "height": 975
    },
    "id": "MJQ_s56TYh4N",
    "outputId": "8f0e9471-4ac5-452a-e0af-8afd169793bb"
   },
   "outputs": [],
   "source": [
    "%pip uninstall shapely\n",
    "%pip install shapely --no-binary shapely\n",
    "import xarray as xr\n",
    "import numpy as np\n",
    "%pip install --upgrade netCDF4\n",
    "import netCDF4 as nc\n",
    "import matplotlib.pyplot as plt\n",
    "import matplotlib.dates as mdates\n",
    "%pip install --upgrade cartopy\n",
    "import cartopy.crs as ccrs\n",
    "import cartopy.feature as cfeature\n",
    "from cartopy.mpl.ticker import LongitudeFormatter, LatitudeFormatter\n",
    "from cartopy.mpl.gridliner import LONGITUDE_FORMATTER, LATITUDE_FORMATTER\n",
    "import pandas as pd"
   ]
  },
  {
   "cell_type": "code",
   "execution_count": null,
   "metadata": {
    "colab": {
     "base_uri": "https://localhost:8080/"
    },
    "id": "xXTJVwa2m7Gb",
    "outputId": "6f07750a-e683-45e3-e45d-7a5069eca99f"
   },
   "outputs": [],
   "source": [
    "from google.colab import drive\n",
    "drive.mount('/content/drive')"
   ]
  },
  {
   "cell_type": "markdown",
   "metadata": {
    "id": "gOD3aFW58EQ8"
   },
   "source": [
    "\n",
    "\n",
    "---\n",
    "\n",
    "\n",
    "ahora cargamos un archivo .nc que ya hemos visto en Panoply"
   ]
  },
  {
   "cell_type": "markdown",
   "metadata": {
    "id": "7Zcvvgw2Rl4r"
   },
   "source": [
    "Acá ojo, tengo que elegir la dirección en la que se encuentran mis datos"
   ]
  },
  {
   "cell_type": "code",
   "execution_count": null,
   "metadata": {
    "id": "k7tzhT0oDrfj"
   },
   "outputs": [],
   "source": [
    "# OPCION 1: si tengo los datos cargados en una carpeta de mi drive personal\n",
    "from google.colab import drive\n",
    "dirarchivo='/content/drive/My Drive/Oceanografia Satelital 2022/TP01 - Archivos NetCDF'\n",
    "#%reset"
   ]
  },
  {
   "cell_type": "code",
   "execution_count": null,
   "metadata": {
    "id": "vvP9wTK0wvLD"
   },
   "outputs": [],
   "source": [
    "file=nc.Dataset(dirarchivo +\"/METOFFICE-GLO-SST-L4-NRT-OBS-SST-V2_1599167796854.nc\")"
   ]
  },
  {
   "cell_type": "code",
   "execution_count": null,
   "metadata": {
    "id": "9Inu_nULR24_"
   },
   "outputs": [],
   "source": [
    "# OPCION 2: si tengo los datos cargados en una carpeta de mi disco local\n",
    "# en file subo el archivo de manera manual\n",
    "file = nc.Dataset('/content/METOFFICE-GLO-SST-L4-NRT-OBS-SST-V2_1599167796854.nc')"
   ]
  },
  {
   "cell_type": "markdown",
   "metadata": {
    "id": "EAeEJC__9EDs"
   },
   "source": [
    "\n",
    "\n",
    "---\n",
    "\n",
    "Cargamos las variables"
   ]
  },
  {
   "cell_type": "code",
   "execution_count": null,
   "metadata": {
    "colab": {
     "base_uri": "https://localhost:8080/"
    },
    "id": "_xIrl2mbYzlr",
    "outputId": "8bd632b1-095d-4852-e1cd-966109485fef"
   },
   "outputs": [],
   "source": [
    "file.variables.keys()"
   ]
  },
  {
   "cell_type": "code",
   "execution_count": null,
   "metadata": {
    "colab": {
     "base_uri": "https://localhost:8080/"
    },
    "id": "i6jc1IqQkRTN",
    "outputId": "367c92de-23c8-4c51-cff3-7a4992681c8a"
   },
   "outputs": [],
   "source": [
    "lon=file.variables[\"lon\"][:]\n",
    "lon=lon-360\n",
    "lat=file.variables[\"lat\"][:]\n",
    "time=file.variables[\"time\"][:]\n",
    "sst=file.variables[\"analysed_sst\"][:] #esta en grados kelvin lo tengo que pasar celsius\n",
    "sst=sst-273.15 #lo paso a deg C\n",
    "\n",
    "data = file.variables[\"analysed_sst\"]\n",
    "print(\"analysed_sst\", data.units, data.shape, data.dtype, data.dimensions)\n",
    "del data\n",
    "# file.close()\n",
    "\n",
    "data = file.variables[\"time\"]\n",
    "print(\"time\", data.units, data.shape, data.dtype, data.dimensions)\n",
    "del data"
   ]
  },
  {
   "cell_type": "markdown",
   "metadata": {
    "id": "wu7Z_5DK9LzE"
   },
   "source": [
    "\n",
    "\n",
    "---\n",
    "Algunas figuras (mapas)\n"
   ]
  },
  {
   "cell_type": "code",
   "execution_count": null,
   "metadata": {
    "colab": {
     "base_uri": "https://localhost:8080/",
     "height": 756
    },
    "id": "oOUhT61WY4kD",
    "outputId": "28f22397-755f-4b93-9ef3-1f7e99c7dca3"
   },
   "outputs": [],
   "source": [
    "# Projeccion PlateCarree\n",
    "fig=plt.figure(figsize=(15,15))\n",
    "fig.subplots_adjust(top=10,bottom=9.5)\n",
    "ax= fig.add_subplot(111,projection=ccrs.PlateCarree())\n",
    "\n",
    "CS=ax.contourf(lon[1382:2700],lat,sst[0,:,1382:2700],10,cmap='jet')\n",
    "cbar=fig.colorbar(CS,orientation='horizontal',\n",
    "                  label='Temperatura (°C)',shrink=0.7)\n",
    "cs=plt.contour(lon[1382:2700],lat,sst[0,:,1382:2700],4,colors='k')\n",
    "plt.clabel(cs,inline=1,fmt='%1.1f')\n",
    "plt.title('Temperatura Superficial del Mar',loc='center',pad=25,fontsize=22)\n",
    "ax.add_feature(cfeature.LAND,facecolor='silver')\n",
    "ax.add_feature(cfeature.BORDERS, linestyle=':')\n",
    "g1=ax.gridlines(crs=ccrs.PlateCarree(),draw_labels=True,linestyle='--',linewidth=1)\n",
    "g1.ylabels_right = False\n",
    "g1.xlabels_top = False\n",
    "g1.yformatter= LATITUDE_FORMATTER\n",
    "g1.xformatter= LONGITUDE_FORMATTER\n",
    "g1.xlabel_style={'size':12}\n",
    "g1.ylabel_style={'size':12}\n",
    "#plt.savefig(dirarchivos+\"/figura1(SST).png\",dpi=300)"
   ]
  },
  {
   "cell_type": "code",
   "execution_count": null,
   "metadata": {
    "colab": {
     "base_uri": "https://localhost:8080/",
     "height": 854
    },
    "id": "qwpqXSQBY8mn",
    "outputId": "8985d8fd-8c2c-4087-86c3-d2c81bd275cb"
   },
   "outputs": [],
   "source": [
    "# Projeccion Orthographic\n",
    "fig=plt.figure(figsize=(15,15))\n",
    "fig.subplots_adjust(top=10,bottom=9.5)\n",
    "ax= fig.add_subplot(111,projection=ccrs.Orthographic(-60,-30))\n",
    "CS=ax.contourf(lon[1382:2700],lat,sst[0,:,1382:2700],10,cmap='jet',transform=ccrs.PlateCarree())\n",
    "cbar=fig.colorbar(CS,orientation='horizontal',\n",
    "                  label='Temperatura (°C)',shrink=0.7)\n",
    "cs=plt.contour(lon[1382:2700],lat,sst[0,:,1382:2700],4,colors='k',transform=ccrs.PlateCarree())\n",
    "plt.clabel(cs,inline=1,fmt='%1.1f')\n",
    "plt.title('Temperatura Superficial del Mar',loc='center',pad=25,fontsize=22)\n",
    "ax.add_feature(cfeature.LAND,facecolor='silver')\n",
    "ax.add_feature(cfeature.BORDERS, linestyle=':')\n",
    "g1=ax.gridlines(crs=ccrs.PlateCarree(),draw_labels=True,\n",
    "                linestyle='--',linewidth=1)\n",
    "g1.ylabels_right = False\n",
    "g1.xlabels_top = False\n",
    "g1.yformatter= LATITUDE_FORMATTER\n",
    "g1.xformatter= LONGITUDE_FORMATTER\n",
    "g1.xlabel_style={'size':12}\n",
    "g1.ylabel_style={'size':12}\n",
    "#ax.gridlines()"
   ]
  },
  {
   "cell_type": "code",
   "execution_count": null,
   "metadata": {
    "id": "YqiD5u19DoAb"
   },
   "outputs": [],
   "source": [
    "import datetime\n",
    "import pandas as pd\n",
    "\n",
    "time2 = time/(60*60*24) + 723547 #datetime.date.toordinal(datetime.date(1981,1,1))\n",
    "pd.to_datetime(time2[0]-719529, unit='D')\n",
    "\n",
    "[a,b]=np.nanmin(lat--38)\n"
   ]
  }
 ],
 "metadata": {
  "colab": {
   "provenance": []
  },
  "kernelspec": {
   "display_name": "Python 3 (ipykernel)",
   "language": "python",
   "name": "python3"
  },
  "language_info": {
   "codemirror_mode": {
    "name": "ipython",
    "version": 3
   },
   "file_extension": ".py",
   "mimetype": "text/x-python",
   "name": "python",
   "nbconvert_exporter": "python",
   "pygments_lexer": "ipython3",
   "version": "3.11.3"
  },
  "vscode": {
   "interpreter": {
    "hash": "31f2aee4e71d21fbe5cf8b01ff0e069b9275f58929596ceb00d14d90e3e16cd6"
   }
  }
 },
 "nbformat": 4,
 "nbformat_minor": 4
}
