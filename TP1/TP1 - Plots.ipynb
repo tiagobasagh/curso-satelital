{
 "cells": [
  {
   "cell_type": "markdown",
   "id": "63e01dad-eb66-4a01-a716-b8c5cd7d7263",
   "metadata": {
    "tags": []
   },
   "source": [
    "# TP01: Archivos netCDF Image\n"
   ]
  },
  {
   "cell_type": "code",
   "execution_count": null,
   "id": "29e27e1f-e2be-40ad-85de-a0cb246943d5",
   "metadata": {
    "tags": []
   },
   "outputs": [],
   "source": [
    "import datetime as dt\n",
    "import os\n",
    "from numbers import Number\n",
    "\n",
    "import netCDF4 as nc\n",
    "import numpy as np\n",
    "import pandas as pd\n",
    "import xarray as xr\n",
    "\n",
    "# librerias graficas\n",
    "import cartopy.crs as ccrs\n",
    "import cartopy.feature as cfeature\n",
    "import matplotlib.pyplot as plt\n",
    "import matplotlib.dates as mdates\n",
    "from cartopy.mpl.ticker import LongitudeFormatter, LatitudeFormatter\n",
    "from cartopy.mpl.gridliner import LONGITUDE_FORMATTER, LATITUDE_FORMATTER\n",
    "\n",
    "\n",
    "def kelvin2celcius(t):\n",
    "    return t -273.15\n",
    "\n",
    "def timezero(unit, unit_format):\n",
    "    return dt.datetime.strptime(unit, unit_format)\n",
    "\n",
    "def floatdays_to_timedelta(d):\n",
    "    days = int(np.trunc(d))\n",
    "    h = 24 * (d - days)\n",
    "    hours = int(h)\n",
    "    m = 60 * (h - hours)\n",
    "    minutes = int(m)\n",
    "    s = 60 * (m - minutes)\n",
    "    seconds = int(s)\n",
    "    td = dt.timedelta(days=days, hours=hours, minutes=minutes, seconds=seconds)\n",
    "    return td\n",
    "\n",
    "def copernicus_to_datetime(time, unit=None, unit_format=None):\n",
    "    time_zero = timezero(unit, unit_format)\n",
    "    if isinstance(time, Number):\n",
    "        return time_zero + floatdays_to_timedelta(time)\n",
    "    else:\n",
    "        times = [time_zero + floatdays_to_timedelta(t) for t in time]\n",
    "        return np.asarray(times)\n",
    "    \n",
    "def date_to_str(t, tformat):\n",
    "    return dt.datetime.strftime(t, tformat)\n",
    "\n",
    "def to_ticks(time_zero, delta, n):\n",
    "    return [time_zero + i * delta for i in range(n)]\n",
    "\n",
    "def outofrange_to_nan(matrix, minvalue=0, maxvalue=100):\n",
    "    return np.where(np.logical_and(matrix>minvalue, matrix<maxvalue), matrix, np.nan)\n",
    "\n",
    "\n",
    "DATADIR = \"./data\""
   ]
  },
  {
   "cell_type": "markdown",
   "id": "0bb2be6c-9748-404c-8f95-330d9a817c11",
   "metadata": {
    "tags": []
   },
   "source": [
    "## ARCHIVO: METOFFICE-GLO-SST-L4-RAN-OBS-SST_1574878238997"
   ]
  },
  {
   "cell_type": "code",
   "execution_count": null,
   "id": "eefdd34c-4f44-468e-84d6-00e97483f4ff",
   "metadata": {
    "tags": []
   },
   "outputs": [],
   "source": [
    "nf = \"METOFFICE-GLO-SST-L4-RAN-OBS-SST_1574878238997.nc\" \n",
    "ds = nc.Dataset(os.path.join(DATADIR, nf))"
   ]
  },
  {
   "cell_type": "markdown",
   "id": "9f80c631-1ca4-40b8-ae68-3e699e363a16",
   "metadata": {
    "tags": []
   },
   "source": [
    "### **Visualice los atributos del archivo (origen de los datos, fecha de creación, unidades, etc)**\n",
    "\n"
   ]
  },
  {
   "cell_type": "code",
   "execution_count": null,
   "id": "e2389694-12ac-450e-93db-e7f7d28b2308",
   "metadata": {
    "tags": []
   },
   "outputs": [],
   "source": [
    "for attr in ds.ncattrs():\n",
    "    print(f\"{attr}: \", ds.getncattr(attr))"
   ]
  },
  {
   "cell_type": "markdown",
   "id": "b260afa1-6179-4bb9-893d-9297a12fa600",
   "metadata": {
    "tags": []
   },
   "source": [
    "**variables y dimensiones**\n",
    "\n"
   ]
  },
  {
   "cell_type": "code",
   "execution_count": null,
   "id": "d7583f33-204a-4f5b-a652-f73cf3de74a8",
   "metadata": {
    "tags": []
   },
   "outputs": [],
   "source": [
    "for key, var in ds.variables.items():\n",
    "    print(f\"{key}: \")\n",
    "    for attr in var.ncattrs():\n",
    "        print(f\"\\t{attr}: {var.getncattr(attr)}\")"
   ]
  },
  {
   "cell_type": "code",
   "execution_count": null,
   "id": "2e463d80-79d8-45ae-96f4-74abf3667bc0",
   "metadata": {
    "tags": []
   },
   "outputs": [],
   "source": [
    "for key, dim in ds.dimensions.items():\n",
    "    print(f\"dimension: {dim.name}, size: {dim.size}\")"
   ]
  },
  {
   "cell_type": "code",
   "execution_count": null,
   "id": "8bc7ca70-ee07-42a4-b63d-82bb648130f2",
   "metadata": {
    "tags": []
   },
   "outputs": [],
   "source": [
    "lon = ds.variables[\"lon\"][:]\n",
    "lat = ds.variables[\"lat\"][:]\n",
    "time = ds.variables[\"time\"][:]\n",
    "sst = ds.variables[\"analysed_sst\"][:]\n",
    "err = ds.variables[\"analysis_error\"][:]\n",
    "sst = kelvin2celcius(sst)"
   ]
  },
  {
   "cell_type": "markdown",
   "id": "3a6cbe57-94f9-46e4-aac9-af750dcc5ee9",
   "metadata": {
    "tags": []
   },
   "source": [
    "### **a. Mapa lat-lon con diferentes proyecciones.**\n",
    "\n",
    "\n",
    "Link con todas las  projecciones disponibles:  \n",
    "https://scitools.org.uk/cartopy/docs/v0.15/crs/projections.html \n",
    "\n"
   ]
  },
  {
   "cell_type": "markdown",
   "id": "a6f71048-54b2-4c40-bba9-e36c23006306",
   "metadata": {
    "tags": []
   },
   "source": [
    "#### Projeccion PlateCarree"
   ]
  },
  {
   "cell_type": "code",
   "execution_count": null,
   "id": "a14bb8bf-d584-4b58-acfd-d76b3dcfa821",
   "metadata": {
    "tags": []
   },
   "outputs": [],
   "source": [
    "fig = plt.figure(figsize=(8, 6))\n",
    "fig.subplots_adjust(top=10, bottom=9.5)\n",
    "ax = fig.add_subplot(111, projection=ccrs.PlateCarree())\n",
    "\n",
    "CS = ax.contourf(lon, lat, sst[0, :, :], 10, cmap='bwr', zorder=0)\n",
    "cbar = fig.colorbar(CS, \n",
    "                   orientation='vertical',\n",
    "                   label='Temperatura (°C)',\n",
    "                   shrink=0.7)\n",
    "\n",
    "# agrego el contorno entre valores y su valor\n",
    "cs = plt.contour(lon, lat, sst[0, :, :], 5, colors='k', linestyles=\"dashed\", alpha=1)\n",
    "plt.clabel(cs, inline=1, fmt='%1.1f')\n",
    "\n",
    "plt.title('Temperatura superficial del Mar', loc='center', fontsize=15)\n",
    "g = ax.gridlines(crs=ccrs.PlateCarree(), draw_labels=True,  zorder=0)\n",
    "g.ylabels_right = False\n",
    "g.xlabels_top = False\n",
    "g.yformatter = LATITUDE_FORMATTER\n",
    "g.xformatter = LONGITUDE_FORMATTER\n",
    "g.xlabel_style={'size':12}\n",
    "g.ylabel_style={'size':12}"
   ]
  },
  {
   "cell_type": "markdown",
   "id": "464ba5c9-4327-4e3f-b6fb-e731a1243a1b",
   "metadata": {
    "tags": []
   },
   "source": [
    "#### Projeccion Orthographic"
   ]
  },
  {
   "cell_type": "code",
   "execution_count": null,
   "id": "d30b5d33-9bf3-4867-b799-3c21256d8434",
   "metadata": {
    "tags": []
   },
   "outputs": [],
   "source": [
    "# Projeccion Orthograaphic\n",
    "fig = plt.figure(figsize=(8, 6))\n",
    "fig.subplots_adjust(top=10, bottom=9.5)\n",
    "ax = fig.add_subplot(111, projection=ccrs.Orthographic(-60,-30))\n",
    "\n",
    "\n",
    "ax.add_feature(cfeature.LAND, facecolor='white', zorder=1)\n",
    "# ax.add_feature(cfeature.BORDERS, linestyle=':')\n",
    "ax.add_feature(cfeature.COASTLINE, linewidth=0.5)\n",
    "\n",
    "\n",
    "CS = ax.contourf(lon, lat, sst[0, :], 10, cmap='bwr', transform=ccrs.PlateCarree(), zorder=0)\n",
    "cbar = fig.colorbar(CS, orientation='vertical', label='Temperatura (°C)', shrink=0.7)\n",
    "\n",
    "# agrego el contorno entre valores y su valor\n",
    "cs = plt.contour(lon, lat, sst[0, :, :], 5, colors='k', linestyles=\"dashed\", alpha=1, transform=ccrs.PlateCarree())\n",
    "plt.clabel(cs, inline=1, fmt='%1.1f')\n",
    "\n",
    "ax.add_feature(cfeature.LAND,facecolor='silver')\n",
    "ax.add_feature(cfeature.BORDERS, linestyle=':')\n",
    "\n",
    "plt.title('Temperatura superficial del Mar', loc='center', fontsize=15)\n",
    "g = ax.gridlines(crs=ccrs.PlateCarree(), draw_labels=True,  zorder=0)\n",
    "g.ylabels_right = False\n",
    "g.xlabels_top = False\n",
    "g.yformatter = LATITUDE_FORMATTER\n",
    "g.xformatter = LONGITUDE_FORMATTER\n",
    "g.xlabel_style={'size':12}\n",
    "g.ylabel_style={'size':12}"
   ]
  },
  {
   "cell_type": "markdown",
   "id": "b446f059-7a92-4630-b67b-d5fef5509a60",
   "metadata": {
    "tags": []
   },
   "source": [
    "#### Projeccion SouthPolarStereo"
   ]
  },
  {
   "cell_type": "code",
   "execution_count": null,
   "id": "79251777-af2a-4756-8dd7-6ad260be8a3b",
   "metadata": {
    "tags": []
   },
   "outputs": [],
   "source": [
    "fig = plt.figure(figsize=(8, 6))\n",
    "fig.subplots_adjust(top=10, bottom=9.5)\n",
    "ax = fig.add_subplot(111, projection=ccrs.SouthPolarStereo(-60,-30))\n",
    "\n",
    "\n",
    "ax.add_feature(cfeature.LAND, facecolor='white', zorder=1)\n",
    "# ax.add_feature(cfeature.BORDERS, linestyle=':')\n",
    "ax.add_feature(cfeature.COASTLINE, linewidth=0.5)\n",
    "\n",
    "\n",
    "CS = ax.contourf(lon, lat, sst[0, :], 10, cmap='bwr', transform=ccrs.PlateCarree(), zorder=0)\n",
    "cbar = fig.colorbar(CS, orientation='vertical', label='Temperatura (°C)', shrink=0.7)\n",
    "\n",
    "# agrego el contorno entre valores y su valor\n",
    "cs = plt.contour(lon, lat, sst[0, :, :], 5, colors='k', linestyles=\"dashed\", alpha=1, transform=ccrs.PlateCarree())\n",
    "plt.clabel(cs, inline=1, fmt='%1.1f')\n",
    "\n",
    "ax.add_feature(cfeature.LAND,facecolor='silver')\n",
    "ax.add_feature(cfeature.BORDERS, linestyle=':')\n",
    "\n",
    "plt.title('Temperatura superficial del Mar', loc='center', fontsize=15)\n",
    "g = ax.gridlines(crs=ccrs.PlateCarree(), draw_labels=True,  zorder=0)\n",
    "g.ylabels_right = False\n",
    "g.xlabels_top = False\n",
    "g.yformatter = LATITUDE_FORMATTER\n",
    "g.xformatter = LONGITUDE_FORMATTER\n",
    "g.xlabel_style={'size':12}\n",
    "g.ylabel_style={'size':12}"
   ]
  },
  {
   "cell_type": "markdown",
   "id": "a6fa2386-7442-4786-9b94-e11fcb4b89fa",
   "metadata": {
    "tags": []
   },
   "source": [
    "### **b. Gráfico de SST en función de la latitud para una dada longitud**\n",
    "\n"
   ]
  },
  {
   "cell_type": "code",
   "execution_count": null,
   "id": "22287354-6f58-47e8-a6e5-796ef102739c",
   "metadata": {
    "tags": []
   },
   "outputs": [],
   "source": [
    "randlon =  np.random.randint(0, lon.shape[0])\n",
    "\n",
    "fig = plt.figure(figsize=(10, 5))\n",
    "fig.subplots_adjust(top=10, bottom=9.5)\n",
    "ax = fig.add_subplot(111)\n",
    "\n",
    "ax.plot(lat, sst[0, :, randlon], c=\"red\", label=\"SST\", alpha=0.8)\n",
    "ax.fill_between(lat, \n",
    "                sst[0, :, randlon] - err[0, :, randlon], \n",
    "                sst[0, :, randlon] + err[0, :, randlon], \n",
    "                color=\"pink\", \n",
    "                alpha=0.2,\n",
    "                label=\"error\")\n",
    "\n",
    "plt.grid()\n",
    "plt.title(f\"SST VS LAT in LON = {lon[randlon]}\" )\n",
    "plt.xlabel(\"Latitud\")\n",
    "plt.ylabel(\"Temperatura(°C)\")\n",
    "\n",
    "plt.legend()\n",
    "plt.show()"
   ]
  },
  {
   "cell_type": "markdown",
   "id": "587a4be2-f3fb-4e67-8ec0-c9b04ea43393",
   "metadata": {},
   "source": [
    "### **c. Gráfico de SST promedio (en longitud) para una dada latitud**\n"
   ]
  },
  {
   "cell_type": "code",
   "execution_count": null,
   "id": "f66738fe-032d-4fd6-942f-f924b9340dbf",
   "metadata": {
    "tags": []
   },
   "outputs": [],
   "source": [
    "sst_mean = []\n",
    "sst_std = []\n",
    "for i, l in enumerate(lon):\n",
    "    s = sst[0,  :, i]\n",
    "    sst_mean.append(s.mean())\n",
    "    sst_std.append(s.std())\n",
    "\n",
    "df = pd.DataFrame({\"lon\": lon,  \"sst_mean\": sst_mean, \"sst_std\":  sst_std})"
   ]
  },
  {
   "cell_type": "code",
   "execution_count": null,
   "id": "7ce80885-dc16-450f-997d-f3cebb0eb915",
   "metadata": {
    "tags": []
   },
   "outputs": [],
   "source": [
    "fig = plt.figure(figsize=(10, 5))\n",
    "fig.subplots_adjust(top=10, bottom=9.5)\n",
    "ax = fig.add_subplot(111)\n",
    "\n",
    "ax.plot(df.lon, df.sst_mean, label=\"SST mean\")\n",
    "ax.fill_between(df.lon, \n",
    "                df.sst_mean - df.sst_std, \n",
    "                df.sst_mean +  df.sst_std, \n",
    "                color=\"c\", alpha=.2,\n",
    "                label=\"err\")\n",
    "\n",
    "ax.grid(visible=True)\n",
    "ax.legend()\n",
    "\n",
    "plt.title(f\"SST mean VS LAT\", )\n",
    "plt.xlabel(\"Latitud\")\n",
    "plt.ylabel(\"Temperatura (°C)\")\n",
    "plt.show()"
   ]
  },
  {
   "cell_type": "markdown",
   "id": "798a7c7d-e5e1-43da-af3b-6061dfa3b497",
   "metadata": {
    "tags": []
   },
   "source": [
    "## ARCHIVO: SST_noaa_OI_2014_2017.nc"
   ]
  },
  {
   "cell_type": "code",
   "execution_count": null,
   "id": "3abfe884-3b63-4199-bf95-e4c8dc25e230",
   "metadata": {
    "tags": []
   },
   "outputs": [],
   "source": [
    "nf = \"SST_noaa_OI_2014_2017.nc\"\n",
    "ds = nc.Dataset(os.path.join(DATADIR, nf))"
   ]
  },
  {
   "cell_type": "code",
   "execution_count": null,
   "id": "c0aa3367-06d7-4942-acd9-d430da5b3e93",
   "metadata": {
    "tags": []
   },
   "outputs": [],
   "source": [
    "lon = ds.variables[\"lon\"][:] - 360\n",
    "lat = ds.variables[\"lat\"][:]\n",
    "time =  ds.variables[\"time\"][:]\n",
    "sst = ds.variables[\"sst\"][:]\n",
    "\n",
    "# paso el tiempo a datetime \n",
    "unit = ds.variables[\"time\"].units.replace(\"days since \", \"\")\n",
    "unit_format = \"%Y-%m-%d %H:%M:%S\"\n",
    "dtime = copernicus_to_datetime(time, unit=unit, unit_format=unit_format)\n",
    "\n",
    "# paso los datetime a str (para tickslabels)\n",
    "delta = dt.timedelta(days=150)\n",
    "ticks = to_ticks(dtime[0],  delta, 10)\n",
    "labelticks = [date_to_str(t, \"%Y-%m-%d\") for t in ticks]"
   ]
  },
  {
   "cell_type": "markdown",
   "id": "7162daf9-5a6d-410b-819e-a39405059fbb",
   "metadata": {},
   "source": [
    "### **a. Grafique la SST en función del tiempo (Hovmöller) para una dada longitud y para una dada latitud.**\n"
   ]
  },
  {
   "cell_type": "code",
   "execution_count": null,
   "id": "ee14cc9a-b5d6-43d8-bc3a-4cef53ef6f6b",
   "metadata": {
    "tags": []
   },
   "outputs": [],
   "source": [
    "randlon =  np.random.randint(0, lon.shape[0])\n",
    "_lon = lon[randlon]\n",
    "_sst = sst[:, :, randlon]\n",
    "_time = dtime\n",
    "\n",
    "plt.figure(figsize=(15, 5), dpi= 60)\n",
    "plt.pcolormesh(_time, lat, _sst.T, cmap='jet', vmin=5, vmax=25)\n",
    "plt.xticks(ticks, labelticks, rotation=60, fontsize=15)\n",
    "plt.yticks(fontsize=15)\n",
    "plt.ylabel('Latitude', fontsize=20)\n",
    "# plt.xlabel('Time', fontsize=20)\n",
    "plt.title(f\"Hovmoller SST at LON= {_lon}\", fontsize=20)\n",
    "plt.grid()\n",
    "plt.show()"
   ]
  },
  {
   "cell_type": "markdown",
   "id": "c6fa06fe-9fd0-430b-9fdf-0fbcbb684241",
   "metadata": {},
   "source": [
    "### **b. Grafique una serie temporal de SST en un punto del océano**"
   ]
  },
  {
   "cell_type": "code",
   "execution_count": null,
   "id": "555d57df-1bb6-4012-9f25-71a070850034",
   "metadata": {
    "tags": []
   },
   "outputs": [],
   "source": [
    "randlon =  np.random.randint(0, lon.shape[0]  + 1)\n",
    "randlat =  np.random.randint(0, lat.shape[0] + 1)\n",
    "_lon = lon[randlon]\n",
    "_lat = lat[randlat]\n",
    "_sst = sst[:, randlat, randlon]\n",
    "_time = dtime\n",
    "\n",
    "plt.figure(figsize=(15, 5), dpi= 60)\n",
    "plt.plot(_time, _sst, \"--\", c=\"pink\")\n",
    "\n",
    "plt.xticks(ticks, labelticks, rotation=60, fontsize=15)\n",
    "plt.yticks(fontsize=15)\n",
    "plt.ylabel('Latitude', fontsize=20)\n",
    "plt.ylabel('SST', fontsize=20)\n",
    "plt.xlabel('Time', fontsize=20)\n",
    "plt.title(f\"Serie SST en coordenadas=({_lat}, {_lon})\", fontsize=20)\n",
    "plt.grid()\n",
    "plt.show()"
   ]
  },
  {
   "cell_type": "markdown",
   "id": "b2bd07c7-3a24-40c7-92e7-ce6240734c80",
   "metadata": {},
   "source": [
    "### **c. Grafique una serie temporal de SST para diferentes latitudes y promedio las longitudes.**"
   ]
  },
  {
   "cell_type": "code",
   "execution_count": null,
   "id": "e9431de0-5c92-4345-949b-0b74f6d9bb31",
   "metadata": {},
   "outputs": [],
   "source": [
    "N = 4\n",
    "_time = dtime\n",
    "\n",
    "plt.figure(figsize=(15, 5), dpi= 60)\n",
    "\n",
    "for n in range(N):\n",
    "    randlat =  np.random.randint(0, lat.shape[0] + 1)\n",
    "    _lat = lat[randlat]\n",
    "    _sst = outofrange_to_nan(sst[:, randlat, :].data, minvalue=-100, maxvalue=100)\n",
    "    _err = np.nanstd(_sst, axis=1)\n",
    "    _sst = np.nanmean(_sst, axis=1)\n",
    "    \n",
    "    plt.plot(_time, _sst, \"--\", label=f\"LATITUDE: {_lat}\")\n",
    "    plt.fill_between(_time, _sst - _err, _sst + _err,  alpha=.2)\n",
    "\n",
    "\n",
    "plt.xticks(ticks, labelticks, rotation=60, fontsize=15)\n",
    "plt.yticks(fontsize=15)\n",
    "plt.ylabel('Latitude', fontsize=20)\n",
    "plt.ylabel('SST', fontsize=20)\n",
    "plt.xlabel('Time', fontsize=20)\n",
    "plt.title(f\"Series de SST \", fontsize=20)\n",
    "plt.grid()\n",
    "plt.legend()\n",
    "plt.show()\n"
   ]
  },
  {
   "cell_type": "markdown",
   "id": "be7d83b7-195d-4a1a-93c9-3907367c2974",
   "metadata": {},
   "source": [
    "### **d. Grabe un video de los mapas de SST para el año 2014 (.MOV o .AVI).**"
   ]
  },
  {
   "cell_type": "code",
   "execution_count": null,
   "id": "d3c8717e-3b84-4891-802e-24cadd38e218",
   "metadata": {
    "tags": []
   },
   "outputs": [],
   "source": [
    "import matplotlib.axes as maxes\n",
    "from mpl_toolkits.axes_grid1 import make_axes_locatable\n",
    "from moviepy.editor import VideoClip\n",
    "from moviepy.video.io.bindings import mplfig_to_npimage\n",
    "\n",
    "\n",
    "def default_map():\n",
    "    ax = plt.axes(projection=ccrs.PlateCarree())\n",
    "    # map features\n",
    "    ax.add_feature(cfeature.LAND, facecolor='white', zorder=1)\n",
    "    ax.add_feature(cfeature.COASTLINE, linewidth=0.5)\n",
    "    # grid\n",
    "    g = ax.gridlines(crs=ccrs.PlateCarree(), draw_labels=True,  zorder=0)\n",
    "    g.ylabels_right = False\n",
    "    g.xlabels_top = False\n",
    "    g.yformatter = LATITUDE_FORMATTER\n",
    "    g.xformatter = LONGITUDE_FORMATTER\n",
    "    g.xlabel_style={'size':10}\n",
    "    g.ylabel_style={'size':10}\n",
    "    \n",
    "    return ax"
   ]
  },
  {
   "cell_type": "code",
   "execution_count": null,
   "id": "874f057c-60eb-48b8-9733-0459a4795945",
   "metadata": {
    "tags": []
   },
   "outputs": [],
   "source": [
    "it = 0\n",
    "iy = 0\n",
    "year = 2014\n",
    "inyear = False\n",
    "while not inyear:\n",
    "    while (year==dtime[it + iy].year):\n",
    "        iy+=1\n",
    "        inyear = True\n",
    "    it+=1\n",
    "    \n",
    "print(f\"Dias con datos del {year}: {iy}\")"
   ]
  },
  {
   "cell_type": "code",
   "execution_count": null,
   "id": "17fe2467-2915-4d64-a83a-5cf0f7451f51",
   "metadata": {
    "tags": []
   },
   "outputs": [],
   "source": [
    "location=\"right\"\n",
    "size=\"5%\"\n",
    "pad=\"2%\"\n",
    "duration = 60\n",
    "delta = round(iy/duration)\n",
    "\n",
    "fig = plt.figure(figsize=(8, 6))\n",
    "ax = default_map()\n",
    "divider = make_axes_locatable(ax)\n",
    "cax = divider.append_axes(location, size=size, pad=size, axes_class=maxes.Axes)\n",
    "\n",
    "def make_frame(t):\n",
    "    index = int(delta * np.round(t))\n",
    "    contourf = ax.contourf(lon, lat, sst[index, :, :], cmap=\"jet\", zorder=0)\n",
    "    fig.colorbar(contourf,  cax=cax)\n",
    "    ax.set_title(f\"Temperatura superficial del mar\\n{date_to_str(dtime[index], '%Y-%m-%d')}\")\n",
    "    g = ax.gridlines(crs=ccrs.PlateCarree(), draw_labels=True,  zorder=0)\n",
    "    g.ylabels_right = False\n",
    "    g.xlabels_top = False\n",
    "    g.yformatter = LATITUDE_FORMATTER\n",
    "    g.xformatter = LONGITUDE_FORMATTER\n",
    "    g.xlabel_style={'size':10}\n",
    "    g.ylabel_style={'size':10}\n",
    "    return mplfig_to_npimage(fig)\n",
    "\n",
    "animation = VideoClip(make_frame, duration=duration)"
   ]
  },
  {
   "cell_type": "code",
   "execution_count": null,
   "id": "b9f61254-22af-4617-a1a1-0d1bec774801",
   "metadata": {
    "tags": []
   },
   "outputs": [],
   "source": [
    "#animation.ipython_display(fps=1, loop=False, autoplay=False, logger=None)\n",
    "animation.write_videofile(os.path.join(\"./images\", \"TP1.mp4\"), fps=1, logger=None)"
   ]
  }
 ],
 "metadata": {
  "kernelspec": {
   "display_name": "ocean-env",
   "language": "python",
   "name": "ocean-env"
  },
  "language_info": {
   "codemirror_mode": {
    "name": "ipython",
    "version": 3
   },
   "file_extension": ".py",
   "mimetype": "text/x-python",
   "name": "python",
   "nbconvert_exporter": "python",
   "pygments_lexer": "ipython3",
   "version": "3.10.11"
  }
 },
 "nbformat": 4,
 "nbformat_minor": 5
}
