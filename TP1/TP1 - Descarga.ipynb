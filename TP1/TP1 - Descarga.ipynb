{
 "cells": [
  {
   "cell_type": "code",
   "execution_count": null,
   "id": "49a2980c-2ede-4843-b058-0fc3954fdf87",
   "metadata": {
    "tags": []
   },
   "outputs": [],
   "source": [
    "from IPython.display import Image"
   ]
  },
  {
   "cell_type": "markdown",
   "id": "26432f7b-089a-497f-ae49-5b16fa2c4d3d",
   "metadata": {},
   "source": [
    "# TP01: Archivos netCDF Image"
   ]
  },
  {
   "cell_type": "markdown",
   "id": "6e3b05cf-ae95-42f2-82e1-8353ff0c403e",
   "metadata": {
    "tags": []
   },
   "source": [
    "Lo primero que vamos a hacer es descargar los datos de marine-copernicus (https://data.marine.copernicus.eu/products), para esto vamos a presentar tres formas posibles de hacerlo:  \n",
    "- Descarga desde la web.  \n",
    "- Descarga mediante conexión FTP.  \n",
    "- Descarga mediante xarray.  \n",
    "\n",
    "Existe una cuarta variante usando la api MOTU, la cual (me) presenta ciertos problemas con Windows."
   ]
  },
  {
   "cell_type": "markdown",
   "id": "a1f26235-e418-499f-be98-5bfc71254c20",
   "metadata": {
    "tags": []
   },
   "source": [
    "## WEB copernicus\n",
    "\n",
    "Lo primero que vamos a hacer es acceder a la página de marine-copernicus:  \n",
    "https://data.marine.copernicus.eu/products\n",
    "\n",
    "una vez ahí nos deberia aparecer en imagen los productos disponibles y un conjunto de filtros que nos va permitir encontrar de forma mas simple el producto (o los productos) deseados.\n"
   ]
  },
  {
   "cell_type": "code",
   "execution_count": null,
   "id": "7c9bf51e-baba-484e-aabc-dc7c2c0047c4",
   "metadata": {
    "tags": []
   },
   "outputs": [],
   "source": [
    "print(\"Figure 1: Visualización marine-copernicus. A la izquierda se pueden observar \\nlos filtros, mientras en el centro o a la derecha de los filtros se observan \\nprevisualizaciones de los productos.  \")\n",
    "Image(filename=\"./images/copernicus-productos.jpeg\", width=700, height=None)\n"
   ]
  },
  {
   "cell_type": "markdown",
   "id": "151778c5-5146-49a8-8e2d-c6b757e52e56",
   "metadata": {},
   "source": [
    "Dentro de las opciones del filtro existen diversas variable principla, nivel procesamiento, area, resolución tempora, etc. En parcicular, para encontrar el producto que nos piden en el enunciado basta elegir alguno de estos:\n",
    "\n",
    "- Main Variable: Temperature o ICE.\n",
    "- Area: Globan Ocean.\n",
    "- Temporal Resolution: Daily. \n",
    "- Processing Level: L4."
   ]
  },
  {
   "cell_type": "code",
   "execution_count": null,
   "id": "7b4ed252-81de-4c12-ab65-27a2c86c1389",
   "metadata": {
    "tags": []
   },
   "outputs": [],
   "source": [
    "print(\"Figure 2: Previsualización del producto Global SST and Sea Ice REP, L4 OSTIA, 0.05deg daily \\n(METOFFICE-GLO-SST-L4-RAN-OBS-SST)\")\n",
    "Image(filename=\"./images/producto.jpeg\", width=400, height=100)"
   ]
  },
  {
   "cell_type": "markdown",
   "id": "de775b3c-7f2f-45ab-a6e7-cdc651f4d65a",
   "metadata": {},
   "source": [
    "El link del producto es:  \n",
    "https://data.marine.copernicus.eu/product/SST_GLO_SST_L4_REP_OBSERVATIONS_010_011/description\n"
   ]
  },
  {
   "cell_type": "code",
   "execution_count": null,
   "id": "f9b84035-504c-49cd-bd81-c362319a848d",
   "metadata": {
    "tags": []
   },
   "outputs": [],
   "source": [
    "print(\"Figure 3: Pantalla del producto. Resaltado en un círculo en rojo la opción de explorar \\npara poder descargar los datos de interes.\")\n",
    "Image(filename=\"./images/descargar-producto.png\", width=700, height=100)"
   ]
  },
  {
   "cell_type": "code",
   "execution_count": null,
   "id": "741e614c-b2f4-4ab3-9607-b8fd8452dc7f",
   "metadata": {
    "tags": []
   },
   "outputs": [],
   "source": [
    "print(\"Figure 4: Panel inicial. Resaltado en un círculo rojo la opción \\npara poder descargar los datos de interes.\")\n",
    "Image(filename=\"./images/descargar-boton.png\", width=300, height=100)"
   ]
  },
  {
   "cell_type": "code",
   "execution_count": null,
   "id": "69bcca47-68f9-495a-8c7c-d7d6dd8f5ada",
   "metadata": {
    "tags": []
   },
   "outputs": [],
   "source": [
    "print(\"Figure 5: Panel extendido. Resaltado en un círculo verde las opciones para elegir una region en el mapa. \\nResaltado en un círculo rojo el boto para descargar, donde adenasm se observa el peso del archivo a descargar.\")\n",
    "Image(filename=\"./images/descargar-panel.png\", width=300, height=100)"
   ]
  },
  {
   "cell_type": "markdown",
   "id": "edb258d4-9c36-4e9a-9085-0ba48688b71a",
   "metadata": {
    "tags": []
   },
   "source": [
    "## FTP \n",
    "\n",
    "Otra  forma para descar los datos es conectarse mediante FTP. Esta te va a parmitir descargar los archivos \"crudos\", es decir, sin una preselección de lat/lon o que datos se quieren o no. Hay en ciertos sistemas de copernicus donde solo se pueden acceder a datos raw, para estos casos conectarse mediante FTP es una buena opción para automatizar la descarga. \n",
    "\n",
    "Importante! Esto puede hacerse desde la terminal sin necesidad de pasar por python."
   ]
  },
  {
   "cell_type": "markdown",
   "id": "ad3bc50a-e723-4be2-a6a0-46d51f57ea75",
   "metadata": {},
   "source": [
    "##### Librerias\n",
    "\n",
    "Vamos a necesitar una única librería (la cual suele venir por defecto)  \n",
    "`ftplib: pip install ftplib`\n",
    "\n",
    "\n",
    "### Código\n",
    "\n",
    "Vamos a definir dos funciones que nos van a simplificiar y ordenar la conexión y descarga:\n",
    "\n",
    "**ftp_copernicus**   \n",
    "función que nos abre la conexión ftp con el servidor. \n",
    "\n",
    "```\n",
    "def ftp_copernicus(host, urs, pwd):\n",
    "    ftp = ftplib.FTP(host, user, pwd)  \n",
    "    ftp.encoding = \"utf-8\"\n",
    "    return ftp\n",
    "```\n",
    "\n",
    "**ftp_download**  \n",
    "función que nos descarga el archivo. Los parámetros son la conexión ftp, el path donde queremos que guarde el archivo (incluir el no,bre con el que se quiere que se guarde) y el path del servidor donde se encuentra el archivo. \n",
    "\n",
    "\n",
    "```\n",
    "def ftp_download(ftp, localpath, ftppath):\n",
    "    file = open(localpath, \"wb\")\n",
    "    ftp.retrbinary(\"RETR \" + ftppath, file.write)\n",
    "    file.close()\n",
    "```\n",
    "\n",
    "\n",
    "### Usando el código\n",
    "\n",
    "Lo primero que tenemos que hacer es conectarnos remotamente. Para esto es importante saber que marinie copernicus tiene  dos hosts distintos, a saber ('nrt.cmems-du.eu', 'my.cmems-du.eu') y nos podemos conectar a ambos mediante ftp. \n",
    "\n",
    "Para iniciar sessión vamos hacer lo siguiente (lo indicado entre llaves son valores a rellenar):\n",
    "\n",
    "```\n",
    "import ftplib\n",
    "  \n",
    "user = {my_user_copernicus}  \n",
    "pwd = {my_pasword_copernicus}  \n",
    "hosts = ['nrt.cmems-du.eu', 'my.cmems-du.eu']   \n",
    "copernicus = ftp_copernicus(hosts[0], user, pwd)\n",
    "```\n",
    "  \n",
    "  \n",
    "**en el interior del servidor**  \n",
    "\n",
    "Para moverse dentro de una conexión ftp existen dos funciones `cwd` y `nlst`, análogas  a moverse en la terminal. `cwd` nos mueve entre carpetas (incluyendo `cwd(\"..\")` para ir un directorio atras) y `nlst` nos devuelve la lista de archivos/directorios en la ubicación dode estamos.\n",
    "\n",
    "La estructura interna de ambos host suele ser:  \n",
    "\n",
    "`\"CORE/{PRODUCT_ID}/{DATASET_ID}/{YEAR}/{MONTH}/*.nc\"`\n",
    "\n",
    "CORE es la carpeta principal, de alli uno puede moverse hacia cualquier dataset con la funcion `cwd`.\n",
    "\n",
    "Por ejemplo:\n",
    "\n",
    "```\n",
    "copernicus.cwd(\"CORE/{PRODUCT_ID}/{DATASET_ID}/{YEAR}/{MONTH}\")\n",
    "listfiles = copernicus.nlst()\n",
    "```\n",
    "\n",
    "nos va a guardar en  listfiles la lista de carpetas/archivos existentes en la carpeta del path indicado.\n",
    "\n",
    "**descarga**  \n",
    "Para descargar el archivo basta llamar a la función definida  anteriormente:\n",
    "\n",
    "```\n",
    "fpt_download(copernicus, {localpath}, {ftppath})\n",
    "```\n",
    "\n",
    "##### close  \n",
    "Siempre cerrar la conexion!!!\n",
    "\n",
    "```\n",
    "copernicus.close()\n",
    "```"
   ]
  },
  {
   "cell_type": "markdown",
   "id": "7d4b8a78-9bc7-4481-bda1-19d756fb2dfb",
   "metadata": {},
   "source": [
    "## XARRAY "
   ]
  },
  {
   "cell_type": "markdown",
   "id": "74c3762d-1f6e-4cdf-b586-11686cf5172d",
   "metadata": {
    "tags": []
   },
   "source": [
    "Otra forma de obtener los datos es usando la libreria xarray.  En este caso vamos a necesitar iniciar sesión en marine-copernicus y la url del dataset. Como en FTP, no todo dataset esta disponible para descargarlo con este protocolo.\n",
    "\n",
    "\n",
    "**Librerias**  \n",
    "Vamos a necesitar dos librerías:  \n",
    "- pydap: pip install pydap\n",
    "- xarray: pip install xarray as xr\n",
    "\n",
    "\n",
    "### Código\n",
    "\n",
    "Vamos a iniciar importando las  librerias:\n",
    "\n",
    "```\n",
    "import pydap  \n",
    "import xarray as xr  \n",
    "from pydap.client import open_url  \n",
    "from pydap.cas.get_cookies import setup_session\n",
    "```\n",
    "\n",
    "y vamos a definir dos funciones:\n",
    "\n",
    "**session_copernicus**  \n",
    "Funcion que nos devuelve una sesión de Marine-Copernicus.\n",
    "\n",
    "```\n",
    "def session_copernicus(usr=None, pwd=None):  \n",
    "    cas_url = 'https://cmems-cas.cls.fr/cas/login'  \n",
    "    session = setup_session(cas_url, usr, pwd)  \n",
    "    session.cookies.set(\"CASTGC\", session.cookies.get_dict()['CASTGC'])  \n",
    "    return sesssion\n",
    "```\n",
    "\n",
    "**get_dataset_store**  \n",
    "Funcion que devuelve con un conector (store) con el dataset. La función prueba primero con un host y, en  caso de error, con el otro.\n",
    "\n",
    "```\n",
    "def get_dataset_store(session, datased_id):\n",
    "    database = ['my', 'nrt']\n",
    "    url = f'https://{database[0]}.cmems-du.eu/thredds/dodsC/{datasetID}'\n",
    "    try:\n",
    "        data_store = xr.backends.PydapDataStore(open_url(url, session=session))\n",
    "    except:\n",
    "        url = f'https://{database[1]}.cmems-du.eu/thredds/dodsC/{datasetID}'\n",
    "        data_store = xr.backends.PydapDataStore(open_url(url, session=session))\n",
    "    return  data_store\n",
    "```\n",
    "\n",
    "\n",
    "### Usando el código  \n",
    "\n",
    "\n",
    "Definimos primero variables de configuración, es decir, usuario y  contraseña de marine-copernicus y el id del dataset que vamos a querer:\n",
    "```\n",
    "DATASETID = \"METOFFICE-GLO-SST-L4-REP-OBS-SST\"\n",
    "USERNAME = \"{}\"\n",
    "PASSWORD = \"{}\"\n",
    "```\n",
    "\n",
    "Con esto, simplemente basta ejecutar las siguientes lineas: \n",
    "\n",
    "```\n",
    "session = session_copernicus(usr=USERNAME, pwd=PASSWORD)\n",
    "data_store  = get_dataset_store(session, dataset_id)\n",
    "DS = xr.open_dataset(data_store)\n",
    "```\n",
    "\n",
    "En una notebook (de jupyternotebook o colab) se visualizá como la siguiente tabla:"
   ]
  },
  {
   "cell_type": "code",
   "execution_count": null,
   "id": "10ea5e4d-f45c-45b3-9c74-583950ffeeed",
   "metadata": {
    "tags": []
   },
   "outputs": [],
   "source": [
    "DS"
   ]
  },
  {
   "cell_type": "markdown",
   "id": "904d075c-81a5-4c10-8e01-d7a79f8fb9c2",
   "metadata": {},
   "source": [
    "El beneficio de este format, es que nos permite acecder una time/lat/lon con sencillez:\n",
    "\n",
    "```\n",
    "LATITUDE = slice(35, 60)\n",
    "LONGITUDE = slice(-15, 5)\n",
    "TIME = '2022-01-01'\n",
    "ds = DS.sel(time=TIME, lat=LATITUDE, lon=LONGITUDE)\n",
    "```\n",
    "\n",
    "Importante! Los nombres de los valores de las dimensiones van a depender del dataset."
   ]
  },
  {
   "cell_type": "markdown",
   "id": "e11a5978-458c-49cf-8d2f-d51bf943be0f",
   "metadata": {},
   "source": [
    "##### FUENTE\n",
    " https://help.marine.copernicus.eu/en/articles/4854800-how-to-open-and-visualize-copernicus-marine-data-using-python"
   ]
  }
 ],
 "metadata": {
  "kernelspec": {
   "display_name": "ocean-env",
   "language": "python",
   "name": "ocean-env"
  },
  "language_info": {
   "codemirror_mode": {
    "name": "ipython",
    "version": 3
   },
   "file_extension": ".py",
   "mimetype": "text/x-python",
   "name": "python",
   "nbconvert_exporter": "python",
   "pygments_lexer": "ipython3",
   "version": "3.10.11"
  }
 },
 "nbformat": 4,
 "nbformat_minor": 5
}
