{
 "cells": [
  {
   "cell_type": "code",
   "execution_count": null,
   "metadata": {
    "id": "_jNRY1ZzPzNK"
   },
   "outputs": [],
   "source": [
    "%pip install --upgrade netCDF4\n",
    "import netCDF4 as nc\n",
    "import xarray as xr\n",
    "import numpy as np\n",
    "import matplotlib.pyplot as plt\n",
    "import matplotlib.dates as mdates\n",
    "\n",
    "%pip uninstall shapely\n",
    "%pip install shapely --no-binary shapely # HAY QUE RESPONDER Y (YES)\n",
    "%pip install --upgrade cartopy\n",
    "import cartopy.crs as ccrs\n",
    "import cartopy.feature as cfeature\n",
    "from cartopy.mpl.gridliner import LONGITUDE_FORMATTER, LATITUDE_FORMATTER\n",
    "\n",
    "from google.colab import drive\n",
    "drive.mount('/content/drive')\n",
    "\n",
    "dirarchivo='/content/drive/My Drive/Satelital2022/TP2'\n",
    "#%reset"
   ]
  },
  {
   "cell_type": "code",
   "execution_count": null,
   "metadata": {
    "colab": {
     "base_uri": "https://localhost:8080/"
    },
    "executionInfo": {
     "elapsed": 299,
     "status": "ok",
     "timestamp": 1663901146583,
     "user": {
      "displayName": "Axel Toledo",
      "userId": "08365385174160743419"
     },
     "user_tz": 180
    },
    "id": "W5Nb-cTUoHiK",
    "outputId": "fb51a691-11b1-43e0-df2e-f8db9e811ce4"
   },
   "outputs": [],
   "source": [
    "data=nc.Dataset(dirarchivo + \"/A2019331175000.L2_LAC_OC.nc\",mode='r',mmap=False)\n",
    "# Siempre ver que hay dentro del archivo\n",
    "print(data)\n",
    "#Veamos cuantos productos tiene el archivo en bands\n",
    "print(data.groups['sensor_band_parameters'])\n",
    "# Para ver el tiempo en el que comenzo\n",
    "print(data.time_coverage_start)\n",
    "# Para ver el tiempo en el que finalizo\n",
    "print(data.time_coverage_end)"
   ]
  },
  {
   "cell_type": "code",
   "execution_count": null,
   "metadata": {
    "colab": {
     "base_uri": "https://localhost:8080/"
    },
    "executionInfo": {
     "elapsed": 275,
     "status": "ok",
     "timestamp": 1663901173432,
     "user": {
      "displayName": "Axel Toledo",
      "userId": "08365385174160743419"
     },
     "user_tz": 180
    },
    "id": "rPXj0IdEquzN",
    "outputId": "c065df94-f00a-4ebe-f57b-dfbe3e4e4ffb"
   },
   "outputs": [],
   "source": [
    "geodata=data.groups['geophysical_data']\n",
    "navigation=data.groups['navigation_data']\n",
    "lon=navigation.variables['longitude'][:][:]\n",
    "lat=navigation.variables['latitude'][:][:]\n",
    "clorofila=data.groups['geophysical_data'].variables['chlor_a'][:][:]\n",
    "data.close()"
   ]
  },
  {
   "cell_type": "code",
   "execution_count": null,
   "metadata": {
    "colab": {
     "base_uri": "https://localhost:8080/",
     "height": 610
    },
    "executionInfo": {
     "elapsed": 376,
     "status": "ok",
     "timestamp": 1663901430525,
     "user": {
      "displayName": "Axel Toledo",
      "userId": "08365385174160743419"
     },
     "user_tz": 180
    },
    "id": "GuxfxAForICV",
    "outputId": "a143bc2e-de98-47ae-88c7-55058d826186"
   },
   "outputs": [],
   "source": [
    "plt.figure(1,figsize=(10,10))\n",
    "plt.contourf(lon[0:1000,500:660],lat[0:1000,500:660],clorofila[0:1000,500:660])\n"
   ]
  },
  {
   "cell_type": "code",
   "execution_count": null,
   "metadata": {
    "colab": {
     "base_uri": "https://localhost:8080/"
    },
    "executionInfo": {
     "elapsed": 3,
     "status": "ok",
     "timestamp": 1663899001793,
     "user": {
      "displayName": "Axel Toledo",
      "userId": "08365385174160743419"
     },
     "user_tz": 180
    },
    "id": "SxZ3L8XvPRyA",
    "outputId": "1de880d6-9da6-4d6d-c68d-d54e18db6801"
   },
   "outputs": [],
   "source": [
    "chlor_1 = np.log10(clorofila)\n",
    "#lo,la = np.meshgrid(lon, lat)  ESTO FALLA POR EL GRAN TAMAÑO DE LAT Y LON\n",
    "# levels\n",
    "L = [0.1, 0.5, 1, 2, 3, 4, 5, 6, 10, 12, 15, 20,50,70,90,100]\n",
    "l=np.log10(L)# Tick mark positions\n",
    "\n",
    "np.nanmax(chlor_1)"
   ]
  },
  {
   "cell_type": "code",
   "execution_count": null,
   "metadata": {
    "colab": {
     "base_uri": "https://localhost:8080/",
     "height": 479
    },
    "executionInfo": {
     "elapsed": 8889,
     "status": "ok",
     "timestamp": 1663901805706,
     "user": {
      "displayName": "Axel Toledo",
      "userId": "08365385174160743419"
     },
     "user_tz": 180
    },
    "id": "j4ObgmefsIGZ",
    "outputId": "ea636eaf-ffd2-40cc-a7ad-1349354e8a87"
   },
   "outputs": [],
   "source": [
    "#GRAFICO \n",
    "fig=plt.figure(figsize=(15,15))\n",
    "ax= fig.add_subplot(111,projection=ccrs.PlateCarree())\n",
    "#ax.set_extent([-65,-55,-45,-40],ccrs.PlateCarree())\n",
    "CS=ax.contourf(lon,lat,chlor_1,l,cmap='winter',vmin = np.log10(0.01),vmax=np.log10(100),extend='both')\n",
    "#fig.colorbar(CS,ticks=L,label='Temperatura (C°)',shrink=0.7)\n",
    "cbar = fig.colorbar(CS,ticks=L,label='Concentracion [$\\\\frac{mg}{m^3}$]',shrink=0.5,extend='both')\n",
    "#cbar.ax.set_yticklabels(L)\n",
    "#CS1=ax.contour(lon3,lat3,a,\n",
    "#               6,colors='k',linewidths=1.5,linestyles='-')\n",
    "#ax.clabel(CS1,CS1.levels,inline=True)\n",
    "#ax.annotate('Longitud del frente ~ 350 Km',\n",
    "#            xy=(lon3[140],lat3[210]),xytext=(lon3[150],lat3[250]),arrowprops=dict(facecolor='black'),\n",
    "#            fontsize=20)\n",
    "#ax.add_feature(cfeature.COASTLINE)\n",
    "ax.set_facecolor('k')\n",
    "ax.add_feature(cfeature.LAND,facecolor='silver')\n",
    "ax.add_feature(cfeature.BORDERS, linestyle=':')\n",
    "g1=ax.gridlines(crs=ccrs.PlateCarree(),draw_labels=True,linestyle='--',linewidth=0.7)\n",
    "g1.ylabels_right = False\n",
    "g1.xlabels_top = False\n",
    "g1.yformatter= LATITUDE_FORMATTER\n",
    "g1.xformatter= LONGITUDE_FORMATTER\n",
    "g1.xlabel_style={'size':12}\n",
    "g1.ylabel_style={'size':12}\n",
    "#plt.title('Temperatura Superficial del Mar\\nZona de Convergencia Brasil_Malvinas\\nModis Aqua SST 8 day 11 micron',\n",
    "#          fontsize=18)"
   ]
  }
 ],
 "metadata": {
  "colab": {
   "authorship_tag": "ABX9TyOYgifrtCquVhyR48PCfS2V",
   "collapsed_sections": [],
   "provenance": []
  },
  "kernelspec": {
   "display_name": "Python 3 (ipykernel)",
   "language": "python",
   "name": "python3"
  },
  "language_info": {
   "codemirror_mode": {
    "name": "ipython",
    "version": 3
   },
   "file_extension": ".py",
   "mimetype": "text/x-python",
   "name": "python",
   "nbconvert_exporter": "python",
   "pygments_lexer": "ipython3",
   "version": "3.11.3"
  }
 },
 "nbformat": 4,
 "nbformat_minor": 4
}
