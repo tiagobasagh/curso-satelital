{
 "cells": [
  {
   "cell_type": "markdown",
   "id": "8feb77d7-b0cf-4abb-ae81-d2fd0b3e68a0",
   "metadata": {},
   "source": [
    "## TP02 "
   ]
  },
  {
   "cell_type": "code",
   "execution_count": null,
   "id": "28766689-d6af-490c-be4f-efe9e300339b",
   "metadata": {
    "tags": []
   },
   "outputs": [],
   "source": [
    "import os \n",
    "from math import ceil\n",
    "\n",
    "import numpy as np\n",
    "import pandas as pd\n",
    "import xarray as xr\n",
    "\n",
    "import matplotlib.colors as colors\n",
    "import matplotlib.dates as mdates\n",
    "import matplotlib.pyplot as plt\n",
    "\n",
    "import netCDF4 as nc\n",
    "import cartopy.crs as ccrs\n",
    "import cartopy.feature as cfeature\n",
    "from cartopy.mpl.gridliner import LONGITUDE_FORMATTER, LATITUDE_FORMATTER\n",
    "from geographiclib.geodesic import Geodesic\n",
    "\n",
    "geod = Geodesic.WGS84 \n",
    "RADIUS_EARTH = 6371.009\n",
    "\n",
    "def define_params_recta(p1, p2):\n",
    "    m = (p2[1] - p1[1])/(p2[0] - p1[0])\n",
    "    b = p1[1] - m * p1[0]\n",
    "    return m, b\n",
    "\n",
    "def lineal(x, m, b):\n",
    "    return m * x + b\n",
    "\n",
    "\n",
    "def euc_distance(x1, y1, x2, y2):\n",
    "    return np.sqrt((x2 - x1) ** 2 + (y2 - y1) ** 2) \n",
    "\n",
    "\n",
    "def geoline_way_points(p1, p2, ds=10e3):\n",
    "    \"\"\"\n",
    "    ds = distance steps\n",
    "    \"\"\"\n",
    "    lat1, lon1 = p1\n",
    "    lat2, lon2 = p2\n",
    "    lat = []\n",
    "    lon = []\n",
    "    d = []\n",
    "    geoline = geod.InverseLine(lat1, lon1, lat2, lon2) \n",
    "    n = int(ceil(geoline.s13 / ds))\n",
    "    for i in range(n + 1):\n",
    "        s = min(ds * i, geoline.s13)\n",
    "        g = geoline.Position(s, Geodesic.STANDARD | Geodesic.LONG_UNROLL)\n",
    "        d.append(g[\"s12\"])\n",
    "        lat.append(g[\"lat2\"])\n",
    "        lon.append(g[\"lon2\"])\n",
    "    return pd.DataFrame({\"distance\":d, \"lat\":lat, \"lon\":lon})\n",
    "\n",
    "\n",
    "def np_geodistance_sphere(lat1, lon1, lat2, lon2):\n",
    "    dlon = lon2 - lon1\n",
    "    slat1, clat1 = np.sin(lat1), np.cos(lat1)\n",
    "    slat2, clat2 = np.sin(lat2), np.cos(lat2)\n",
    "    sdlon, cdlon = np.sin(dlon), np.cos(dlon)\n",
    "    arg1 = np.sqrt((clat2 * sdlon)**2 + (clat1 * slat2 - slat1 * clat2 * cdlon)**2)\n",
    "    arg2 = slat1 * slat2 + clat1 * clat2 * cdlon\n",
    "    return RADIUS_EARTH * np.arctan2(arg1, arg2)\n",
    "\n",
    "def degree_to_radians(n):\n",
    "    return n * np.pi / 180\n"
   ]
  },
  {
   "cell_type": "code",
   "execution_count": null,
   "id": "7beeb1de-ae8c-491a-bff4-8714bbd9d31a",
   "metadata": {
    "tags": []
   },
   "outputs": [],
   "source": [
    "DATADIR = \".\\data\"\n",
    "nf = \"AQUA_MODIS.20191127T175000.L2.OC.nc\" "
   ]
  },
  {
   "cell_type": "code",
   "execution_count": null,
   "id": "e86b830d-f385-4fd6-bbac-a680fa8e1915",
   "metadata": {
    "tags": []
   },
   "outputs": [],
   "source": [
    "data = nc.Dataset(os.path.join(DATADIR, nf), mode='r', mmap=False)"
   ]
  },
  {
   "cell_type": "markdown",
   "id": "4c8f90c2-3bda-45fa-ba39-6c61faa78552",
   "metadata": {},
   "source": [
    "**1. Obtenga una imagen L2 diaria en formato netcdf correspondiente al día 27 de nov de 2019. Escriba el nombre del archivo y ábralo en el SNAP. Mencione cuántas bandas contiene el archivo en la carpeta BANDS.**\n",
    "\n",
    "\n",
    "```\n",
    "data.groups[\"sensor_band_parameters\"].variables[\"wavelength\"].shape\n",
    "```"
   ]
  },
  {
   "cell_type": "code",
   "execution_count": null,
   "id": "3041a9fa-3293-4976-8020-aef1e08caf7e",
   "metadata": {
    "tags": []
   },
   "outputs": [],
   "source": [
    "data.groups[\"sensor_band_parameters\"].variables[\"wavelength\"].shape"
   ]
  },
  {
   "cell_type": "markdown",
   "id": "0697ed68-f50d-4ba8-9953-cd67e5093981",
   "metadata": {},
   "source": [
    "**2. De la carpeta de metadatos del archivo .nc extraiga la hora de inicio y fin de la imagen.**\n"
   ]
  },
  {
   "cell_type": "code",
   "execution_count": null,
   "id": "1349f9cd-20d2-4689-8ad0-fe9dceb8d581",
   "metadata": {
    "tags": []
   },
   "outputs": [],
   "source": [
    "print(\"Horario de inicio: \", data.time_coverage_start)\n",
    "print(\"Horario de fin:    \", data.time_coverage_end)"
   ]
  },
  {
   "cell_type": "markdown",
   "id": "e245c91a-3760-479c-a810-8532ed0db771",
   "metadata": {
    "tags": []
   },
   "source": [
    "**3. Despliegue la imagen de Clor-a (producto geofísico que estima la biomasa de fitoplancton y es derivado de la reflectancia que llega al sensor satelital). Aplique una paleta de colores y modifique el rango del mínimo y máxima para que sean identificables los contrastes.**\n",
    "\n"
   ]
  },
  {
   "cell_type": "code",
   "execution_count": null,
   "id": "c9143864-1d2b-4bcf-b178-3f27f75bd674",
   "metadata": {
    "tags": []
   },
   "outputs": [],
   "source": [
    "#data = nc.Dataset(os.path.join(DATADIR, nf), mode='r', mmap=False)\n",
    "geodata  = data.groups['geophysical_data']\n",
    "navigation = data.groups['navigation_data']\n",
    "lon = navigation.variables['longitude'][:]\n",
    "lat = navigation.variables['latitude'][:]\n",
    "clorofila = data.groups['geophysical_data'].variables['chlor_a'][:]\n",
    "# Cierro el dataset\n",
    "#data.close()"
   ]
  },
  {
   "cell_type": "markdown",
   "id": "0d6997d9-7e65-470d-b253-9508451fe98a",
   "metadata": {},
   "source": [
    "Para graficar vamos a necesitar dos cosas:  \n",
    "1. Transformarlos datos a una escala logaritmica para visualizar mejor las diferencias.  \n",
    "2. Crear una escala de colores que me permita seguir esta escala logaritmica. \n",
    "\n",
    "Para hacer el segundo paso en python vamos a crear una función:\n",
    "\n",
    "```\n",
    "def get_chlorophyll_color():\n",
    "    lowchlorophyll = plt.cm.Reds(np.linspace(0.3, 0.8, 7))\n",
    "    highchlorophyll = plt.cm.Greens(np.linspace(0.4, 0.8, 5))\n",
    "    joincolors = np.vstack((lowchlorophyll, highchlorophyll))\n",
    "    return colors.LinearSegmentedColormap.from_list('chlorophyll_color', joincolors)\n",
    "```\n",
    "\n",
    "La función usa matplotlib.pyplot (as plt) y matplotlib.colors (as colors).  \n",
    "\n",
    "\n",
    "Una vez definida nuestra función color, el resto es aplicar la escala logaritmica y graficar. Cuando grafiquemos, el cmap debe ser igual a clorophyl_color()."
   ]
  },
  {
   "cell_type": "code",
   "execution_count": null,
   "id": "1242f44c-d700-4745-8480-20afb71cc61b",
   "metadata": {
    "tags": []
   },
   "outputs": [],
   "source": [
    "def get_chlorophyll_color():\n",
    "    lowchlorophyll = plt.cm.Reds(np.linspace(0.3, 0.8, 7))\n",
    "    highchlorophyll = plt.cm.Greens(np.linspace(0.4, 0.8, 5))\n",
    "    joincolors = np.vstack((lowchlorophyll, highchlorophyll))\n",
    "    chlorophyll_color = colors.LinearSegmentedColormap.from_list('chlorophyll_color', joincolors)\n",
    "    return chlorophyll_color"
   ]
  },
  {
   "cell_type": "code",
   "execution_count": null,
   "id": "842aae70-479d-4710-86c1-11bc6071b975",
   "metadata": {
    "tags": []
   },
   "outputs": [],
   "source": [
    "chlog_10 = np.log10(clorofila)\n",
    "levels = [.001, .1, .2, .3, .5, .8, 1, 5, 10, 85]\n",
    "log10_levels = np.log10(levels)# Tick mark positions\n",
    "# ticks = [-3, -1,  0, 0.69, 1, 1.93]\n",
    "# nameticks = [0.001, 0.1, 1, 5, 10, 85]"
   ]
  },
  {
   "cell_type": "code",
   "execution_count": null,
   "id": "5ec262c5-d9a8-495e-bb64-9ef2e0e9cd98",
   "metadata": {
    "tags": []
   },
   "outputs": [],
   "source": [
    "#GRAFICO \n",
    "fig = plt.figure(figsize=(10, 5))\n",
    "ax = fig.add_subplot(111, projection=ccrs.PlateCarree(), zorder=0)\n",
    "ax.set_title(\"Clorofila Superficial \\n 2019-11-27\")\n",
    "\n",
    "CS = ax.contourf(lon, \n",
    "                 lat, \n",
    "                 chlog_10, \n",
    "                 levels=log10_levels, \n",
    "                 cmap=get_chlorophyll_color(),\n",
    "                 vmin=np.log10(clorofila.min()), \n",
    "                 vmax=np.log10(clorofila.max()), \n",
    "                 extend='both',\n",
    "                 zorder=0)\n",
    "\n",
    "cbar = fig.colorbar(CS, \n",
    "                    ticks=log10_levels, # ticker.LogLocator(base=10.0, numticks=50), \n",
    "                    label='Concentracion [$\\\\frac{mg}{m^3}$]', \n",
    "                    shrink=0.5, \n",
    "                    extend='both')\n",
    "\n",
    "cbar.ax.set_yticklabels(levels)\n",
    "\n",
    "ax.set_facecolor(\"silver\")\n",
    "ax.add_feature(cfeature.LAND, facecolor=\"white\", zorder=1)\n",
    "#ax.add_feature(cfeature.BORDERS, linestyle=':')\n",
    "ax.add_feature(cfeature.COASTLINE, linewidth=0.5)\n",
    "\n",
    "gl = ax.gridlines(crs=ccrs.PlateCarree(), color=\"white\", draw_labels=True, linestyle='--', linewidth=1, zorder=0)\n",
    "gl.ylabels_right = False\n",
    "gl.xlabels_top = False\n",
    "gl.yformatter = LATITUDE_FORMATTER\n",
    "gl.xformatter = LONGITUDE_FORMATTER\n",
    "gl.xlabel_style = {'size':12}\n",
    "gl.ylabel_style = {'size':12}\n",
    "\n",
    "plt.show()"
   ]
  },
  {
   "cell_type": "markdown",
   "id": "d631f2bf-c1ae-40fa-90e6-bced1febd99a",
   "metadata": {
    "tags": []
   },
   "source": [
    "**3. Grafique los datos de Clor-a a lo largo de una transecta sobre la imagen**\n",
    "\n",
    "Para definir una recta vamos a tomar dos puntos en un  sistema (lon, lat) uniendolos en una recta. Para esto vamos a usar dos funciones:  \n",
    "\n",
    "**geoline_way_points**  \n",
    "Función que me va a dar todos los puntos intermedios en (lat, lon) entre las puntos que definen la transecta y la distancia al punto de origen (tambien se podria agregar el valor azimutal). Para esto se usa la libreria `geographiclib` (libreria de fondo de geopy).\n",
    "\n",
    "```\n",
    "from geographiclib.geodesic import Geodesic\n",
    "\n",
    "geod = Geodesic.WGS84 \n",
    "\n",
    "def geoline_way_points(p1, p2, ds=10e3):\n",
    "    \"\"\"\n",
    "    ds = distance steps\n",
    "    \"\"\"\n",
    "    lat1, lon1 = p1\n",
    "    lat2, lon2 = p2\n",
    "    lat = []\n",
    "    lon = []\n",
    "    d = []\n",
    "    geoline = geod.InverseLine(lat1, lon1, lat2, lon2) \n",
    "    n = int(ceil(geoline.s13 / ds))\n",
    "    for i in range(n + 1):\n",
    "        s = min(ds * i, geoline.s13)\n",
    "        g = geoline.Position(s, Geodesic.STANDARD | Geodesic.LONG_UNROLL)\n",
    "        d.append(g[\"s12\"])\n",
    "        lat.append(g[\"lat2\"])\n",
    "        lon.append(g[\"lon2\"])\n",
    "    return pd.DataFrame({\"distance\":d, \"lat\":lat, \"lon\":lon})\n",
    "```\n",
    "**np_geodistance_sphere**  \n",
    "Función que calcula la distancia entre dos puntos asumiendo una geodesica en una esfera del radio de la tierra. \n",
    "Esto se hace para acelerar los calculos a la hora de estimar distancias, es una aproximación y deberia usarse la funcion geopy.distance pero para los usos de ahora nos sirve. \n",
    "\n",
    "```\n",
    "RADIUS_EARTH = 6371.009\n",
    "\n",
    "def np_geodistance_sphere(lat1, lon1, lat2, lon2):\n",
    "    dlon = lon2 - lon1\n",
    "    slat1, clat1 = np.sin(lat1), np.cos(lat1)\n",
    "    slat2, clat2 = np.sin(lat2), np.cos(lat2)\n",
    "    sdlon, cdlon = np.sin(dlon), np.cos(dlon)\n",
    "    arg1 = np.sqrt((clat2 * sdlon)**2 + (clat1 * slat2 - slat1 * clat2 * cdlon)**2)\n",
    "    arg2 = slat1 * slat2 + clat1 * clat2 * cdlon\n",
    "    return RADIUS_EARTH * np.arctan2(arg1, arg2)\n",
    "```\n",
    "\n",
    "Una vez esto, y definidos dos puntos, podemos graficar nuestra recta en el mapa: "
   ]
  },
  {
   "cell_type": "code",
   "execution_count": null,
   "id": "d7b7e85b-1505-4101-927d-6040107a9b25",
   "metadata": {
    "tags": []
   },
   "outputs": [],
   "source": [
    "## Tomamos los puntos\n",
    "p1 = (-58, -43)\n",
    "p2 = (-53, -41)\n",
    "invp1 = (p1[1], p1[0])\n",
    "invp2 = (p2[1], p2[0])\n",
    "\n",
    "rinvp1 = degree_to_radians(np.asarray(invp1))"
   ]
  },
  {
   "cell_type": "code",
   "execution_count": null,
   "id": "ab595987-1783-4f6f-8906-d2bfe922513b",
   "metadata": {
    "tags": []
   },
   "outputs": [],
   "source": [
    "dfway = geoline_way_points(invp1, invp2)\n",
    "dfway[\"distance\"] = dfway[\"distance\"]/1000"
   ]
  },
  {
   "cell_type": "code",
   "execution_count": null,
   "id": "e8d24379-e5bd-4a20-9a33-2b866f1e1560",
   "metadata": {
    "tags": []
   },
   "outputs": [],
   "source": [
    "#GRAFICO \n",
    "fig = plt.figure(figsize=(10, 5))\n",
    "ax = fig.add_subplot(111, projection=ccrs.PlateCarree(), zorder=0)\n",
    "ax.set_title(\"Clorofila Superficial \\n 2019-11-27\")\n",
    "\n",
    "plt.plot([p1[0], p2[0]], [p1[1], p2[1]], \"bo--\", label=f\"Transecta:\\n    p1: {p1}\\n    p2: {p2}\")\n",
    "# plt.plot(dfway.lon.tolist(), dfway.lat.tolist(), \"co\", linewidth=0.1, label=\"Puntos de la transecta\")\n",
    "CS = ax.contourf(lon, \n",
    "                 lat, \n",
    "                 chlog_10, \n",
    "                 levels=log10_levels, \n",
    "                 cmap=get_chlorophyll_color(),\n",
    "                 vmin=np.log10(clorofila.min()), \n",
    "                 vmax=np.log10(clorofila.max()), \n",
    "                 extend='both',\n",
    "                 zorder=0)\n",
    "\n",
    "cbar = fig.colorbar(CS, \n",
    "                    ticks=log10_levels, # ticker.LogLocator(base=10.0, numticks=50), \n",
    "                    label='Concentracion [$\\\\frac{mg}{m^3}$]', \n",
    "                    shrink=0.5, \n",
    "                    extend='both')\n",
    "\n",
    "cbar.ax.set_yticklabels(levels)\n",
    "\n",
    "ax.set_facecolor(\"silver\")\n",
    "ax.add_feature(cfeature.LAND, facecolor=\"white\", zorder=1)\n",
    "#ax.add_feature(cfeature.BORDERS, linestyle=':')\n",
    "ax.add_feature(cfeature.COASTLINE, linewidth=0.5)\n",
    "\n",
    "gl = ax.gridlines(crs=ccrs.PlateCarree(), color=\"white\", draw_labels=True, linestyle='--', linewidth=1, zorder=0)\n",
    "gl.ylabels_right = False\n",
    "gl.xlabels_top = False\n",
    "gl.yformatter = LATITUDE_FORMATTER\n",
    "gl.xformatter = LONGITUDE_FORMATTER\n",
    "gl.xlabel_style = {'size':12}\n",
    "gl.ylabel_style = {'size':12}\n",
    "\n",
    "plt.legend()\n",
    "plt.show()"
   ]
  },
  {
   "cell_type": "markdown",
   "id": "7c28ee3a-3384-4d52-8c41-41350721865b",
   "metadata": {
    "tags": []
   },
   "source": [
    "La pregunta ahora es:  **¿Como tomamos los  valores de clorofila?**\n",
    "\n",
    "Los datos de todo el sistema vienen dados en dos dimensiones, \"linea\" y \"pixel\". Existe una transformación que me lleva a cada punto en mi sistema (linea, pixel) a un sistema (lon, lat). Es decir, \n",
    "\n",
    "$$lat = F(linea, pixel)$$\n",
    "y\n",
    "$$lon = G(linea, pixel) $$\n",
    "\n",
    "y esto, a su vez, nos deberia poder permitir definir las funciones:\n",
    "$$linea = f(lat, lon)$$ y $$ pixel = g(lat, lon)$$\n",
    "\n",
    "Vamos asumir que cada \"punto\" tiene dos errores asociados un delta entre lineas (el cual asumirmos que cambia a lo largo de la linea, pero es constante entre lineas) y un delta entre pixeles de una misma linea (el cual vamos asumir constante por linea). Entonces, vamos a mirar que \"areas\" atravieza la la recta, tomamos esos puntos de clorofila y lo asociamos a los puntos de la transecta (el delta entre los puntos de la transecta lo definimos nosotros, pero debe ser mayor al radio maximo del error.  "
   ]
  },
  {
   "cell_type": "code",
   "execution_count": null,
   "id": "3b8b9f66-4b00-4373-b993-a207c5ee301e",
   "metadata": {
    "tags": []
   },
   "outputs": [],
   "source": [
    "dlineas = []\n",
    "dpixel = []\n",
    "for ix in range(lon.shape[0]-1):\n",
    "    LON1 = lon[ix, :]\n",
    "    LON2 = lon[ix + 1, :]\n",
    "    LAT1 = lat[ix, :]\n",
    "    LAT2 = lat[ix + 1, :]\n",
    "    D = np_geodistance_sphere(\n",
    "            degree_to_radians(LAT1), degree_to_radians(LON1), \n",
    "            degree_to_radians(LAT2), degree_to_radians(LON2)\n",
    "        )\n",
    "    dlineas.append(D)\n",
    "elineas = np.mean(np.asarray(dlineas), axis=0)"
   ]
  },
  {
   "cell_type": "code",
   "execution_count": null,
   "id": "b4053f6e-e567-4c58-ad40-ed658149852b",
   "metadata": {
    "tags": []
   },
   "outputs": [],
   "source": [
    "plt.figure(figsize=(10, 5))\n",
    "plt.title(\"Distancia entre lineas por pixel\")\n",
    "plt.xlabel(\"N° pixel\")\n",
    "plt.ylabel(\"Distancia lineas[Km]\")\n",
    "for l in dlineas:\n",
    "    plt.plot(l, \"--\", color=\"grey\", alpha=.01)\n",
    "plt.grid()\n",
    "plt.plot(elineas, color=\"c\", linewidth=3, label=\"distancia entre lineas promedio\")"
   ]
  },
  {
   "cell_type": "markdown",
   "id": "848f48b9-12cc-492a-9984-b361d708e818",
   "metadata": {
    "tags": []
   },
   "source": [
    "En la figura se puede ver en celeste el error que se hará uso. Notar como hay una menor cantidad de lineas donde el error queda subestimado (el gris mas claro indica que son \"menos lineas\"). Sigue sin ser perfecto, pero es una  buena aproximación."
   ]
  },
  {
   "cell_type": "code",
   "execution_count": null,
   "id": "79cc426b-cdc1-4d62-b73e-c4063035f280",
   "metadata": {
    "tags": []
   },
   "outputs": [],
   "source": [
    "dpixel = []\n",
    "for ix in range(lon.shape[1]-1):\n",
    "    LON1 = lon[:, ix]\n",
    "    LON2 = lon[:, ix + 1]\n",
    "    LAT1 = lat[:, ix]\n",
    "    LAT2 = lat[:, ix + 1]\n",
    "    D = np_geodistance_sphere(\n",
    "            degree_to_radians(LAT1), degree_to_radians(LON1), \n",
    "            degree_to_radians(LAT2), degree_to_radians(LON2)\n",
    "        )\n",
    "    dpixel.append(D)\n",
    "    \n",
    "epixel = np.mean(np.asarray(dpixel), axis=0)"
   ]
  },
  {
   "cell_type": "code",
   "execution_count": null,
   "id": "8bbbb6f3-24d5-41fb-8c36-67275bf834fe",
   "metadata": {
    "tags": []
   },
   "outputs": [],
   "source": [
    "plt.figure(figsize=(10, 5))\n",
    "plt.title(\"Distancia entre pixeles por linea\")\n",
    "plt.xlabel(\"N° linea\")\n",
    "plt.ylabel(\"Distancia pixeles[Km]\")\n",
    "\n",
    "for l in dpixel:\n",
    "    plt.plot(l, \"--\", color=\"grey\", alpha=.01)\n",
    "plt.plot(epixel, color=\"c\", linewidth=4, label=\"Distancia promedio pixeles\")\n",
    "\n",
    "plt.legend()\n",
    "plt.grid()\n",
    "plt.show()"
   ]
  },
  {
   "cell_type": "markdown",
   "id": "c4e7dc06-2011-491d-a78d-fd6cbefe2fd8",
   "metadata": {
    "tags": []
   },
   "source": [
    "Nuevamente, el erro en algunos casos va a quedar subestimado y en otros sobre estimado. Pero nos sirve como aproximación."
   ]
  },
  {
   "cell_type": "markdown",
   "id": "9903a344-f162-4bb6-a788-152d768d8d1e",
   "metadata": {},
   "source": [
    "PEEEEROO La ecuación de una elipse viene  dada por, donde p1 y p2 representa el punto central de mi elipse con x, y variables parametrizadas del contorno de la elipse. \n",
    "\n",
    "$$\\frac{(x - p_1)^2}{a^2} + \\frac{(y - p_2)^2}{b^2} = 1$$\n",
    "\n",
    "si el punto de la recta esta en el interior de la parametrización, se toma la clorofila. Para simplificar aun más problema, no vamos a tomar una elipse sino una esfera de radio = max(error_pixel, error_linea). Basta entonces que la distancia entre los puntos sea menor a ese radio para tomarlo como punto de la recta."
   ]
  },
  {
   "cell_type": "code",
   "execution_count": null,
   "id": "28125fb9-7379-4887-9895-979c46bcde97",
   "metadata": {
    "tags": []
   },
   "outputs": [],
   "source": [
    "error = []\n",
    "for ep in epixel:\n",
    "    auxer = []\n",
    "    for el in elineas:\n",
    "        auxer.append(ep if ep > el else el)\n",
    "    error.append(auxer)\n",
    "    \n",
    "error = np.asarray(error)"
   ]
  },
  {
   "cell_type": "code",
   "execution_count": null,
   "id": "82d5eb9f-e0bd-4471-a05d-d726b3af7f4f",
   "metadata": {
    "tags": []
   },
   "outputs": [],
   "source": [
    "LAT = dfway.lat.to_numpy()\n",
    "LON = dfway.lon.to_numpy()\n",
    "WAYLAT = degree_to_radians(LAT)\n",
    "WAYLON = degree_to_radians(LON)\n",
    "RLAT = degree_to_radians(lat)\n",
    "RLON = degree_to_radians(lon)"
   ]
  },
  {
   "cell_type": "code",
   "execution_count": null,
   "id": "6f532668-cfc6-486e-b986-179acda78a95",
   "metadata": {
    "tags": []
   },
   "outputs": [],
   "source": [
    "clomean = []\n",
    "clostd = []\n",
    "for i in range(WAYLAT.shape[0]):\n",
    "    cond = (np_geodistance_sphere(RLAT, RLON, WAYLAT[i], WAYLON[i]) < error)\n",
    "    clo = clorofila[cond]\n",
    "    clomean.append(clo.mean())\n",
    "    clostd.append(clo.std())\n",
    "\n",
    "dfway[\"clorofila\"] = [np.nan if np.ma.is_masked(c) else c for c in clomean]\n",
    "dfway[\"std\"]= [np.nan if np.ma.is_masked(c) else c for c in clostd]"
   ]
  },
  {
   "cell_type": "code",
   "execution_count": null,
   "id": "fa4df14b-418d-4017-ac20-a3b05c6f69c8",
   "metadata": {
    "tags": []
   },
   "outputs": [],
   "source": [
    "dfway[\"clolog10\"] = dfway.clorofila.apply(lambda x: np.log10(x))\n",
    "dfway[\"stdlog10\"]= dfway.apply(lambda row: row[\"std\"]/row[\"clorofila\"], axis=1) "
   ]
  },
  {
   "cell_type": "code",
   "execution_count": null,
   "id": "3c08eac8-42e8-4719-bce7-9cde670e8808",
   "metadata": {
    "tags": []
   },
   "outputs": [],
   "source": [
    "plt.title(\"Clorofila en la transecta\")\n",
    "plt.ylabel(\"Clorofila\")\n",
    "plt.xlabel(\"distancia trasecta[Km]\")\n",
    "# plt.yticks(ticks=log10_levels, labels=levels)\n",
    "plt.plot(dfway.distance.to_numpy(), dfway.clorofila.to_numpy(), \"co--\")\n",
    "\n",
    "plt.fill_between(dfway.distance.to_numpy(), \n",
    "                dfway.clorofila.to_numpy() - dfway[\"std\"].to_numpy(), \n",
    "                dfway.clorofila.to_numpy() + dfway[\"std\"].to_numpy(), \n",
    "                color=\"c\", \n",
    "                alpha=0.3,\n",
    "                label=\"error\")\n",
    "plt.legend()\n",
    "plt.grid()\n",
    "plt.show()"
   ]
  },
  {
   "cell_type": "code",
   "execution_count": null,
   "id": "b08cdd17-55ca-4980-b111-8fa1c5ec2bae",
   "metadata": {
    "tags": []
   },
   "outputs": [],
   "source": [
    "plt.title(\"Clorofila(log10) en la transecta\")\n",
    "plt.ylabel(\"Clorofila[log10]\")\n",
    "plt.xlabel(\"distancia trasecta[Km]\")\n",
    "# plt.yticks(ticks=log10_levels, labels=levels)\n",
    "plt.plot(dfway.distance.to_numpy(), dfway.clolog10.to_numpy(), \"co--\")\n",
    "\n",
    "plt.fill_between(dfway.distance.to_numpy(), \n",
    "                dfway.clolog10.to_numpy() - dfway[\"stdlog10\"].to_numpy(), \n",
    "                dfway.clolog10.to_numpy() + dfway[\"stdlog10\"].to_numpy(), \n",
    "                color=\"c\", \n",
    "                alpha=0.3,\n",
    "                label=\"error\")\n",
    "plt.legend()\n",
    "plt.grid()\n",
    "plt.show()"
   ]
  },
  {
   "cell_type": "code",
   "execution_count": null,
   "id": "0688e763-e2d9-4eab-89f4-cc82c5a38b88",
   "metadata": {
    "tags": []
   },
   "outputs": [],
   "source": [
    "print(\"Tabla 1: Transecta y sus valores\")\n",
    "dfway"
   ]
  }
 ],
 "metadata": {
  "kernelspec": {
   "display_name": "ocean-env",
   "language": "python",
   "name": "ocean-env"
  },
  "language_info": {
   "codemirror_mode": {
    "name": "ipython",
    "version": 3
   },
   "file_extension": ".py",
   "mimetype": "text/x-python",
   "name": "python",
   "nbconvert_exporter": "python",
   "pygments_lexer": "ipython3",
   "version": "3.10.11"
  }
 },
 "nbformat": 4,
 "nbformat_minor": 5
}
