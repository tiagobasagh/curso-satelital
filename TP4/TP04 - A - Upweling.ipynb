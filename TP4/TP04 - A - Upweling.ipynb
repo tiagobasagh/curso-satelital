{
 "cells": [
  {
   "cell_type": "code",
   "execution_count": null,
   "id": "82f6b0ba-aa8a-48e7-a8b5-ffd7d593b748",
   "metadata": {
    "tags": []
   },
   "outputs": [],
   "source": [
    "from IPython.display import Image"
   ]
  },
  {
   "cell_type": "code",
   "execution_count": null,
   "id": "351b1bf4-ef3f-49b2-a7b0-1c36740781c3",
   "metadata": {
    "tags": []
   },
   "outputs": [],
   "source": [
    "import os\n",
    "\n",
    "import netCDF4 as nc\n",
    "import numpy as np\n",
    "# librerias graficas\n",
    "import matplotlib.axes as maxes\n",
    "import matplotlib.pyplot as plt\n",
    "from cartopy.mpl.gridliner import LONGITUDE_FORMATTER, LATITUDE_FORMATTER\n",
    "from cartopy.crs import PlateCarree\n",
    "from cartopy.feature import LAND, COASTLINE, RIVERS\n",
    "from cmocean.cm import thermal, speed,  algae\n",
    "from mpl_toolkits.axes_grid1 import make_axes_locatable\n"
   ]
  },
  {
   "cell_type": "code",
   "execution_count": null,
   "id": "ada32b10-0b10-4dc6-a1f1-e315920a5681",
   "metadata": {
    "tags": []
   },
   "outputs": [],
   "source": [
    "def extract_from_region(var, lat, lon, region):\n",
    "    \"\"\"\n",
    "    extract values of a variable betweeen lat,lon coordenates.\n",
    "\n",
    "    \"\"\"\n",
    "    def _order_minmax(point):\n",
    "        if point[1] > point[0]:\n",
    "            return point[0], point[1]\n",
    "        else:\n",
    "            return point[1], point[0]\n",
    "\n",
    "    def get_index_limits(vardim, limits):\n",
    "        return [np.abs(vardim - limit).argmin() for limit in limits]\n",
    "\n",
    "    def reduce_dim(vardim, idxs):\n",
    "        m, M =  _order_minmax(idxs)\n",
    "        return vardim[m:M]\n",
    "\n",
    "    def extract_var(var, lat_idxs, lon_idxs):\n",
    "        lat_m, lat_M =  _order_minmax(lat_idxs)\n",
    "        lon_m, lon_M =  _order_minmax(lon_idxs)\n",
    "        return var[lat_m : lat_M, lon_m : lon_M]\n",
    "\n",
    "    lat_idxs = get_index_limits(lat, region[\"lat\"])\n",
    "    lon_idxs = get_index_limits(lon, region[\"lon\"])\n",
    "    _var = extract_var(var, lat_idxs, lon_idxs)\n",
    "\n",
    "    return _var, reduce_dim(lat, lat_idxs), reduce_dim(lon, lon_idxs)\n",
    "\n",
    "def norm(r):\n",
    "    return 100 * r / r.sum()\n",
    "\n",
    "def long(array):\n",
    "    return np.int8(np.abs(array.max() - array.min()))\n",
    "\n",
    "def get_levels(t, step=1):\n",
    "    return np.round(np.arange(t.min(), t.max() + step, step))"
   ]
  },
  {
   "cell_type": "markdown",
   "id": "5f79cc9c-6927-498d-8d63-6626452e2c01",
   "metadata": {},
   "source": [
    "**Giovanni**\n",
    "\n",
    "Utilizar Giovanni (https://giovanni.gsfc.nasa.gov/giovanni/) u otra herramienta que permita abrir imágenes de SST, Chl y Viento para luego analizarlas.\n",
    "\n"
   ]
  },
  {
   "cell_type": "code",
   "execution_count": null,
   "id": "995ba2d4-a8b1-4d48-9e4b-ce56776b8c00",
   "metadata": {
    "tags": []
   },
   "outputs": [],
   "source": [
    "Image(filename=\"./images/frente.png\", width=700, height=None)"
   ]
  },
  {
   "cell_type": "code",
   "execution_count": null,
   "id": "1d52c13c-4c9d-41a4-a520-ad53ca4e858e",
   "metadata": {
    "tags": []
   },
   "outputs": [],
   "source": [
    "print(\"Figura 1: Pagina inicial de Goivanni. Recuadrado en distintos colores se indican funcionalidades. En rojo los plots disponibles. En naranja el filtro de fechas. En amarillo el filtro de region. Estos últimos \\ndos son filtros sobre disponibilidad y procesamiento de la variable elegida. En verde se recuadran las categorias de filtros sobre las variables disponibles. En gris una búsqueda por keywrord. Finalmente en\\nrosa se resalta un menu de opciones, este permite resetear, plotear o ir a los resultados ya ploteados.\")"
   ]
  },
  {
   "cell_type": "code",
   "execution_count": null,
   "id": "05ccb31b-53b3-4bbe-bec1-fa45be5b0701",
   "metadata": {
    "tags": []
   },
   "outputs": [],
   "source": [
    "Image(filename=\"./images/type_graphs.png\", width=700, height=None)"
   ]
  },
  {
   "cell_type": "code",
   "execution_count": null,
   "id": "c14bad45-b24f-4359-9166-b9df204baae5",
   "metadata": {
    "tags": []
   },
   "outputs": [],
   "source": [
    "print(\"Figura 2: Plot disponibles. En algunos casos se deben seleccionas mas de una variable\")"
   ]
  },
  {
   "cell_type": "code",
   "execution_count": null,
   "id": "9e11b7dc-e70f-4b6e-88b4-38113da899fd",
   "metadata": {
    "tags": []
   },
   "outputs": [],
   "source": [
    "Image(filename=\"./images/variable-eleccion.png\", width=700, height=None)"
   ]
  },
  {
   "cell_type": "code",
   "execution_count": null,
   "id": "6d54872f-a619-4a00-8dce-1fc5b69af5b8",
   "metadata": {
    "tags": []
   },
   "outputs": [],
   "source": [
    "print(\"Figura 3: Ejemplo de elección de variable. La variable tildada es la usada para el plot. Cada variable tiene dos links: el primero nos lleva a un glosario de referencia, mientras el segundo, el que esta entre parentesis, nos lleva al producto.\")"
   ]
  },
  {
   "cell_type": "code",
   "execution_count": null,
   "id": "0f5d69c5-09d1-4221-86dc-8c61b8f4dd61",
   "metadata": {
    "tags": []
   },
   "outputs": [],
   "source": [
    "Image(filename=\"./images/plot.png\", width=700, height=None)"
   ]
  },
  {
   "cell_type": "code",
   "execution_count": null,
   "id": "f17a8795-1fac-4d4b-82d5-355dce8699cf",
   "metadata": {
    "tags": []
   },
   "outputs": [],
   "source": [
    "print(\"Figura 4: Ejemplo de plot. Recuadrado en verde historial de plots. En violeta las opciones de descarga. En rojo para volver a la selección de variables/plots.\")"
   ]
  },
  {
   "cell_type": "code",
   "execution_count": null,
   "id": "55f71ae7-1325-4d12-94be-071d954594c2",
   "metadata": {
    "tags": []
   },
   "outputs": [],
   "source": [
    "display(Latex(r\"\\clearpage\"))\n",
    "display(Latex(r\"\\newpage}\"))\n",
    "display(Latex(r\"\\mbox{~}\"))"
   ]
  },
  {
   "cell_type": "markdown",
   "id": "7b8afe0a-ece9-4cf4-897d-685969e84721",
   "metadata": {},
   "source": [
    "**Evento de upwelling en el South Atlantic Bight, en el Océano Atlántico Noroccidental (Kyung Hoon Hyun & Ruoying H, 2010).**"
   ]
  },
  {
   "cell_type": "markdown",
   "id": "90f47c1e-6adc-4d50-85c6-a2184558f28a",
   "metadata": {},
   "source": [
    "El paper (Kyung Hoon Hyun & Ruoying H, 2010) trabaja en la region :  \n",
    "```\n",
    "{\n",
    "    lat = [22, 36],\n",
    "    lon = [-81, -75]\n",
    "}\n",
    "```"
   ]
  },
  {
   "cell_type": "code",
   "execution_count": null,
   "id": "1a271609-4b66-4e96-98f6-3c9b62fd4717",
   "metadata": {
    "tags": []
   },
   "outputs": [],
   "source": [
    "STORE_DIR = \"./data\"\n",
    "\n",
    "REGION = {\n",
    "    \"lat\": [22, 36],\n",
    "    \"lon\": [-81, -75]\n",
    "}"
   ]
  },
  {
   "cell_type": "code",
   "execution_count": null,
   "id": "e5a83f43-b173-40a7-99be-e47644a54d79",
   "metadata": {
    "tags": []
   },
   "outputs": [],
   "source": [
    "## SST \n",
    "sst_nf3 = \"2004_modis_sst_monthly_night_4m.nc\"\n",
    "sst_nc3 =  nc.Dataset(os.path.join(STORE_DIR, sst_nf3))\n",
    "sst_lat3 = sst_nc3.variables[\"lat\"][:]\n",
    "sst_lon3 = sst_nc3.variables[\"lon\"][:]\n",
    "sst_latb3 = sst_nc3.variables[\"lat_bnds\"][:]\n",
    "sst_lonb3 = sst_nc3.variables[\"lon_bnds\"][:]\n",
    "sst3 = sst_nc3.variables[\"MODISA_L3m_SST4_Monthly_4km_R2019_0_sst4\"][:]\n",
    "sst3, sst_lat3, sst_lon3 = extract_from_region(sst3, sst_lat3, sst_lon3, REGION)\n",
    "sst_nc3.close()\n",
    "\n",
    "## WIND\n",
    "wind_nf = \"2003_wind_stress_magnitude.nc\"\n",
    "wind_nc =  nc.Dataset(os.path.join(STORE_DIR, wind_nf))\n",
    "var =  wind_nc.variables\n",
    "wmag =  var['GSSTFM_3_SET1_INT_ST_mag'][:]\n",
    "wmag_lat =  var['lat'][:]\n",
    "wmag_lon =  var['lon'][:]\n",
    "wmag, wmag_lat, wmag_lon = extract_from_region(wmag, wmag_lat, wmag_lon, REGION)\n",
    "wind_nc.close()\n",
    "\n",
    "wind_nf = \"2003_wind_stress_vector.nc\"\n",
    "wind_nc =  nc.Dataset(os.path.join(STORE_DIR, wind_nf))\n",
    "var =  wind_nc.variables\n",
    "vel_u =  var['GSSTFM_3_SET1_INT_ST_vec_u'][:]\n",
    "vel_v =  var['GSSTFM_3_SET1_INT_ST_vec_v'][:]\n",
    "wvel_lat =  var['lat'][:]\n",
    "wvel_lon =  var['lon'][:]\n",
    "U = np.where(vel_u.data==-999, 0, vel_u.data)\n",
    "V = np.where(vel_v.data==-999, 0, vel_v.data)\n",
    "_vel_u, _wvel_lat, _wvel_lon = extract_from_region(U, wvel_lat, wvel_lon, REGION)\n",
    "_vel_v, _wvel_lat, _wvel_lon = extract_from_region(V, wvel_lat, wvel_lon, REGION)\n",
    "wind_nc.close()\n",
    "\n",
    "grid_lon, grid_lat = np.meshgrid(_wvel_lon, _wvel_lat)\n",
    "\n",
    "## Clorofila\n",
    "\n",
    "ch_nf = \"2003_modis_chlo_monthly_4km.nc\"\n",
    "ch_nc =  nc.Dataset(os.path.join(STORE_DIR, ch_nf ))\n",
    "var =  ch_nc.variables\n",
    "chl = var[\"MODISA_L3m_CHL_Mo_4km_R2022_0_chlor_a\"][:]\n",
    "chl_lat =  var['lat'][:]\n",
    "chl_lon =  var['lon'][:]\n",
    "chl, chl_lat, chl_lon = extract_from_region(chl, chl_lat, chl_lon, REGION)\n",
    "\n",
    "ch_nc.close()\n",
    "\n",
    "chlog_10 = np.log10(chl)\n",
    "levels = [.001, .1, .2, .3, .5, .8, 1, 5, 10, 85]\n",
    "log10_levels = np.log10(levels)# Tick mark positions"
   ]
  },
  {
   "cell_type": "code",
   "execution_count": null,
   "id": "31e8f8f3-3b71-43bf-874e-9e3381af701a",
   "metadata": {
    "tags": []
   },
   "outputs": [],
   "source": [
    "fig, axs = plt.subplots(1, 3, subplot_kw={'projection': PlateCarree()}, layout='constrained', figsize=(15, 15), sharex=True, sharey=True)\n",
    "\n",
    "axs[0].set_title(\"SST Mensual (Agosto 2003)\")\n",
    "axs[1].set_title(\"Clorofila Mensual (Agosto 2003)\")\n",
    "axs[2].set_title(\"Vientos Mensual (Agosto 2003)\")\n",
    "# SST\n",
    "im0 = axs[0].contourf(sst_lon3, sst_lat3, sst3, levels= get_levels(sst3), vmin=24, vmax=30, cmap=thermal, zorder=0)\n",
    "divider = make_axes_locatable(axs[0])\n",
    "cax = divider.append_axes('bottom', size='5%', pad=0.4, axes_class=maxes.Axes)\n",
    "cbar0 = fig.colorbar(im0, cax=cax, orientation='horizontal')\n",
    "for label in cbar0.ax.get_xticklabels():\n",
    "    label.set_rotation(45)\n",
    "# CHL\n",
    "im1 = axs[1].contourf(chl_lon, chl_lat,  chlog_10, levels=log10_levels, cmap=algae, vmin=np.log10(chl.min()), vmax=np.log10(chl.max()), extend='both', zorder=0)\n",
    "divider = make_axes_locatable(axs[1])\n",
    "cax = divider.append_axes('bottom', size='5%', pad=0.4, axes_class=maxes.Axes)\n",
    "cbar1 = fig.colorbar(im1, cax=cax, orientation='horizontal')\n",
    "cbar1.ax.set_xticklabels(levels)\n",
    "for label in cbar1.ax.get_xticklabels():\n",
    "    label.set_rotation(45)\n",
    "\n",
    "# WIND\n",
    "im2 = axs[2].contourf(wmag_lon, wmag_lat, wmag, cmap=speed, zorder=0)\n",
    "divider = make_axes_locatable(axs[2])\n",
    "cax = divider.append_axes('bottom', size='5%', pad=0.4, axes_class=maxes.Axes)\n",
    "cbar2 = fig.colorbar(im2, cax=cax, orientation='horizontal' )\n",
    "for label in cbar2.ax.get_xticklabels():\n",
    "    label.set_rotation(45)\n",
    "\n",
    "# WIND\n",
    "step = 2\n",
    "qv = axs[2].quiver(grid_lon[::step,::step], grid_lat[::step,::step], _vel_u[:-1, :-1][::step,::step], _vel_v[::step,::step], scale=0.5, color='k')\n",
    "\n",
    "\n",
    "for i in range(3):\n",
    "    axs[i].set_facecolor('white')\n",
    "    axs[i].add_feature(LAND, facecolor=\"white\", zorder=1)\n",
    "    axs[i].add_feature(COASTLINE, linewidth=0.5)\n",
    "\n",
    "    gl = axs[i].gridlines(crs=PlateCarree(), draw_labels=True, linestyle='--', zorder=0)\n",
    "    gl.yformatter = LATITUDE_FORMATTER\n",
    "    gl.xformatter = LONGITUDE_FORMATTER\n",
    "    gl.right_labels = False\n",
    "    gl.top_labels = False\n",
    "plt.savefig(\"figurita\")\n",
    "plt.show()"
   ]
  },
  {
   "cell_type": "markdown",
   "id": "fb3498a1-baa0-4e27-aab0-f19ad7655f9b",
   "metadata": {},
   "source": [
    "soy unas bonitas comentarios."
   ]
  },
  {
   "cell_type": "code",
   "execution_count": null,
   "id": "4932d0c1-5364-43c6-81c6-e5fe054967b1",
   "metadata": {
    "tags": []
   },
   "outputs": [],
   "source": [
    "## SST \n",
    "sst_nf3 = \"2004_modis_sst_monthly_night_4m.nc\"\n",
    "sst_nc3 =  nc.Dataset(os.path.join(STORE_DIR, sst_nf3))\n",
    "sst_lat3 = sst_nc3.variables[\"lat\"][:]\n",
    "sst_lon3 = sst_nc3.variables[\"lon\"][:]\n",
    "sst_latb3 = sst_nc3.variables[\"lat_bnds\"][:]\n",
    "sst_lonb3 = sst_nc3.variables[\"lon_bnds\"][:]\n",
    "sst3 = sst_nc3.variables[\"MODISA_L3m_SST4_Monthly_4km_R2019_0_sst4\"][:]\n",
    "sst3, sst_lat3, sst_lon3 = extract_from_region(sst3, sst_lat3, sst_lon3, REGION)\n",
    "sst_nc3.close()\n",
    "\n",
    "## WIND\n",
    "wind_nf = \"2004_wind_stress_vector.nc\"\n",
    "wind_nc =  nc.Dataset(os.path.join(STORE_DIR, wind_nf))\n",
    "var =  wind_nc.variables\n",
    "vel_u =  var['GSSTFM_3_SET1_INT_ST_vec_u'][:]\n",
    "vel_v =  var['GSSTFM_3_SET1_INT_ST_vec_v'][:]\n",
    "wvel_lat =  var['lat'][:]\n",
    "wvel_lon =  var['lon'][:]\n",
    "U = np.where(vel_u.data==-999, 0, vel_u.data)\n",
    "V = np.where(vel_v.data==-999, 0, vel_v.data)\n",
    "_vel_u, _wvel_lat, _wvel_lon = extract_from_region(U, wvel_lat, wvel_lon, REGION)\n",
    "_vel_v, _wvel_lat, _wvel_lon = extract_from_region(V, wvel_lat, wvel_lon, REGION)\n",
    "wind_nc.close()\n",
    "\n",
    "grid_lon, grid_lat = np.meshgrid(_wvel_lon, _wvel_lat)\n",
    "\n",
    "## Clorofila\n",
    "\n",
    "ch_nf = \"2004_modis_chlo_monthly_4km.nc\"\n",
    "ch_nc =  nc.Dataset(os.path.join(STORE_DIR, ch_nf ))\n",
    "var =  ch_nc.variables\n",
    "chl = var[\"MODISA_L3m_CHL_Mo_4km_R2022_0_chlor_a\"][:]\n",
    "chl_lat =  var['lat'][:]\n",
    "chl_lon =  var['lon'][:]\n",
    "chl, chl_lat, chl_lon = extract_from_region(chl, chl_lat, chl_lon, REGION)\n",
    "\n",
    "ch_nc.close()\n",
    "\n",
    "chlog_10 = np.log10(chl)\n",
    "levels = [.001, .1, .2, .3, .5, .8, 1, 5, 10, 85]\n",
    "log10_levels = np.log10(levels)# Tick mark positions"
   ]
  },
  {
   "cell_type": "code",
   "execution_count": null,
   "id": "22590291-4045-4df3-b4cb-f3aecad11f15",
   "metadata": {
    "tags": []
   },
   "outputs": [],
   "source": [
    "fig, axs = plt.subplots(1, 3, subplot_kw={'projection': PlateCarree()}, layout='constrained', figsize=(15, 15), sharex=True, sharey=True)\n",
    "\n",
    "axs[0].set_title(\"SST Mensual (Agosto 2004)\")\n",
    "axs[1].set_title(\"Clorofila Mensual (Agosto 2004)\")\n",
    "axs[2].set_title(\"Vientos Mensual (Agosto 2004)\")\n",
    "# SST\n",
    "im0 = axs[0].contourf(sst_lon3, sst_lat3, sst3, levels= get_levels(sst3), vmin=24, vmax=30, cmap=thermal, zorder=0)\n",
    "divider = make_axes_locatable(axs[0])\n",
    "cax = divider.append_axes('bottom', size='5%', pad=0.4, axes_class=maxes.Axes)\n",
    "cbar0 = fig.colorbar(im0, cax=cax, orientation='horizontal')\n",
    "for label in cbar0.ax.get_xticklabels():\n",
    "    label.set_rotation(45)\n",
    "# CHL\n",
    "im1 = axs[1].contourf(chl_lon, chl_lat,  chlog_10, levels=log10_levels, cmap=algae, vmin=np.log10(chl.min()), vmax=np.log10(chl.max()), extend='both', zorder=0)\n",
    "divider = make_axes_locatable(axs[1])\n",
    "cax = divider.append_axes('bottom', size='5%', pad=0.4, axes_class=maxes.Axes)\n",
    "cbar1 = fig.colorbar(im1, cax=cax, orientation='horizontal')\n",
    "cbar1.ax.set_xticklabels(levels)\n",
    "for label in cbar1.ax.get_xticklabels():\n",
    "    label.set_rotation(45)\n",
    "\n",
    "# WIND\n",
    "step = 2\n",
    "qv = axs[2].quiver(grid_lon[::step,::step], grid_lat[::step,::step], _vel_u[:-1, :-1][::step,::step], _vel_v[::step,::step], scale=0.5, color='k')\n",
    "\n",
    "for i in range(3):\n",
    "    axs[i].set_facecolor('white')\n",
    "    axs[i].add_feature(LAND, facecolor=\"white\", zorder=1)\n",
    "    axs[i].add_feature(COASTLINE, linewidth=0.5)\n",
    "\n",
    "    gl = axs[i].gridlines(crs=PlateCarree(), draw_labels=True, linestyle='--', zorder=0)\n",
    "    gl.yformatter = LATITUDE_FORMATTER\n",
    "    gl.xformatter = LONGITUDE_FORMATTER\n",
    "    gl.right_labels = False\n",
    "    gl.top_labels = False\n",
    "plt.savefig(\"figurita\")\n",
    "plt.show()"
   ]
  },
  {
   "cell_type": "markdown",
   "id": "809d1255-222c-4e42-8fb4-58d87c284025",
   "metadata": {},
   "source": [
    "soy unas bonitas  conclusiones"
   ]
  },
  {
   "cell_type": "code",
   "execution_count": null,
   "id": "5c101fe4-8cf3-4fc7-9ccc-21b90460955c",
   "metadata": {
    "tags": []
   },
   "outputs": [],
   "source": [
    "display(Latex(r\"\\clearpage\"))\n",
    "display(Latex(r\"\\newpage}\"))\n",
    "display(Latex(r\"\\mbox{~}\"))"
   ]
  },
  {
   "cell_type": "markdown",
   "id": "9a579e9b-76de-47c3-a9ac-8ff1e419df50",
   "metadata": {},
   "source": [
    "**Evento de upwelling en las costas de Perú, en el Océano Pacífico (Lübbecke et al., 2020).**"
   ]
  },
  {
   "cell_type": "markdown",
   "id": "04226552-6dd6-4764-b687-4994fcea8079",
   "metadata": {
    "tags": []
   },
   "source": [
    "En este caso, vamos a trabajar al rededor de la  region :  \n",
    "```\n",
    "{\n",
    "    lat: [0, -25],\n",
    "    lon: [-100, -70]\n",
    "}\n",
    "```"
   ]
  },
  {
   "cell_type": "code",
   "execution_count": null,
   "id": "d210f784-8ec2-431d-857a-500819b95aa1",
   "metadata": {},
   "outputs": [],
   "source": [
    "PERU = \"peru\"\n",
    "REGION_PERU = {\n",
    "    \"lat\": [0, -25],\n",
    "    \"lon\": [-100, -70]\n",
    "}"
   ]
  },
  {
   "cell_type": "code",
   "execution_count": null,
   "id": "adeefb01-5f60-49e7-983a-9857ac1236dd",
   "metadata": {},
   "outputs": [],
   "source": [
    "## SST \n",
    "sst_nf = \"2005_01_SST_modis_monthly_4km.nc\"\n",
    "sst_nc =  nc.Dataset(os.path.join(STORE_DIR, PERU, sst_nf))\n",
    "sst_lat = sst_nc.variables[\"lat\"][:]\n",
    "sst_lon = sst_nc.variables[\"lon\"][:]\n",
    "sst_latb = sst_nc.variables[\"lat_bnds\"][:]\n",
    "sst_lonb = sst_nc.variables[\"lon_bnds\"][:]\n",
    "sst = sst_nc.variables[\"MODISA_L3m_SST4_Monthly_4km_R2019_0_sst4\"][:]\n",
    "sst, sst_lat, sst_lon = extract_from_region(sst, sst_lat, sst_lon, REGION_PERU)\n",
    "sst_nc.close()\n",
    "\n",
    "## WIND\n",
    "wind_nf = \"2005_01_winds_magnitude.nc\"\n",
    "wind_nc =  nc.Dataset(os.path.join(STORE_DIR, PERU, wind_nf))\n",
    "var =  wind_nc.variables\n",
    "wmag =  var['GSSTFM_3_SET1_INT_ST_mag'][:]\n",
    "wmag_lat =  var['lat'][:]\n",
    "wmag_lon =  var['lon'][:]\n",
    "wmag, wmag_lat, wmag_lon = extract_from_region(wmag, wmag_lat, wmag_lon, REGION_PERU)\n",
    "wind_nc.close()\n",
    "\n",
    "wind_nf = \"2005_01_winds_vector.nc\"\n",
    "wind_nc =  nc.Dataset(os.path.join(STORE_DIR, PERU, wind_nf))\n",
    "var =  wind_nc.variables\n",
    "vel_u =  var['GSSTFM_3_SET1_INT_ST_vec_u'][:]\n",
    "vel_v =  var['GSSTFM_3_SET1_INT_ST_vec_v'][:]\n",
    "wvel_lat =  var['lat'][:]\n",
    "wvel_lon =  var['lon'][:]\n",
    "U = np.where(vel_u.data==-999, 0, vel_u.data)\n",
    "V = np.where(vel_v.data==-999, 0, vel_v.data)\n",
    "_vel_u, _wvel_lat, _wvel_lon = extract_from_region(U, wvel_lat, wvel_lon, REGION_PERU)\n",
    "_vel_v, _wvel_lat, _wvel_lon = extract_from_region(V, wvel_lat, wvel_lon, REGION_PERU)\n",
    "wind_nc.close()\n",
    "\n",
    "grid_lon, grid_lat = np.meshgrid(wvel_lon, wvel_lat)\n",
    "\n",
    "## Clorofila\n",
    "\n",
    "ch_nf = \"2005_01_CLH_modis_monthly_4km.nc\"\n",
    "ch_nc =  nc.Dataset(os.path.join(STORE_DIR, PERU, ch_nf ))\n",
    "var =  ch_nc.variables\n",
    "chl = var[\"MODISA_L3m_CHL_Mo_4km_R2022_0_chlor_a\"][:]\n",
    "chl_lat =  var['lat'][:]\n",
    "chl_lon =  var['lon'][:]\n",
    "chl, chl_lat, chl_lon = extract_from_region(chl, chl_lat, chl_lon, REGION_PERU)\n",
    "\n",
    "ch_nc.close()\n",
    "\n",
    "chlog_10 = np.log10(chl)\n",
    "levels = [.001, .1, .2, .3, .5, .8, 1, 5, 10, 85]\n",
    "log10_levels = np.log10(levels)# Tick mark positions"
   ]
  },
  {
   "cell_type": "code",
   "execution_count": null,
   "id": "1a08c01c-dc20-46dd-b828-4a14f8ecbc21",
   "metadata": {
    "tags": []
   },
   "outputs": [],
   "source": [
    "fig, axs = plt.subplots(1, 2, subplot_kw={'projection': PlateCarree()}, layout='constrained', figsize=(15, 30), sharex=True, sharey=True)\n",
    "\n",
    "axs[0].set_title(\"SST Mensual (Enero 2005)\")\n",
    "axs[1].set_title(\"Clorofila Mensual (Enero 2005)\")\n",
    "\n",
    "# SST\n",
    "im0 = axs[0].contourf(sst_lon, sst_lat, sst, levels= get_levels(sst), vmin=15, vmax=30, cmap=thermal, zorder=0)\n",
    "divider = make_axes_locatable(axs[0])\n",
    "cax = divider.append_axes('bottom', size='5%', pad=0.4, axes_class=maxes.Axes)\n",
    "cbar0 = fig.colorbar(im0, cax=cax, orientation='horizontal')\n",
    "for label in cbar0.ax.get_xticklabels():\n",
    "    label.set_rotation(45)\n",
    "# CHL\n",
    "im1 = axs[1].contourf(chl_lon, chl_lat,  chlog_10, levels=log10_levels, cmap=algae, vmin=np.log10(chl.min()), vmax=np.log10(chl.max()), extend='both', zorder=0)\n",
    "divider = make_axes_locatable(axs[1])\n",
    "cax = divider.append_axes('bottom', size='5%', pad=0.4, axes_class=maxes.Axes)\n",
    "cbar1 = fig.colorbar(im1, cax=cax, orientation='horizontal')\n",
    "cbar1.ax.set_xticklabels(levels)\n",
    "for label in cbar1.ax.get_xticklabels():\n",
    "    label.set_rotation(45)\n",
    "\n",
    "\n",
    "for i in range(2):\n",
    "    axs[i].set_facecolor('white')\n",
    "    axs[i].add_feature(LAND, facecolor=\"white\", zorder=1)\n",
    "    axs[i].add_feature(COASTLINE, linewidth=0.5)\n",
    "\n",
    "    gl = axs[i].gridlines(crs=PlateCarree(), draw_labels=True, linestyle='--', zorder=0)\n",
    "    gl.yformatter = LATITUDE_FORMATTER\n",
    "    gl.xformatter = LONGITUDE_FORMATTER\n",
    "    gl.right_labels = False\n",
    "    gl.top_labels = False\n",
    "plt.show()"
   ]
  },
  {
   "cell_type": "code",
   "execution_count": null,
   "id": "8811f078-b540-45c0-b54e-7455478771a3",
   "metadata": {
    "tags": []
   },
   "outputs": [],
   "source": [
    "step = 10\n",
    "\n",
    "fig, axs = plt.subplots(1, 1, subplot_kw={'projection': PlateCarree()}, layout='constrained', figsize=(8, 8), sharex=True, sharey=True)\n",
    "axs.set_title(\"Vientos mensual (Enero 2005)\")\n",
    "im2 = axs.contourf(wmag_lon, wmag_lat, wmag, cmap=speed, zorder=0)\n",
    "divider = make_axes_locatable(axs)\n",
    "cax = divider.append_axes('bottom', size='5%', pad=0.4, axes_class=maxes.Axes)\n",
    "cbar2 = fig.colorbar(im2, cax=cax, orientation='horizontal' )\n",
    "for label in cbar2.ax.get_xticklabels():\n",
    "    label.set_rotation(45)\n",
    "    \n",
    "qv = axs.quiver(_wvel_lon[::step], _wvel_lat[::step], _vel_u[:-1, :-1][::step,::step], _vel_v[::step,::step], scale=2, color='k')\n",
    "\n",
    "\n",
    "axs.set_facecolor('white')\n",
    "axs.add_feature(LAND, facecolor=\"white\", zorder=1)\n",
    "axs.add_feature(COASTLINE, linewidth=0.5)\n",
    "\n",
    "gl = axs.gridlines(crs=PlateCarree(), draw_labels=True, linestyle='--', zorder=0)\n",
    "gl.yformatter = LATITUDE_FORMATTER\n",
    "gl.xformatter = LONGITUDE_FORMATTER\n",
    "gl.right_labels = False\n",
    "gl.top_labels = False\n",
    "plt.savefig(\"winds\")\n",
    "plt.show()"
   ]
  },
  {
   "cell_type": "code",
   "execution_count": null,
   "id": "c71127e3-b8d9-423f-bdb5-15f4865297e4",
   "metadata": {
    "tags": []
   },
   "outputs": [],
   "source": [
    "display(Latex(r\"\\mbox{~}\"))"
   ]
  },
  {
   "cell_type": "code",
   "execution_count": null,
   "id": "1b1f08d8-6ef6-466e-9f56-c32b73060f4b",
   "metadata": {
    "tags": []
   },
   "outputs": [],
   "source": [
    "## SST \n",
    "sst_nf = \"2005_04_SST_modis_monthly_4km.nc\"\n",
    "sst_nc =  nc.Dataset(os.path.join(STORE_DIR, PERU, sst_nf))\n",
    "sst_lat = sst_nc.variables[\"lat\"][:]\n",
    "sst_lon = sst_nc.variables[\"lon\"][:]\n",
    "sst_latb = sst_nc.variables[\"lat_bnds\"][:]\n",
    "sst_lonb = sst_nc.variables[\"lon_bnds\"][:]\n",
    "sst = sst_nc.variables[\"MODISA_L3m_SST4_Monthly_4km_R2019_0_sst4\"][:]\n",
    "sst, sst_lat, sst_lon = extract_from_region(sst, sst_lat, sst_lon, REGION_PERU)\n",
    "sst_nc.close()\n",
    "\n",
    "## WIND\n",
    "wind_nf = \"2005_04_winds_magnitude.nc\"\n",
    "wind_nc =  nc.Dataset(os.path.join(STORE_DIR, PERU, wind_nf))\n",
    "var =  wind_nc.variables\n",
    "wmag =  var['GSSTFM_3_SET1_INT_ST_mag'][:]\n",
    "wmag_lat =  var['lat'][:]\n",
    "wmag_lon =  var['lon'][:]\n",
    "wmag, wmag_lat, wmag_lon = extract_from_region(wmag, wmag_lat, wmag_lon, REGION_PERU)\n",
    "wind_nc.close()\n",
    "\n",
    "wind_nf = \"2005_04_winds_vector.nc\"\n",
    "wind_nc =  nc.Dataset(os.path.join(STORE_DIR, PERU, wind_nf))\n",
    "var =  wind_nc.variables\n",
    "vel_u =  var['GSSTFM_3_SET1_INT_ST_vec_u'][:]\n",
    "vel_v =  var['GSSTFM_3_SET1_INT_ST_vec_v'][:]\n",
    "wvel_lat =  var['lat'][:]\n",
    "wvel_lon =  var['lon'][:]\n",
    "U = np.where(vel_u.data==-999, 0, vel_u.data)\n",
    "V = np.where(vel_v.data==-999, 0, vel_v.data)\n",
    "_vel_u, _wvel_lat, _wvel_lon = extract_from_region(U, wvel_lat, wvel_lon, REGION_PERU)\n",
    "_vel_v, _wvel_lat, _wvel_lon = extract_from_region(V, wvel_lat, wvel_lon, REGION_PERU)\n",
    "wind_nc.close()\n",
    "\n",
    "grid_lon, grid_lat = np.meshgrid(wvel_lon, wvel_lat)\n",
    "\n",
    "## Clorofila\n",
    "\n",
    "ch_nf = \"2005_04_CLH_modis_monthly_4km.nc\"\n",
    "ch_nc =  nc.Dataset(os.path.join(STORE_DIR, PERU, ch_nf ))\n",
    "var =  ch_nc.variables\n",
    "chl = var[\"MODISA_L3m_CHL_Mo_4km_R2022_0_chlor_a\"][:]\n",
    "chl_lat =  var['lat'][:]\n",
    "chl_lon =  var['lon'][:]\n",
    "chl, chl_lat, chl_lon = extract_from_region(chl, chl_lat, chl_lon, REGION_PERU)\n",
    "\n",
    "ch_nc.close()\n",
    "\n",
    "chlog_10 = np.log10(chl)\n",
    "levels = [.001, .1, .2, .3, .5, .8, 1, 5, 10, 85]\n",
    "log10_levels = np.log10(levels)# Tick mark positions"
   ]
  },
  {
   "cell_type": "code",
   "execution_count": null,
   "id": "899d5104-d56f-431b-9f58-7a634c460b22",
   "metadata": {
    "tags": []
   },
   "outputs": [],
   "source": [
    "fig, axs = plt.subplots(1, 2, subplot_kw={'projection': PlateCarree()}, layout='constrained', figsize=(15, 15), sharex=True, sharey=True)\n",
    "\n",
    "axs[0].set_title(\"SST Mensual (Abril 2005)\")\n",
    "axs[1].set_title(\"Clorofila Mensual (Abril 2005)\")\n",
    "\n",
    "# SST\n",
    "im0 = axs[0].contourf(sst_lon, sst_lat, sst, levels= get_levels(sst), vmin=15, vmax=30, cmap=thermal, zorder=0)\n",
    "divider = make_axes_locatable(axs[0])\n",
    "cax = divider.append_axes('bottom', size='5%', pad=0.4, axes_class=maxes.Axes)\n",
    "cbar0 = fig.colorbar(im0, cax=cax, orientation='horizontal')\n",
    "for label in cbar0.ax.get_xticklabels():\n",
    "    label.set_rotation(45)\n",
    "# CHL\n",
    "im1 = axs[1].contourf(chl_lon, chl_lat,  chlog_10, levels=log10_levels, cmap=algae, vmin=np.log10(chl.min()), vmax=np.log10(chl.max()), extend='both', zorder=0)\n",
    "divider = make_axes_locatable(axs[1])\n",
    "cax = divider.append_axes('bottom', size='5%', pad=0.4, axes_class=maxes.Axes)\n",
    "cbar1 = fig.colorbar(im1, cax=cax, orientation='horizontal')\n",
    "cbar1.ax.set_xticklabels(levels)\n",
    "for label in cbar1.ax.get_xticklabels():\n",
    "    label.set_rotation(45)\n",
    "\n",
    "for i in range(2):\n",
    "    axs[i].set_facecolor('white')\n",
    "    axs[i].add_feature(LAND, facecolor=\"white\", zorder=1)\n",
    "    axs[i].add_feature(COASTLINE, linewidth=0.5)\n",
    "\n",
    "    gl = axs[i].gridlines(crs=PlateCarree(), draw_labels=True, linestyle='--', zorder=0)\n",
    "    gl.yformatter = LATITUDE_FORMATTER\n",
    "    gl.xformatter = LONGITUDE_FORMATTER\n",
    "    gl.right_labels = False\n",
    "    gl.top_labels = False\n",
    "plt.show()"
   ]
  },
  {
   "cell_type": "code",
   "execution_count": null,
   "id": "c5db2427-8eed-47ea-94f5-ac0c91b637f4",
   "metadata": {
    "tags": []
   },
   "outputs": [],
   "source": [
    "step = 5\n",
    "\n",
    "fig, axs = plt.subplots(1, 1, subplot_kw={'projection': PlateCarree()}, layout='constrained', figsize=(8, 8), sharex=True, sharey=True)\n",
    "axs.set_title(\"Vientos mensual (Abril 2005)\")\n",
    "im2 = axs.contourf(wmag_lon, wmag_lat, wmag, cmap=speed, zorder=0)\n",
    "divider = make_axes_locatable(axs)\n",
    "cax = divider.append_axes('bottom', size='5%', pad=0.4, axes_class=maxes.Axes)\n",
    "cbar2 = fig.colorbar(im2, cax=cax, orientation='horizontal' )\n",
    "for label in cbar2.ax.get_xticklabels():\n",
    "    label.set_rotation(45)\n",
    "    \n",
    "#qv = axs.quiver(grid_lon[::step,::step], grid_lat[::step,::step], vel_u[:-1, :-1][::step,::step], vel_v[::step,::step], scale=900, color='k')\n",
    "qv = axs.quiver(_wvel_lon[::step], _wvel_lat[::step], _vel_u[:-1, :-1][::step,::step], _vel_v[::step,::step], scale=2, color='k')\n",
    "axs.set_facecolor('white')\n",
    "axs.add_feature(LAND, facecolor=\"white\", zorder=1)\n",
    "axs.add_feature(COASTLINE, linewidth=0.5)\n",
    "\n",
    "gl = axs.gridlines(crs=PlateCarree(), draw_labels=True, linestyle='--', zorder=0)\n",
    "gl.yformatter = LATITUDE_FORMATTER\n",
    "gl.xformatter = LONGITUDE_FORMATTER\n",
    "gl.right_labels = False\n",
    "gl.top_labels = False\n",
    "plt.show()\n",
    "plt.show()"
   ]
  }
 ],
 "metadata": {
  "kernelspec": {
   "display_name": "ocean-env",
   "language": "python",
   "name": "ocean-env"
  },
  "language_info": {
   "codemirror_mode": {
    "name": "ipython",
    "version": 3
   },
   "file_extension": ".py",
   "mimetype": "text/x-python",
   "name": "python",
   "nbconvert_exporter": "python",
   "pygments_lexer": "ipython3",
   "version": "3.10.11"
  }
 },
 "nbformat": 4,
 "nbformat_minor": 5
}
